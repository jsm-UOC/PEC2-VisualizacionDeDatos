{
 "cells": [
  {
   "cell_type": "markdown",
   "id": "a4aded2d",
   "metadata": {},
   "source": [
    "# Descripción"
   ]
  },
  {
   "cell_type": "markdown",
   "id": "b223ae5f",
   "metadata": {},
   "source": [
    "Small multiple es un tipo de visualización de datos que consiste en emplear el mismo tipo de gráfico (por ejemplo, uno de barras) para representar distintos subconjuntos de un mismo dataset, manteniendo el significado de los ejes, escalas y escalas de color entre gráficos. Estos gráficos se representan en una red o matriz de diagramas, facilitando comparar los distintos resultados. Por ejemplo, podemos representar el apoyo a las ayudas escolares en EEUU usando gráficos de mapa y representando los resultados por riqueza en el eje horizontal de la matriz y por división demográfica en el vertical (gráfico por Andrew Gelman)."
   ]
  },
  {
   "cell_type": "markdown",
   "id": "a56fb47b",
   "metadata": {},
   "source": [
    "![alternatvie text](https://statmodeling.stat.columbia.edu/wp-content/uploads/2009/07/vouchermapsBAYES2000.png)"
   ]
  },
  {
   "cell_type": "markdown",
   "id": "96e905e1",
   "metadata": {},
   "source": [
    "Debido a que los gráficos son todos semejantes, el usuario puede rápidamente centrarse en encontrar diferencias entre los gráficos, siendo capaz de analizar los cambios en los datos y patrones. Esto los vuelven una herramienta muy útil para el análisis exploratorio de datos. Por ejemplo, podemos representar la distribución del nivel de educación para países de la UE y fácilmente encontrar aquel que tiene menos graduados universitarios en proporción a su población total.\n",
    "\n",
    "Por otro lado, también son gráficos muy útiles a la hora de representar datos donde la granularidad de estos se pierde en una representación sencilla o en los que un gráfico quedaría demasiado aglutinado como para ser legible. Por ejemplo, si representamos la evolución del producto interior bruto de los países de la UE en un mismo gráfico, será difícil seguir todas las representaciones en un mismo diagrama, pudiendo separarlo a un driagrama por país miembro.\n",
    "\n",
    "Sin embargo, hay que tener cuidado con el número de gráficos que creamos, pues un gran número de diagramas puede tener el efecto contrario y que el usuario se pierda entre los gráficos que se muestran. También se debe tener en cuenta cuántos gráficos representamos por cada fila y columna, pues esto afecta a la legibilidad de los gráficos.\n",
    "\n",
    "Por otro lado hay que tener en cuenta que, al mantener la escala y ejes, los gráficos siguen teniendo los defectos que tendrían de manera individual. Por ejemplo, un small multiple diagram de gráficos de barras seguirá viéndose afectado por outliers y un exceso de categorías que mostrar. "
   ]
  },
  {
   "cell_type": "markdown",
   "id": "abaf82a0",
   "metadata": {},
   "source": [
    "# Datos"
   ]
  },
  {
   "cell_type": "markdown",
   "id": "30f62d29",
   "metadata": {},
   "source": [
    "https://www.ine.es/jaxiT3/Datos.htm?t=36780"
   ]
  },
  {
   "cell_type": "markdown",
   "id": "c56195ce",
   "metadata": {},
   "source": [
    "Emplearemos el mismo dataset que utilizamos para los gráficos de barras.\n",
    "\n",
    "Como recordatorio, este dataset representa los datos demográficos de España para distintos niveles de agrupación en un año determinado. En particular, se muestran datos a nivel nacional, de comunidad y de provincia divididos por sexo, nacionalidad, y edad.\n",
    "\n",
    "En este caso, agruparemos la población por nacionalidad y sexo y mostraremos la distribución de la población de las distintas CCAA en 2022 sobre dichas agrupaciones.\n",
    "\n",
    "También mostraremos un small multiple diagram de la distribución de población de España para dichas agrupaciones con el tiempo."
   ]
  },
  {
   "cell_type": "markdown",
   "id": "4e2bc66e",
   "metadata": {},
   "source": [
    "# Leer los datos"
   ]
  },
  {
   "cell_type": "markdown",
   "id": "f3e6fbfc",
   "metadata": {},
   "source": [
    "Reanizamos el mismo preprocesado: un ligero preprocesado de los datos es necesario para leer correctamente el número de individuos como número y simplificar los nombre de las variables categóricas."
   ]
  },
  {
   "cell_type": "code",
   "execution_count": 1,
   "id": "ea1f6fae",
   "metadata": {},
   "outputs": [],
   "source": [
    "import pandas as pd\n",
    "import numpy as np\n",
    "import warnings\n",
    "warnings.filterwarnings(\"ignore\")\n",
    "\n",
    "def create_spanish_demographics():\n",
    "    \n",
    "    # Read data\n",
    "    data = pd.read_csv('36780.csv',sep=';', dtype = str)\n",
    "    \n",
    "    # Fix data\n",
    "    # CCAA names\n",
    "    data['Comunidades y Ciudades Autónomas'] = data['Comunidades y Ciudades Autónomas'].str[3:]\n",
    "    # Province names\n",
    "    data['Provincias'] = data['Provincias'].str[3:]\n",
    "    # Periodo to year\n",
    "    data.Periodo = data.Periodo.str[-4:].astype(int)\n",
    "    # Total to number\n",
    "    data.Total   = data.Total.str.replace('.','').astype(float)\n",
    "    \n",
    "    return data"
   ]
  },
  {
   "cell_type": "code",
   "execution_count": 2,
   "id": "dad16c51",
   "metadata": {},
   "outputs": [
    {
     "data": {
      "text/html": [
       "<div>\n",
       "<style scoped>\n",
       "    .dataframe tbody tr th:only-of-type {\n",
       "        vertical-align: middle;\n",
       "    }\n",
       "\n",
       "    .dataframe tbody tr th {\n",
       "        vertical-align: top;\n",
       "    }\n",
       "\n",
       "    .dataframe thead th {\n",
       "        text-align: right;\n",
       "    }\n",
       "</style>\n",
       "<table border=\"1\" class=\"dataframe\">\n",
       "  <thead>\n",
       "    <tr style=\"text-align: right;\">\n",
       "      <th></th>\n",
       "      <th>Total Nacional</th>\n",
       "      <th>Comunidades y Ciudades Autónomas</th>\n",
       "      <th>Provincias</th>\n",
       "      <th>Españoles/Extranjeros</th>\n",
       "      <th>Edad (año a año)</th>\n",
       "      <th>Sexo</th>\n",
       "      <th>Periodo</th>\n",
       "      <th>Total</th>\n",
       "    </tr>\n",
       "  </thead>\n",
       "  <tbody>\n",
       "    <tr>\n",
       "      <th>0</th>\n",
       "      <td>Total Nacional</td>\n",
       "      <td>NaN</td>\n",
       "      <td>NaN</td>\n",
       "      <td>Total</td>\n",
       "      <td>Todas las edades</td>\n",
       "      <td>Total</td>\n",
       "      <td>2022</td>\n",
       "      <td>47475420.0</td>\n",
       "    </tr>\n",
       "    <tr>\n",
       "      <th>1</th>\n",
       "      <td>Total Nacional</td>\n",
       "      <td>NaN</td>\n",
       "      <td>NaN</td>\n",
       "      <td>Total</td>\n",
       "      <td>Todas las edades</td>\n",
       "      <td>Total</td>\n",
       "      <td>2021</td>\n",
       "      <td>47385107.0</td>\n",
       "    </tr>\n",
       "    <tr>\n",
       "      <th>2</th>\n",
       "      <td>Total Nacional</td>\n",
       "      <td>NaN</td>\n",
       "      <td>NaN</td>\n",
       "      <td>Total</td>\n",
       "      <td>Todas las edades</td>\n",
       "      <td>Total</td>\n",
       "      <td>2020</td>\n",
       "      <td>47450795.0</td>\n",
       "    </tr>\n",
       "    <tr>\n",
       "      <th>3</th>\n",
       "      <td>Total Nacional</td>\n",
       "      <td>NaN</td>\n",
       "      <td>NaN</td>\n",
       "      <td>Total</td>\n",
       "      <td>Todas las edades</td>\n",
       "      <td>Total</td>\n",
       "      <td>2019</td>\n",
       "      <td>47026208.0</td>\n",
       "    </tr>\n",
       "    <tr>\n",
       "      <th>4</th>\n",
       "      <td>Total Nacional</td>\n",
       "      <td>NaN</td>\n",
       "      <td>NaN</td>\n",
       "      <td>Total</td>\n",
       "      <td>Todas las edades</td>\n",
       "      <td>Total</td>\n",
       "      <td>2018</td>\n",
       "      <td>46722980.0</td>\n",
       "    </tr>\n",
       "  </tbody>\n",
       "</table>\n",
       "</div>"
      ],
      "text/plain": [
       "   Total Nacional Comunidades y Ciudades Autónomas Provincias  \\\n",
       "0  Total Nacional                              NaN        NaN   \n",
       "1  Total Nacional                              NaN        NaN   \n",
       "2  Total Nacional                              NaN        NaN   \n",
       "3  Total Nacional                              NaN        NaN   \n",
       "4  Total Nacional                              NaN        NaN   \n",
       "\n",
       "  Españoles/Extranjeros  Edad (año a año)   Sexo  Periodo       Total  \n",
       "0                 Total  Todas las edades  Total     2022  47475420.0  \n",
       "1                 Total  Todas las edades  Total     2021  47385107.0  \n",
       "2                 Total  Todas las edades  Total     2020  47450795.0  \n",
       "3                 Total  Todas las edades  Total     2019  47026208.0  \n",
       "4                 Total  Todas las edades  Total     2018  46722980.0  "
      ]
     },
     "execution_count": 2,
     "metadata": {},
     "output_type": "execute_result"
    }
   ],
   "source": [
    "create_spanish_demographics().head()"
   ]
  },
  {
   "cell_type": "markdown",
   "id": "494e8816",
   "metadata": {},
   "source": [
    "# Agrupar datos"
   ]
  },
  {
   "cell_type": "markdown",
   "id": "dfdeb205",
   "metadata": {},
   "source": [
    "Vamos a representar, por cada CCAA, el numero de habitantes que tiene en las posibles agrupaciones por nacionalidad (Española/Extranjero) y sexo. Esto require construir una nueva tabla de datos realizando las agrupaciones deseadas."
   ]
  },
  {
   "cell_type": "code",
   "execution_count": 11,
   "id": "90c33870",
   "metadata": {},
   "outputs": [],
   "source": [
    "def population_ccaa_grouped(year=2022):\n",
    "    \n",
    "    # Load data\n",
    "    data = create_spanish_demographics()\n",
    "    \n",
    "    # Define new category column\n",
    "    data['Agrupación'] = ['Nacionalidad ' + data['Españoles/Extranjeros'][n].lower() + ' y ' + data['Sexo'][n].lower() for n in range(len(data))]\n",
    "    \n",
    "    # Filter data\n",
    "    # By CCAA\n",
    "    data = data[data['Comunidades y Ciudades Autónomas'].notna()]\n",
    "    # By Province\n",
    "    data = data[data['Provincias'].isna()]\n",
    "    # By nationality\n",
    "    data = data[data['Españoles/Extranjeros'] != 'Total']\n",
    "    # By sex\n",
    "    data = data[data['Sexo'] != 'Total']\n",
    "    # By age\n",
    "    data = data[data['Edad (año a año)'] == 'Todas las edades']\n",
    "    # By year\n",
    "    data = data[data['Periodo'] == year]\n",
    "    \n",
    "    return data"
   ]
  },
  {
   "cell_type": "code",
   "execution_count": 12,
   "id": "e1d409c6",
   "metadata": {},
   "outputs": [
    {
     "data": {
      "text/html": [
       "<div>\n",
       "<style scoped>\n",
       "    .dataframe tbody tr th:only-of-type {\n",
       "        vertical-align: middle;\n",
       "    }\n",
       "\n",
       "    .dataframe tbody tr th {\n",
       "        vertical-align: top;\n",
       "    }\n",
       "\n",
       "    .dataframe thead th {\n",
       "        text-align: right;\n",
       "    }\n",
       "</style>\n",
       "<table border=\"1\" class=\"dataframe\">\n",
       "  <thead>\n",
       "    <tr style=\"text-align: right;\">\n",
       "      <th></th>\n",
       "      <th>Total Nacional</th>\n",
       "      <th>Comunidades y Ciudades Autónomas</th>\n",
       "      <th>Provincias</th>\n",
       "      <th>Españoles/Extranjeros</th>\n",
       "      <th>Edad (año a año)</th>\n",
       "      <th>Sexo</th>\n",
       "      <th>Periodo</th>\n",
       "      <th>Total</th>\n",
       "      <th>Agrupación</th>\n",
       "    </tr>\n",
       "  </thead>\n",
       "  <tbody>\n",
       "    <tr>\n",
       "      <th>24500</th>\n",
       "      <td>Total Nacional</td>\n",
       "      <td>Andalucía</td>\n",
       "      <td>NaN</td>\n",
       "      <td>Española</td>\n",
       "      <td>Todas las edades</td>\n",
       "      <td>Hombres</td>\n",
       "      <td>2022</td>\n",
       "      <td>3812505.0</td>\n",
       "      <td>Nacionalidad española y hombres</td>\n",
       "    </tr>\n",
       "    <tr>\n",
       "      <th>24520</th>\n",
       "      <td>Total Nacional</td>\n",
       "      <td>Andalucía</td>\n",
       "      <td>NaN</td>\n",
       "      <td>Española</td>\n",
       "      <td>Todas las edades</td>\n",
       "      <td>Mujeres</td>\n",
       "      <td>2022</td>\n",
       "      <td>3946304.0</td>\n",
       "      <td>Nacionalidad española y mujeres</td>\n",
       "    </tr>\n",
       "    <tr>\n",
       "      <th>30620</th>\n",
       "      <td>Total Nacional</td>\n",
       "      <td>Andalucía</td>\n",
       "      <td>NaN</td>\n",
       "      <td>Extranjera</td>\n",
       "      <td>Todas las edades</td>\n",
       "      <td>Hombres</td>\n",
       "      <td>2022</td>\n",
       "      <td>375090.0</td>\n",
       "      <td>Nacionalidad extranjera y hombres</td>\n",
       "    </tr>\n",
       "    <tr>\n",
       "      <th>30640</th>\n",
       "      <td>Total Nacional</td>\n",
       "      <td>Andalucía</td>\n",
       "      <td>NaN</td>\n",
       "      <td>Extranjera</td>\n",
       "      <td>Todas las edades</td>\n",
       "      <td>Mujeres</td>\n",
       "      <td>2022</td>\n",
       "      <td>366288.0</td>\n",
       "      <td>Nacionalidad extranjera y mujeres</td>\n",
       "    </tr>\n",
       "    <tr>\n",
       "      <th>189740</th>\n",
       "      <td>Total Nacional</td>\n",
       "      <td>Aragón</td>\n",
       "      <td>NaN</td>\n",
       "      <td>Española</td>\n",
       "      <td>Todas las edades</td>\n",
       "      <td>Hombres</td>\n",
       "      <td>2022</td>\n",
       "      <td>571243.0</td>\n",
       "      <td>Nacionalidad española y hombres</td>\n",
       "    </tr>\n",
       "  </tbody>\n",
       "</table>\n",
       "</div>"
      ],
      "text/plain": [
       "        Total Nacional Comunidades y Ciudades Autónomas Provincias  \\\n",
       "24500   Total Nacional                        Andalucía        NaN   \n",
       "24520   Total Nacional                        Andalucía        NaN   \n",
       "30620   Total Nacional                        Andalucía        NaN   \n",
       "30640   Total Nacional                        Andalucía        NaN   \n",
       "189740  Total Nacional                           Aragón        NaN   \n",
       "\n",
       "       Españoles/Extranjeros  Edad (año a año)     Sexo  Periodo      Total  \\\n",
       "24500               Española  Todas las edades  Hombres     2022  3812505.0   \n",
       "24520               Española  Todas las edades  Mujeres     2022  3946304.0   \n",
       "30620             Extranjera  Todas las edades  Hombres     2022   375090.0   \n",
       "30640             Extranjera  Todas las edades  Mujeres     2022   366288.0   \n",
       "189740              Española  Todas las edades  Hombres     2022   571243.0   \n",
       "\n",
       "                               Agrupación  \n",
       "24500     Nacionalidad española y hombres  \n",
       "24520     Nacionalidad española y mujeres  \n",
       "30620   Nacionalidad extranjera y hombres  \n",
       "30640   Nacionalidad extranjera y mujeres  \n",
       "189740    Nacionalidad española y hombres  "
      ]
     },
     "execution_count": 12,
     "metadata": {},
     "output_type": "execute_result"
    }
   ],
   "source": [
    "population_ccaa_grouped().head()"
   ]
  },
  {
   "cell_type": "markdown",
   "id": "8be3b0e4",
   "metadata": {},
   "source": [
    "# Small multiple - bar plots"
   ]
  },
  {
   "cell_type": "markdown",
   "id": "1805eb98",
   "metadata": {},
   "source": [
    "Generamos ahora un small multiple diagram a base de diagramas de barras que muestren la distribución de población en función de nacionalidad y sexo para cada CCAA. Para ello creamos una función que admite indicar el número de gráficos en cada fila para ver el efecto de este parámetro en la legibilidad del diagrama."
   ]
  },
  {
   "cell_type": "code",
   "execution_count": 41,
   "id": "b3c957e5",
   "metadata": {},
   "outputs": [],
   "source": [
    "import plotly\n",
    "import plotly.express as px\n",
    "\n",
    "def spanish_population_per_ccaa_small_multiple_columns(year=2022, n_cols = 5):\n",
    "    \n",
    "    # Load data\n",
    "    data = population_ccaa_grouped(year)\n",
    "    \n",
    "    # Create bar plot\n",
    "    fig = px.bar(data, x='Agrupación', y='Total',\n",
    "                 facet_col = 'Comunidades y Ciudades Autónomas',\n",
    "                 facet_col_wrap = n_cols,\n",
    "                 title = 'Población por CCAA y agrupación en ' + str(year))\n",
    "    \n",
    "    fig.for_each_annotation(lambda a: a.update(text=a.text.split(\"=\")[-1]))\n",
    "    \n",
    "    # Order figure\n",
    "    fig.update_layout(barmode='stack', xaxis={'categoryorder':'total descending'})\n",
    "    plotly.offline.plot(fig, \n",
    "                        filename='Población por CCAA y agrupación en ' + str(year)+ ' - ' + str(n_cols) + ' cloumnas.html')\n",
    "    \n",
    "    return fig"
   ]
  },
  {
   "cell_type": "code",
   "execution_count": 42,
   "id": "f7c552ea",
   "metadata": {},
   "outputs": [
    {
     "data": {
      "application/vnd.plotly.v1+json": {
       "config": {
        "plotlyServerURL": "https://plot.ly"
       },
       "data": [
        {
         "alignmentgroup": "True",
         "hovertemplate": "Comunidades y Ciudades Autónomas=Andalucía<br>Agrupación=%{x}<br>Total=%{y}<extra></extra>",
         "legendgroup": "",
         "marker": {
          "color": "#636efa",
          "pattern": {
           "shape": ""
          }
         },
         "name": "",
         "offsetgroup": "",
         "orientation": "v",
         "showlegend": false,
         "textposition": "auto",
         "type": "bar",
         "x": [
          "Nacionalidad española y hombres",
          "Nacionalidad española y mujeres",
          "Nacionalidad extranjera y hombres",
          "Nacionalidad extranjera y mujeres"
         ],
         "xaxis": "x16",
         "y": [
          3812505,
          3946304,
          375090,
          366288
         ],
         "yaxis": "y16"
        },
        {
         "alignmentgroup": "True",
         "hovertemplate": "Comunidades y Ciudades Autónomas=Aragón<br>Agrupación=%{x}<br>Total=%{y}<extra></extra>",
         "legendgroup": "",
         "marker": {
          "color": "#636efa",
          "pattern": {
           "shape": ""
          }
         },
         "name": "",
         "offsetgroup": "",
         "orientation": "v",
         "showlegend": false,
         "textposition": "auto",
         "type": "bar",
         "x": [
          "Nacionalidad española y hombres",
          "Nacionalidad española y mujeres",
          "Nacionalidad extranjera y hombres",
          "Nacionalidad extranjera y mujeres"
         ],
         "xaxis": "x17",
         "y": [
          571243,
          590310,
          84233,
          80529
         ],
         "yaxis": "y17"
        },
        {
         "alignmentgroup": "True",
         "hovertemplate": "Comunidades y Ciudades Autónomas=Asturias, Principado de<br>Agrupación=%{x}<br>Total=%{y}<extra></extra>",
         "legendgroup": "",
         "marker": {
          "color": "#636efa",
          "pattern": {
           "shape": ""
          }
         },
         "name": "",
         "offsetgroup": "",
         "orientation": "v",
         "showlegend": false,
         "textposition": "auto",
         "type": "bar",
         "x": [
          "Nacionalidad española y hombres",
          "Nacionalidad española y mujeres",
          "Nacionalidad extranjera y hombres",
          "Nacionalidad extranjera y mujeres"
         ],
         "xaxis": "x18",
         "y": [
          458084,
          500972,
          21050,
          24580
         ],
         "yaxis": "y18"
        },
        {
         "alignmentgroup": "True",
         "hovertemplate": "Comunidades y Ciudades Autónomas=Balears, Illes<br>Agrupación=%{x}<br>Total=%{y}<extra></extra>",
         "legendgroup": "",
         "marker": {
          "color": "#636efa",
          "pattern": {
           "shape": ""
          }
         },
         "name": "",
         "offsetgroup": "",
         "orientation": "v",
         "showlegend": false,
         "textposition": "auto",
         "type": "bar",
         "x": [
          "Nacionalidad española y hombres",
          "Nacionalidad española y mujeres",
          "Nacionalidad extranjera y hombres",
          "Nacionalidad extranjera y mujeres"
         ],
         "xaxis": "x19",
         "y": [
          474021,
          480621,
          111675,
          110342
         ],
         "yaxis": "y19"
        },
        {
         "alignmentgroup": "True",
         "hovertemplate": "Comunidades y Ciudades Autónomas=Canarias<br>Agrupación=%{x}<br>Total=%{y}<extra></extra>",
         "legendgroup": "",
         "marker": {
          "color": "#636efa",
          "pattern": {
           "shape": ""
          }
         },
         "name": "",
         "offsetgroup": "",
         "orientation": "v",
         "showlegend": false,
         "textposition": "auto",
         "type": "bar",
         "x": [
          "Nacionalidad española y hombres",
          "Nacionalidad española y mujeres",
          "Nacionalidad extranjera y hombres",
          "Nacionalidad extranjera y mujeres"
         ],
         "xaxis": "x20",
         "y": [
          932850,
          956362,
          142565,
          145924
         ],
         "yaxis": "y20"
        },
        {
         "alignmentgroup": "True",
         "hovertemplate": "Comunidades y Ciudades Autónomas=Cantabria<br>Agrupación=%{x}<br>Total=%{y}<extra></extra>",
         "legendgroup": "",
         "marker": {
          "color": "#636efa",
          "pattern": {
           "shape": ""
          }
         },
         "name": "",
         "offsetgroup": "",
         "orientation": "v",
         "showlegend": false,
         "textposition": "auto",
         "type": "bar",
         "x": [
          "Nacionalidad española y hombres",
          "Nacionalidad española y mujeres",
          "Nacionalidad extranjera y hombres",
          "Nacionalidad extranjera y mujeres"
         ],
         "xaxis": "x11",
         "y": [
          265907,
          282292,
          17811,
          19392
         ],
         "yaxis": "y11"
        },
        {
         "alignmentgroup": "True",
         "hovertemplate": "Comunidades y Ciudades Autónomas=Castilla y León<br>Agrupación=%{x}<br>Total=%{y}<extra></extra>",
         "legendgroup": "",
         "marker": {
          "color": "#636efa",
          "pattern": {
           "shape": ""
          }
         },
         "name": "",
         "offsetgroup": "",
         "orientation": "v",
         "showlegend": false,
         "textposition": "auto",
         "type": "bar",
         "x": [
          "Nacionalidad española y hombres",
          "Nacionalidad española y mujeres",
          "Nacionalidad extranjera y hombres",
          "Nacionalidad extranjera y mujeres"
         ],
         "xaxis": "x12",
         "y": [
          1095881,
          1130104,
          72002,
          74653
         ],
         "yaxis": "y12"
        },
        {
         "alignmentgroup": "True",
         "hovertemplate": "Comunidades y Ciudades Autónomas=Castilla - La Mancha<br>Agrupación=%{x}<br>Total=%{y}<extra></extra>",
         "legendgroup": "",
         "marker": {
          "color": "#636efa",
          "pattern": {
           "shape": ""
          }
         },
         "name": "",
         "offsetgroup": "",
         "orientation": "v",
         "showlegend": false,
         "textposition": "auto",
         "type": "bar",
         "x": [
          "Nacionalidad española y hombres",
          "Nacionalidad española y mujeres",
          "Nacionalidad extranjera y hombres",
          "Nacionalidad extranjera y mujeres"
         ],
         "xaxis": "x13",
         "y": [
          929397,
          930456,
          98606,
          94869
         ],
         "yaxis": "y13"
        },
        {
         "alignmentgroup": "True",
         "hovertemplate": "Comunidades y Ciudades Autónomas=Cataluña<br>Agrupación=%{x}<br>Total=%{y}<extra></extra>",
         "legendgroup": "",
         "marker": {
          "color": "#636efa",
          "pattern": {
           "shape": ""
          }
         },
         "name": "",
         "offsetgroup": "",
         "orientation": "v",
         "showlegend": false,
         "textposition": "auto",
         "type": "bar",
         "x": [
          "Nacionalidad española y hombres",
          "Nacionalidad española y mujeres",
          "Nacionalidad extranjera y hombres",
          "Nacionalidad extranjera y mujeres"
         ],
         "xaxis": "x14",
         "y": [
          3176747,
          3344054,
          657039,
          614771
         ],
         "yaxis": "y14"
        },
        {
         "alignmentgroup": "True",
         "hovertemplate": "Comunidades y Ciudades Autónomas=Comunitat Valenciana<br>Agrupación=%{x}<br>Total=%{y}<extra></extra>",
         "legendgroup": "",
         "marker": {
          "color": "#636efa",
          "pattern": {
           "shape": ""
          }
         },
         "name": "",
         "offsetgroup": "",
         "orientation": "v",
         "showlegend": false,
         "textposition": "auto",
         "type": "bar",
         "x": [
          "Nacionalidad española y hombres",
          "Nacionalidad española y mujeres",
          "Nacionalidad extranjera y hombres",
          "Nacionalidad extranjera y mujeres"
         ],
         "xaxis": "x15",
         "y": [
          2117021,
          2196477,
          392940,
          391529
         ],
         "yaxis": "y15"
        },
        {
         "alignmentgroup": "True",
         "hovertemplate": "Comunidades y Ciudades Autónomas=Extremadura<br>Agrupación=%{x}<br>Total=%{y}<extra></extra>",
         "legendgroup": "",
         "marker": {
          "color": "#636efa",
          "pattern": {
           "shape": ""
          }
         },
         "name": "",
         "offsetgroup": "",
         "orientation": "v",
         "showlegend": false,
         "textposition": "auto",
         "type": "bar",
         "x": [
          "Nacionalidad española y hombres",
          "Nacionalidad española y mujeres",
          "Nacionalidad extranjera y hombres",
          "Nacionalidad extranjera y mujeres"
         ],
         "xaxis": "x6",
         "y": [
          504519,
          515119,
          16944,
          18194
         ],
         "yaxis": "y6"
        },
        {
         "alignmentgroup": "True",
         "hovertemplate": "Comunidades y Ciudades Autónomas=Galicia<br>Agrupación=%{x}<br>Total=%{y}<extra></extra>",
         "legendgroup": "",
         "marker": {
          "color": "#636efa",
          "pattern": {
           "shape": ""
          }
         },
         "name": "",
         "offsetgroup": "",
         "orientation": "v",
         "showlegend": false,
         "textposition": "auto",
         "type": "bar",
         "x": [
          "Nacionalidad española y hombres",
          "Nacionalidad española y mujeres",
          "Nacionalidad extranjera y hombres",
          "Nacionalidad extranjera y mujeres"
         ],
         "xaxis": "x7",
         "y": [
          1237678,
          1334046,
          57030,
          61710
         ],
         "yaxis": "y7"
        },
        {
         "alignmentgroup": "True",
         "hovertemplate": "Comunidades y Ciudades Autónomas=Madrid, Comunidad de<br>Agrupación=%{x}<br>Total=%{y}<extra></extra>",
         "legendgroup": "",
         "marker": {
          "color": "#636efa",
          "pattern": {
           "shape": ""
          }
         },
         "name": "",
         "offsetgroup": "",
         "orientation": "v",
         "showlegend": false,
         "textposition": "auto",
         "type": "bar",
         "x": [
          "Nacionalidad española y hombres",
          "Nacionalidad española y mujeres",
          "Nacionalidad extranjera y hombres",
          "Nacionalidad extranjera y mujeres"
         ],
         "xaxis": "x8",
         "y": [
          2780057,
          3020310,
          450097,
          499872
         ],
         "yaxis": "y8"
        },
        {
         "alignmentgroup": "True",
         "hovertemplate": "Comunidades y Ciudades Autónomas=Murcia, Región de<br>Agrupación=%{x}<br>Total=%{y}<extra></extra>",
         "legendgroup": "",
         "marker": {
          "color": "#636efa",
          "pattern": {
           "shape": ""
          }
         },
         "name": "",
         "offsetgroup": "",
         "orientation": "v",
         "showlegend": false,
         "textposition": "auto",
         "type": "bar",
         "x": [
          "Nacionalidad española y hombres",
          "Nacionalidad española y mujeres",
          "Nacionalidad extranjera y hombres",
          "Nacionalidad extranjera y mujeres"
         ],
         "xaxis": "x9",
         "y": [
          644830,
          660283,
          122578,
          104187
         ],
         "yaxis": "y9"
        },
        {
         "alignmentgroup": "True",
         "hovertemplate": "Comunidades y Ciudades Autónomas=Navarra, Comunidad Foral de<br>Agrupación=%{x}<br>Total=%{y}<extra></extra>",
         "legendgroup": "",
         "marker": {
          "color": "#636efa",
          "pattern": {
           "shape": ""
          }
         },
         "name": "",
         "offsetgroup": "",
         "orientation": "v",
         "showlegend": false,
         "textposition": "auto",
         "type": "bar",
         "x": [
          "Nacionalidad española y hombres",
          "Nacionalidad española y mujeres",
          "Nacionalidad extranjera y hombres",
          "Nacionalidad extranjera y mujeres"
         ],
         "xaxis": "x10",
         "y": [
          291531,
          299111,
          37089,
          36386
         ],
         "yaxis": "y10"
        },
        {
         "alignmentgroup": "True",
         "hovertemplate": "Comunidades y Ciudades Autónomas=País Vasco<br>Agrupación=%{x}<br>Total=%{y}<extra></extra>",
         "legendgroup": "",
         "marker": {
          "color": "#636efa",
          "pattern": {
           "shape": ""
          }
         },
         "name": "",
         "offsetgroup": "",
         "orientation": "v",
         "showlegend": false,
         "textposition": "auto",
         "type": "bar",
         "x": [
          "Nacionalidad española y hombres",
          "Nacionalidad española y mujeres",
          "Nacionalidad extranjera y hombres",
          "Nacionalidad extranjera y mujeres"
         ],
         "xaxis": "x",
         "y": [
          980673,
          1042884,
          92920,
          91697
         ],
         "yaxis": "y"
        },
        {
         "alignmentgroup": "True",
         "hovertemplate": "Comunidades y Ciudades Autónomas=Rioja, La<br>Agrupación=%{x}<br>Total=%{y}<extra></extra>",
         "legendgroup": "",
         "marker": {
          "color": "#636efa",
          "pattern": {
           "shape": ""
          }
         },
         "name": "",
         "offsetgroup": "",
         "orientation": "v",
         "showlegend": false,
         "textposition": "auto",
         "type": "bar",
         "x": [
          "Nacionalidad española y hombres",
          "Nacionalidad española y mujeres",
          "Nacionalidad extranjera y hombres",
          "Nacionalidad extranjera y mujeres"
         ],
         "xaxis": "x2",
         "y": [
          137163,
          140974,
          20688,
          21067
         ],
         "yaxis": "y2"
        },
        {
         "alignmentgroup": "True",
         "hovertemplate": "Comunidades y Ciudades Autónomas=Ceuta<br>Agrupación=%{x}<br>Total=%{y}<extra></extra>",
         "legendgroup": "",
         "marker": {
          "color": "#636efa",
          "pattern": {
           "shape": ""
          }
         },
         "name": "",
         "offsetgroup": "",
         "orientation": "v",
         "showlegend": false,
         "textposition": "auto",
         "type": "bar",
         "x": [
          "Nacionalidad española y hombres",
          "Nacionalidad española y mujeres",
          "Nacionalidad extranjera y hombres",
          "Nacionalidad extranjera y mujeres"
         ],
         "xaxis": "x3",
         "y": [
          39607,
          38600,
          2320,
          2590
         ],
         "yaxis": "y3"
        },
        {
         "alignmentgroup": "True",
         "hovertemplate": "Comunidades y Ciudades Autónomas=Melilla<br>Agrupación=%{x}<br>Total=%{y}<extra></extra>",
         "legendgroup": "",
         "marker": {
          "color": "#636efa",
          "pattern": {
           "shape": ""
          }
         },
         "name": "",
         "offsetgroup": "",
         "orientation": "v",
         "showlegend": false,
         "textposition": "auto",
         "type": "bar",
         "x": [
          "Nacionalidad española y hombres",
          "Nacionalidad española y mujeres",
          "Nacionalidad extranjera y hombres",
          "Nacionalidad extranjera y mujeres"
         ],
         "xaxis": "x4",
         "y": [
          37453,
          36042,
          5537,
          6138
         ],
         "yaxis": "y4"
        }
       ],
       "layout": {
        "annotations": [
         {
          "font": {},
          "showarrow": false,
          "text": "País Vasco",
          "x": 0.09200000000000001,
          "xanchor": "center",
          "xref": "paper",
          "y": 0.1975,
          "yanchor": "bottom",
          "yref": "paper"
         },
         {
          "font": {},
          "showarrow": false,
          "text": "Rioja, La",
          "x": 0.29600000000000004,
          "xanchor": "center",
          "xref": "paper",
          "y": 0.1975,
          "yanchor": "bottom",
          "yref": "paper"
         },
         {
          "font": {},
          "showarrow": false,
          "text": "Ceuta",
          "x": 0.5,
          "xanchor": "center",
          "xref": "paper",
          "y": 0.1975,
          "yanchor": "bottom",
          "yref": "paper"
         },
         {
          "font": {},
          "showarrow": false,
          "text": "Melilla",
          "x": 0.7040000000000002,
          "xanchor": "center",
          "xref": "paper",
          "y": 0.1975,
          "yanchor": "bottom",
          "yref": "paper"
         },
         {
          "font": {},
          "showarrow": false,
          "text": "Extremadura",
          "x": 0.09200000000000001,
          "xanchor": "center",
          "xref": "paper",
          "y": 0.465,
          "yanchor": "bottom",
          "yref": "paper"
         },
         {
          "font": {},
          "showarrow": false,
          "text": "Galicia",
          "x": 0.29600000000000004,
          "xanchor": "center",
          "xref": "paper",
          "y": 0.465,
          "yanchor": "bottom",
          "yref": "paper"
         },
         {
          "font": {},
          "showarrow": false,
          "text": "Madrid, Comunidad de",
          "x": 0.5,
          "xanchor": "center",
          "xref": "paper",
          "y": 0.465,
          "yanchor": "bottom",
          "yref": "paper"
         },
         {
          "font": {},
          "showarrow": false,
          "text": "Murcia, Región de",
          "x": 0.7040000000000002,
          "xanchor": "center",
          "xref": "paper",
          "y": 0.465,
          "yanchor": "bottom",
          "yref": "paper"
         },
         {
          "font": {},
          "showarrow": false,
          "text": "Navarra, Comunidad Foral de",
          "x": 0.908,
          "xanchor": "center",
          "xref": "paper",
          "y": 0.465,
          "yanchor": "bottom",
          "yref": "paper"
         },
         {
          "font": {},
          "showarrow": false,
          "text": "Cantabria",
          "x": 0.09200000000000001,
          "xanchor": "center",
          "xref": "paper",
          "y": 0.7325,
          "yanchor": "bottom",
          "yref": "paper"
         },
         {
          "font": {},
          "showarrow": false,
          "text": "Castilla y León",
          "x": 0.29600000000000004,
          "xanchor": "center",
          "xref": "paper",
          "y": 0.7325,
          "yanchor": "bottom",
          "yref": "paper"
         },
         {
          "font": {},
          "showarrow": false,
          "text": "Castilla - La Mancha",
          "x": 0.5,
          "xanchor": "center",
          "xref": "paper",
          "y": 0.7325,
          "yanchor": "bottom",
          "yref": "paper"
         },
         {
          "font": {},
          "showarrow": false,
          "text": "Cataluña",
          "x": 0.7040000000000002,
          "xanchor": "center",
          "xref": "paper",
          "y": 0.7325,
          "yanchor": "bottom",
          "yref": "paper"
         },
         {
          "font": {},
          "showarrow": false,
          "text": "Comunitat Valenciana",
          "x": 0.908,
          "xanchor": "center",
          "xref": "paper",
          "y": 0.7325,
          "yanchor": "bottom",
          "yref": "paper"
         },
         {
          "font": {},
          "showarrow": false,
          "text": "Andalucía",
          "x": 0.09200000000000001,
          "xanchor": "center",
          "xref": "paper",
          "y": 1,
          "yanchor": "bottom",
          "yref": "paper"
         },
         {
          "font": {},
          "showarrow": false,
          "text": "Aragón",
          "x": 0.29600000000000004,
          "xanchor": "center",
          "xref": "paper",
          "y": 1,
          "yanchor": "bottom",
          "yref": "paper"
         },
         {
          "font": {},
          "showarrow": false,
          "text": "Asturias, Principado de",
          "x": 0.5,
          "xanchor": "center",
          "xref": "paper",
          "y": 1,
          "yanchor": "bottom",
          "yref": "paper"
         },
         {
          "font": {},
          "showarrow": false,
          "text": "Balears, Illes",
          "x": 0.7040000000000002,
          "xanchor": "center",
          "xref": "paper",
          "y": 1,
          "yanchor": "bottom",
          "yref": "paper"
         },
         {
          "font": {},
          "showarrow": false,
          "text": "Canarias",
          "x": 0.908,
          "xanchor": "center",
          "xref": "paper",
          "y": 1,
          "yanchor": "bottom",
          "yref": "paper"
         }
        ],
        "barmode": "stack",
        "legend": {
         "tracegroupgap": 0
        },
        "template": {
         "data": {
          "bar": [
           {
            "error_x": {
             "color": "#2a3f5f"
            },
            "error_y": {
             "color": "#2a3f5f"
            },
            "marker": {
             "line": {
              "color": "#E5ECF6",
              "width": 0.5
             },
             "pattern": {
              "fillmode": "overlay",
              "size": 10,
              "solidity": 0.2
             }
            },
            "type": "bar"
           }
          ],
          "barpolar": [
           {
            "marker": {
             "line": {
              "color": "#E5ECF6",
              "width": 0.5
             },
             "pattern": {
              "fillmode": "overlay",
              "size": 10,
              "solidity": 0.2
             }
            },
            "type": "barpolar"
           }
          ],
          "carpet": [
           {
            "aaxis": {
             "endlinecolor": "#2a3f5f",
             "gridcolor": "white",
             "linecolor": "white",
             "minorgridcolor": "white",
             "startlinecolor": "#2a3f5f"
            },
            "baxis": {
             "endlinecolor": "#2a3f5f",
             "gridcolor": "white",
             "linecolor": "white",
             "minorgridcolor": "white",
             "startlinecolor": "#2a3f5f"
            },
            "type": "carpet"
           }
          ],
          "choropleth": [
           {
            "colorbar": {
             "outlinewidth": 0,
             "ticks": ""
            },
            "type": "choropleth"
           }
          ],
          "contour": [
           {
            "colorbar": {
             "outlinewidth": 0,
             "ticks": ""
            },
            "colorscale": [
             [
              0,
              "#0d0887"
             ],
             [
              0.1111111111111111,
              "#46039f"
             ],
             [
              0.2222222222222222,
              "#7201a8"
             ],
             [
              0.3333333333333333,
              "#9c179e"
             ],
             [
              0.4444444444444444,
              "#bd3786"
             ],
             [
              0.5555555555555556,
              "#d8576b"
             ],
             [
              0.6666666666666666,
              "#ed7953"
             ],
             [
              0.7777777777777778,
              "#fb9f3a"
             ],
             [
              0.8888888888888888,
              "#fdca26"
             ],
             [
              1,
              "#f0f921"
             ]
            ],
            "type": "contour"
           }
          ],
          "contourcarpet": [
           {
            "colorbar": {
             "outlinewidth": 0,
             "ticks": ""
            },
            "type": "contourcarpet"
           }
          ],
          "heatmap": [
           {
            "colorbar": {
             "outlinewidth": 0,
             "ticks": ""
            },
            "colorscale": [
             [
              0,
              "#0d0887"
             ],
             [
              0.1111111111111111,
              "#46039f"
             ],
             [
              0.2222222222222222,
              "#7201a8"
             ],
             [
              0.3333333333333333,
              "#9c179e"
             ],
             [
              0.4444444444444444,
              "#bd3786"
             ],
             [
              0.5555555555555556,
              "#d8576b"
             ],
             [
              0.6666666666666666,
              "#ed7953"
             ],
             [
              0.7777777777777778,
              "#fb9f3a"
             ],
             [
              0.8888888888888888,
              "#fdca26"
             ],
             [
              1,
              "#f0f921"
             ]
            ],
            "type": "heatmap"
           }
          ],
          "heatmapgl": [
           {
            "colorbar": {
             "outlinewidth": 0,
             "ticks": ""
            },
            "colorscale": [
             [
              0,
              "#0d0887"
             ],
             [
              0.1111111111111111,
              "#46039f"
             ],
             [
              0.2222222222222222,
              "#7201a8"
             ],
             [
              0.3333333333333333,
              "#9c179e"
             ],
             [
              0.4444444444444444,
              "#bd3786"
             ],
             [
              0.5555555555555556,
              "#d8576b"
             ],
             [
              0.6666666666666666,
              "#ed7953"
             ],
             [
              0.7777777777777778,
              "#fb9f3a"
             ],
             [
              0.8888888888888888,
              "#fdca26"
             ],
             [
              1,
              "#f0f921"
             ]
            ],
            "type": "heatmapgl"
           }
          ],
          "histogram": [
           {
            "marker": {
             "pattern": {
              "fillmode": "overlay",
              "size": 10,
              "solidity": 0.2
             }
            },
            "type": "histogram"
           }
          ],
          "histogram2d": [
           {
            "colorbar": {
             "outlinewidth": 0,
             "ticks": ""
            },
            "colorscale": [
             [
              0,
              "#0d0887"
             ],
             [
              0.1111111111111111,
              "#46039f"
             ],
             [
              0.2222222222222222,
              "#7201a8"
             ],
             [
              0.3333333333333333,
              "#9c179e"
             ],
             [
              0.4444444444444444,
              "#bd3786"
             ],
             [
              0.5555555555555556,
              "#d8576b"
             ],
             [
              0.6666666666666666,
              "#ed7953"
             ],
             [
              0.7777777777777778,
              "#fb9f3a"
             ],
             [
              0.8888888888888888,
              "#fdca26"
             ],
             [
              1,
              "#f0f921"
             ]
            ],
            "type": "histogram2d"
           }
          ],
          "histogram2dcontour": [
           {
            "colorbar": {
             "outlinewidth": 0,
             "ticks": ""
            },
            "colorscale": [
             [
              0,
              "#0d0887"
             ],
             [
              0.1111111111111111,
              "#46039f"
             ],
             [
              0.2222222222222222,
              "#7201a8"
             ],
             [
              0.3333333333333333,
              "#9c179e"
             ],
             [
              0.4444444444444444,
              "#bd3786"
             ],
             [
              0.5555555555555556,
              "#d8576b"
             ],
             [
              0.6666666666666666,
              "#ed7953"
             ],
             [
              0.7777777777777778,
              "#fb9f3a"
             ],
             [
              0.8888888888888888,
              "#fdca26"
             ],
             [
              1,
              "#f0f921"
             ]
            ],
            "type": "histogram2dcontour"
           }
          ],
          "mesh3d": [
           {
            "colorbar": {
             "outlinewidth": 0,
             "ticks": ""
            },
            "type": "mesh3d"
           }
          ],
          "parcoords": [
           {
            "line": {
             "colorbar": {
              "outlinewidth": 0,
              "ticks": ""
             }
            },
            "type": "parcoords"
           }
          ],
          "pie": [
           {
            "automargin": true,
            "type": "pie"
           }
          ],
          "scatter": [
           {
            "fillpattern": {
             "fillmode": "overlay",
             "size": 10,
             "solidity": 0.2
            },
            "type": "scatter"
           }
          ],
          "scatter3d": [
           {
            "line": {
             "colorbar": {
              "outlinewidth": 0,
              "ticks": ""
             }
            },
            "marker": {
             "colorbar": {
              "outlinewidth": 0,
              "ticks": ""
             }
            },
            "type": "scatter3d"
           }
          ],
          "scattercarpet": [
           {
            "marker": {
             "colorbar": {
              "outlinewidth": 0,
              "ticks": ""
             }
            },
            "type": "scattercarpet"
           }
          ],
          "scattergeo": [
           {
            "marker": {
             "colorbar": {
              "outlinewidth": 0,
              "ticks": ""
             }
            },
            "type": "scattergeo"
           }
          ],
          "scattergl": [
           {
            "marker": {
             "colorbar": {
              "outlinewidth": 0,
              "ticks": ""
             }
            },
            "type": "scattergl"
           }
          ],
          "scattermapbox": [
           {
            "marker": {
             "colorbar": {
              "outlinewidth": 0,
              "ticks": ""
             }
            },
            "type": "scattermapbox"
           }
          ],
          "scatterpolar": [
           {
            "marker": {
             "colorbar": {
              "outlinewidth": 0,
              "ticks": ""
             }
            },
            "type": "scatterpolar"
           }
          ],
          "scatterpolargl": [
           {
            "marker": {
             "colorbar": {
              "outlinewidth": 0,
              "ticks": ""
             }
            },
            "type": "scatterpolargl"
           }
          ],
          "scatterternary": [
           {
            "marker": {
             "colorbar": {
              "outlinewidth": 0,
              "ticks": ""
             }
            },
            "type": "scatterternary"
           }
          ],
          "surface": [
           {
            "colorbar": {
             "outlinewidth": 0,
             "ticks": ""
            },
            "colorscale": [
             [
              0,
              "#0d0887"
             ],
             [
              0.1111111111111111,
              "#46039f"
             ],
             [
              0.2222222222222222,
              "#7201a8"
             ],
             [
              0.3333333333333333,
              "#9c179e"
             ],
             [
              0.4444444444444444,
              "#bd3786"
             ],
             [
              0.5555555555555556,
              "#d8576b"
             ],
             [
              0.6666666666666666,
              "#ed7953"
             ],
             [
              0.7777777777777778,
              "#fb9f3a"
             ],
             [
              0.8888888888888888,
              "#fdca26"
             ],
             [
              1,
              "#f0f921"
             ]
            ],
            "type": "surface"
           }
          ],
          "table": [
           {
            "cells": {
             "fill": {
              "color": "#EBF0F8"
             },
             "line": {
              "color": "white"
             }
            },
            "header": {
             "fill": {
              "color": "#C8D4E3"
             },
             "line": {
              "color": "white"
             }
            },
            "type": "table"
           }
          ]
         },
         "layout": {
          "annotationdefaults": {
           "arrowcolor": "#2a3f5f",
           "arrowhead": 0,
           "arrowwidth": 1
          },
          "autotypenumbers": "strict",
          "coloraxis": {
           "colorbar": {
            "outlinewidth": 0,
            "ticks": ""
           }
          },
          "colorscale": {
           "diverging": [
            [
             0,
             "#8e0152"
            ],
            [
             0.1,
             "#c51b7d"
            ],
            [
             0.2,
             "#de77ae"
            ],
            [
             0.3,
             "#f1b6da"
            ],
            [
             0.4,
             "#fde0ef"
            ],
            [
             0.5,
             "#f7f7f7"
            ],
            [
             0.6,
             "#e6f5d0"
            ],
            [
             0.7,
             "#b8e186"
            ],
            [
             0.8,
             "#7fbc41"
            ],
            [
             0.9,
             "#4d9221"
            ],
            [
             1,
             "#276419"
            ]
           ],
           "sequential": [
            [
             0,
             "#0d0887"
            ],
            [
             0.1111111111111111,
             "#46039f"
            ],
            [
             0.2222222222222222,
             "#7201a8"
            ],
            [
             0.3333333333333333,
             "#9c179e"
            ],
            [
             0.4444444444444444,
             "#bd3786"
            ],
            [
             0.5555555555555556,
             "#d8576b"
            ],
            [
             0.6666666666666666,
             "#ed7953"
            ],
            [
             0.7777777777777778,
             "#fb9f3a"
            ],
            [
             0.8888888888888888,
             "#fdca26"
            ],
            [
             1,
             "#f0f921"
            ]
           ],
           "sequentialminus": [
            [
             0,
             "#0d0887"
            ],
            [
             0.1111111111111111,
             "#46039f"
            ],
            [
             0.2222222222222222,
             "#7201a8"
            ],
            [
             0.3333333333333333,
             "#9c179e"
            ],
            [
             0.4444444444444444,
             "#bd3786"
            ],
            [
             0.5555555555555556,
             "#d8576b"
            ],
            [
             0.6666666666666666,
             "#ed7953"
            ],
            [
             0.7777777777777778,
             "#fb9f3a"
            ],
            [
             0.8888888888888888,
             "#fdca26"
            ],
            [
             1,
             "#f0f921"
            ]
           ]
          },
          "colorway": [
           "#636efa",
           "#EF553B",
           "#00cc96",
           "#ab63fa",
           "#FFA15A",
           "#19d3f3",
           "#FF6692",
           "#B6E880",
           "#FF97FF",
           "#FECB52"
          ],
          "font": {
           "color": "#2a3f5f"
          },
          "geo": {
           "bgcolor": "white",
           "lakecolor": "white",
           "landcolor": "#E5ECF6",
           "showlakes": true,
           "showland": true,
           "subunitcolor": "white"
          },
          "hoverlabel": {
           "align": "left"
          },
          "hovermode": "closest",
          "mapbox": {
           "style": "light"
          },
          "paper_bgcolor": "white",
          "plot_bgcolor": "#E5ECF6",
          "polar": {
           "angularaxis": {
            "gridcolor": "white",
            "linecolor": "white",
            "ticks": ""
           },
           "bgcolor": "#E5ECF6",
           "radialaxis": {
            "gridcolor": "white",
            "linecolor": "white",
            "ticks": ""
           }
          },
          "scene": {
           "xaxis": {
            "backgroundcolor": "#E5ECF6",
            "gridcolor": "white",
            "gridwidth": 2,
            "linecolor": "white",
            "showbackground": true,
            "ticks": "",
            "zerolinecolor": "white"
           },
           "yaxis": {
            "backgroundcolor": "#E5ECF6",
            "gridcolor": "white",
            "gridwidth": 2,
            "linecolor": "white",
            "showbackground": true,
            "ticks": "",
            "zerolinecolor": "white"
           },
           "zaxis": {
            "backgroundcolor": "#E5ECF6",
            "gridcolor": "white",
            "gridwidth": 2,
            "linecolor": "white",
            "showbackground": true,
            "ticks": "",
            "zerolinecolor": "white"
           }
          },
          "shapedefaults": {
           "line": {
            "color": "#2a3f5f"
           }
          },
          "ternary": {
           "aaxis": {
            "gridcolor": "white",
            "linecolor": "white",
            "ticks": ""
           },
           "baxis": {
            "gridcolor": "white",
            "linecolor": "white",
            "ticks": ""
           },
           "bgcolor": "#E5ECF6",
           "caxis": {
            "gridcolor": "white",
            "linecolor": "white",
            "ticks": ""
           }
          },
          "title": {
           "x": 0.05
          },
          "xaxis": {
           "automargin": true,
           "gridcolor": "white",
           "linecolor": "white",
           "ticks": "",
           "title": {
            "standoff": 15
           },
           "zerolinecolor": "white",
           "zerolinewidth": 2
          },
          "yaxis": {
           "automargin": true,
           "gridcolor": "white",
           "linecolor": "white",
           "ticks": "",
           "title": {
            "standoff": 15
           },
           "zerolinecolor": "white",
           "zerolinewidth": 2
          }
         }
        },
        "title": {
         "text": "Población por CCAA y agrupación en 2022"
        },
        "xaxis": {
         "anchor": "y",
         "categoryorder": "total descending",
         "domain": [
          0,
          0.18400000000000002
         ],
         "title": {
          "text": "Agrupación"
         }
        },
        "xaxis10": {
         "anchor": "y10",
         "domain": [
          0.8160000000000001,
          1
         ],
         "matches": "x",
         "showticklabels": false
        },
        "xaxis11": {
         "anchor": "y11",
         "domain": [
          0,
          0.18400000000000002
         ],
         "matches": "x",
         "showticklabels": false
        },
        "xaxis12": {
         "anchor": "y12",
         "domain": [
          0.20400000000000001,
          0.388
         ],
         "matches": "x",
         "showticklabels": false
        },
        "xaxis13": {
         "anchor": "y13",
         "domain": [
          0.40800000000000003,
          0.5920000000000001
         ],
         "matches": "x",
         "showticklabels": false
        },
        "xaxis14": {
         "anchor": "y14",
         "domain": [
          0.6120000000000001,
          0.7960000000000002
         ],
         "matches": "x",
         "showticklabels": false
        },
        "xaxis15": {
         "anchor": "y15",
         "domain": [
          0.8160000000000001,
          1
         ],
         "matches": "x",
         "showticklabels": false
        },
        "xaxis16": {
         "anchor": "y16",
         "domain": [
          0,
          0.18400000000000002
         ],
         "matches": "x",
         "showticklabels": false
        },
        "xaxis17": {
         "anchor": "y17",
         "domain": [
          0.20400000000000001,
          0.388
         ],
         "matches": "x",
         "showticklabels": false
        },
        "xaxis18": {
         "anchor": "y18",
         "domain": [
          0.40800000000000003,
          0.5920000000000001
         ],
         "matches": "x",
         "showticklabels": false
        },
        "xaxis19": {
         "anchor": "y19",
         "domain": [
          0.6120000000000001,
          0.7960000000000002
         ],
         "matches": "x",
         "showticklabels": false
        },
        "xaxis2": {
         "anchor": "y2",
         "domain": [
          0.20400000000000001,
          0.388
         ],
         "matches": "x",
         "title": {
          "text": "Agrupación"
         }
        },
        "xaxis20": {
         "anchor": "y20",
         "domain": [
          0.8160000000000001,
          1
         ],
         "matches": "x",
         "showticklabels": false
        },
        "xaxis3": {
         "anchor": "y3",
         "domain": [
          0.40800000000000003,
          0.5920000000000001
         ],
         "matches": "x",
         "title": {
          "text": "Agrupación"
         }
        },
        "xaxis4": {
         "anchor": "y4",
         "domain": [
          0.6120000000000001,
          0.7960000000000002
         ],
         "matches": "x",
         "title": {
          "text": "Agrupación"
         }
        },
        "xaxis5": {
         "anchor": "y5",
         "domain": [
          0.8160000000000001,
          1
         ],
         "matches": "x",
         "title": {
          "text": "Agrupación"
         }
        },
        "xaxis6": {
         "anchor": "y6",
         "domain": [
          0,
          0.18400000000000002
         ],
         "matches": "x",
         "showticklabels": false
        },
        "xaxis7": {
         "anchor": "y7",
         "domain": [
          0.20400000000000001,
          0.388
         ],
         "matches": "x",
         "showticklabels": false
        },
        "xaxis8": {
         "anchor": "y8",
         "domain": [
          0.40800000000000003,
          0.5920000000000001
         ],
         "matches": "x",
         "showticklabels": false
        },
        "xaxis9": {
         "anchor": "y9",
         "domain": [
          0.6120000000000001,
          0.7960000000000002
         ],
         "matches": "x",
         "showticklabels": false
        },
        "yaxis": {
         "anchor": "x",
         "domain": [
          0,
          0.1975
         ],
         "title": {
          "text": "Total"
         }
        },
        "yaxis10": {
         "anchor": "x10",
         "domain": [
          0.2675,
          0.465
         ],
         "matches": "y",
         "showticklabels": false
        },
        "yaxis11": {
         "anchor": "x11",
         "domain": [
          0.535,
          0.7325
         ],
         "matches": "y",
         "title": {
          "text": "Total"
         }
        },
        "yaxis12": {
         "anchor": "x12",
         "domain": [
          0.535,
          0.7325
         ],
         "matches": "y",
         "showticklabels": false
        },
        "yaxis13": {
         "anchor": "x13",
         "domain": [
          0.535,
          0.7325
         ],
         "matches": "y",
         "showticklabels": false
        },
        "yaxis14": {
         "anchor": "x14",
         "domain": [
          0.535,
          0.7325
         ],
         "matches": "y",
         "showticklabels": false
        },
        "yaxis15": {
         "anchor": "x15",
         "domain": [
          0.535,
          0.7325
         ],
         "matches": "y",
         "showticklabels": false
        },
        "yaxis16": {
         "anchor": "x16",
         "domain": [
          0.8025,
          1
         ],
         "matches": "y",
         "title": {
          "text": "Total"
         }
        },
        "yaxis17": {
         "anchor": "x17",
         "domain": [
          0.8025,
          1
         ],
         "matches": "y",
         "showticklabels": false
        },
        "yaxis18": {
         "anchor": "x18",
         "domain": [
          0.8025,
          1
         ],
         "matches": "y",
         "showticklabels": false
        },
        "yaxis19": {
         "anchor": "x19",
         "domain": [
          0.8025,
          1
         ],
         "matches": "y",
         "showticklabels": false
        },
        "yaxis2": {
         "anchor": "x2",
         "domain": [
          0,
          0.1975
         ],
         "matches": "y",
         "showticklabels": false
        },
        "yaxis20": {
         "anchor": "x20",
         "domain": [
          0.8025,
          1
         ],
         "matches": "y",
         "showticklabels": false
        },
        "yaxis3": {
         "anchor": "x3",
         "domain": [
          0,
          0.1975
         ],
         "matches": "y",
         "showticklabels": false
        },
        "yaxis4": {
         "anchor": "x4",
         "domain": [
          0,
          0.1975
         ],
         "matches": "y",
         "showticklabels": false
        },
        "yaxis5": {
         "anchor": "x5",
         "domain": [
          0,
          0.1975
         ],
         "matches": "y",
         "showticklabels": false
        },
        "yaxis6": {
         "anchor": "x6",
         "domain": [
          0.2675,
          0.465
         ],
         "matches": "y",
         "title": {
          "text": "Total"
         }
        },
        "yaxis7": {
         "anchor": "x7",
         "domain": [
          0.2675,
          0.465
         ],
         "matches": "y",
         "showticklabels": false
        },
        "yaxis8": {
         "anchor": "x8",
         "domain": [
          0.2675,
          0.465
         ],
         "matches": "y",
         "showticklabels": false
        },
        "yaxis9": {
         "anchor": "x9",
         "domain": [
          0.2675,
          0.465
         ],
         "matches": "y",
         "showticklabels": false
        }
       }
      },
      "text/html": [
       "<div>                            <div id=\"03c08a9a-9fb1-43ee-9344-494de85e572c\" class=\"plotly-graph-div\" style=\"height:525px; width:100%;\"></div>            <script type=\"text/javascript\">                require([\"plotly\"], function(Plotly) {                    window.PLOTLYENV=window.PLOTLYENV || {};                                    if (document.getElementById(\"03c08a9a-9fb1-43ee-9344-494de85e572c\")) {                    Plotly.newPlot(                        \"03c08a9a-9fb1-43ee-9344-494de85e572c\",                        [{\"alignmentgroup\":\"True\",\"hovertemplate\":\"Comunidades y Ciudades Aut\\u00f3nomas=Andaluc\\u00eda<br>Agrupaci\\u00f3n=%{x}<br>Total=%{y}<extra></extra>\",\"legendgroup\":\"\",\"marker\":{\"color\":\"#636efa\",\"pattern\":{\"shape\":\"\"}},\"name\":\"\",\"offsetgroup\":\"\",\"orientation\":\"v\",\"showlegend\":false,\"textposition\":\"auto\",\"x\":[\"Nacionalidad espa\\u00f1ola y hombres\",\"Nacionalidad espa\\u00f1ola y mujeres\",\"Nacionalidad extranjera y hombres\",\"Nacionalidad extranjera y mujeres\"],\"xaxis\":\"x16\",\"y\":[3812505.0,3946304.0,375090.0,366288.0],\"yaxis\":\"y16\",\"type\":\"bar\"},{\"alignmentgroup\":\"True\",\"hovertemplate\":\"Comunidades y Ciudades Aut\\u00f3nomas=Arag\\u00f3n<br>Agrupaci\\u00f3n=%{x}<br>Total=%{y}<extra></extra>\",\"legendgroup\":\"\",\"marker\":{\"color\":\"#636efa\",\"pattern\":{\"shape\":\"\"}},\"name\":\"\",\"offsetgroup\":\"\",\"orientation\":\"v\",\"showlegend\":false,\"textposition\":\"auto\",\"x\":[\"Nacionalidad espa\\u00f1ola y hombres\",\"Nacionalidad espa\\u00f1ola y mujeres\",\"Nacionalidad extranjera y hombres\",\"Nacionalidad extranjera y mujeres\"],\"xaxis\":\"x17\",\"y\":[571243.0,590310.0,84233.0,80529.0],\"yaxis\":\"y17\",\"type\":\"bar\"},{\"alignmentgroup\":\"True\",\"hovertemplate\":\"Comunidades y Ciudades Aut\\u00f3nomas=Asturias, Principado de<br>Agrupaci\\u00f3n=%{x}<br>Total=%{y}<extra></extra>\",\"legendgroup\":\"\",\"marker\":{\"color\":\"#636efa\",\"pattern\":{\"shape\":\"\"}},\"name\":\"\",\"offsetgroup\":\"\",\"orientation\":\"v\",\"showlegend\":false,\"textposition\":\"auto\",\"x\":[\"Nacionalidad espa\\u00f1ola y hombres\",\"Nacionalidad espa\\u00f1ola y mujeres\",\"Nacionalidad extranjera y hombres\",\"Nacionalidad extranjera y mujeres\"],\"xaxis\":\"x18\",\"y\":[458084.0,500972.0,21050.0,24580.0],\"yaxis\":\"y18\",\"type\":\"bar\"},{\"alignmentgroup\":\"True\",\"hovertemplate\":\"Comunidades y Ciudades Aut\\u00f3nomas=Balears, Illes<br>Agrupaci\\u00f3n=%{x}<br>Total=%{y}<extra></extra>\",\"legendgroup\":\"\",\"marker\":{\"color\":\"#636efa\",\"pattern\":{\"shape\":\"\"}},\"name\":\"\",\"offsetgroup\":\"\",\"orientation\":\"v\",\"showlegend\":false,\"textposition\":\"auto\",\"x\":[\"Nacionalidad espa\\u00f1ola y hombres\",\"Nacionalidad espa\\u00f1ola y mujeres\",\"Nacionalidad extranjera y hombres\",\"Nacionalidad extranjera y mujeres\"],\"xaxis\":\"x19\",\"y\":[474021.0,480621.0,111675.0,110342.0],\"yaxis\":\"y19\",\"type\":\"bar\"},{\"alignmentgroup\":\"True\",\"hovertemplate\":\"Comunidades y Ciudades Aut\\u00f3nomas=Canarias<br>Agrupaci\\u00f3n=%{x}<br>Total=%{y}<extra></extra>\",\"legendgroup\":\"\",\"marker\":{\"color\":\"#636efa\",\"pattern\":{\"shape\":\"\"}},\"name\":\"\",\"offsetgroup\":\"\",\"orientation\":\"v\",\"showlegend\":false,\"textposition\":\"auto\",\"x\":[\"Nacionalidad espa\\u00f1ola y hombres\",\"Nacionalidad espa\\u00f1ola y mujeres\",\"Nacionalidad extranjera y hombres\",\"Nacionalidad extranjera y mujeres\"],\"xaxis\":\"x20\",\"y\":[932850.0,956362.0,142565.0,145924.0],\"yaxis\":\"y20\",\"type\":\"bar\"},{\"alignmentgroup\":\"True\",\"hovertemplate\":\"Comunidades y Ciudades Aut\\u00f3nomas=Cantabria<br>Agrupaci\\u00f3n=%{x}<br>Total=%{y}<extra></extra>\",\"legendgroup\":\"\",\"marker\":{\"color\":\"#636efa\",\"pattern\":{\"shape\":\"\"}},\"name\":\"\",\"offsetgroup\":\"\",\"orientation\":\"v\",\"showlegend\":false,\"textposition\":\"auto\",\"x\":[\"Nacionalidad espa\\u00f1ola y hombres\",\"Nacionalidad espa\\u00f1ola y mujeres\",\"Nacionalidad extranjera y hombres\",\"Nacionalidad extranjera y mujeres\"],\"xaxis\":\"x11\",\"y\":[265907.0,282292.0,17811.0,19392.0],\"yaxis\":\"y11\",\"type\":\"bar\"},{\"alignmentgroup\":\"True\",\"hovertemplate\":\"Comunidades y Ciudades Aut\\u00f3nomas=Castilla y Le\\u00f3n<br>Agrupaci\\u00f3n=%{x}<br>Total=%{y}<extra></extra>\",\"legendgroup\":\"\",\"marker\":{\"color\":\"#636efa\",\"pattern\":{\"shape\":\"\"}},\"name\":\"\",\"offsetgroup\":\"\",\"orientation\":\"v\",\"showlegend\":false,\"textposition\":\"auto\",\"x\":[\"Nacionalidad espa\\u00f1ola y hombres\",\"Nacionalidad espa\\u00f1ola y mujeres\",\"Nacionalidad extranjera y hombres\",\"Nacionalidad extranjera y mujeres\"],\"xaxis\":\"x12\",\"y\":[1095881.0,1130104.0,72002.0,74653.0],\"yaxis\":\"y12\",\"type\":\"bar\"},{\"alignmentgroup\":\"True\",\"hovertemplate\":\"Comunidades y Ciudades Aut\\u00f3nomas=Castilla - La Mancha<br>Agrupaci\\u00f3n=%{x}<br>Total=%{y}<extra></extra>\",\"legendgroup\":\"\",\"marker\":{\"color\":\"#636efa\",\"pattern\":{\"shape\":\"\"}},\"name\":\"\",\"offsetgroup\":\"\",\"orientation\":\"v\",\"showlegend\":false,\"textposition\":\"auto\",\"x\":[\"Nacionalidad espa\\u00f1ola y hombres\",\"Nacionalidad espa\\u00f1ola y mujeres\",\"Nacionalidad extranjera y hombres\",\"Nacionalidad extranjera y mujeres\"],\"xaxis\":\"x13\",\"y\":[929397.0,930456.0,98606.0,94869.0],\"yaxis\":\"y13\",\"type\":\"bar\"},{\"alignmentgroup\":\"True\",\"hovertemplate\":\"Comunidades y Ciudades Aut\\u00f3nomas=Catalu\\u00f1a<br>Agrupaci\\u00f3n=%{x}<br>Total=%{y}<extra></extra>\",\"legendgroup\":\"\",\"marker\":{\"color\":\"#636efa\",\"pattern\":{\"shape\":\"\"}},\"name\":\"\",\"offsetgroup\":\"\",\"orientation\":\"v\",\"showlegend\":false,\"textposition\":\"auto\",\"x\":[\"Nacionalidad espa\\u00f1ola y hombres\",\"Nacionalidad espa\\u00f1ola y mujeres\",\"Nacionalidad extranjera y hombres\",\"Nacionalidad extranjera y mujeres\"],\"xaxis\":\"x14\",\"y\":[3176747.0,3344054.0,657039.0,614771.0],\"yaxis\":\"y14\",\"type\":\"bar\"},{\"alignmentgroup\":\"True\",\"hovertemplate\":\"Comunidades y Ciudades Aut\\u00f3nomas=Comunitat Valenciana<br>Agrupaci\\u00f3n=%{x}<br>Total=%{y}<extra></extra>\",\"legendgroup\":\"\",\"marker\":{\"color\":\"#636efa\",\"pattern\":{\"shape\":\"\"}},\"name\":\"\",\"offsetgroup\":\"\",\"orientation\":\"v\",\"showlegend\":false,\"textposition\":\"auto\",\"x\":[\"Nacionalidad espa\\u00f1ola y hombres\",\"Nacionalidad espa\\u00f1ola y mujeres\",\"Nacionalidad extranjera y hombres\",\"Nacionalidad extranjera y mujeres\"],\"xaxis\":\"x15\",\"y\":[2117021.0,2196477.0,392940.0,391529.0],\"yaxis\":\"y15\",\"type\":\"bar\"},{\"alignmentgroup\":\"True\",\"hovertemplate\":\"Comunidades y Ciudades Aut\\u00f3nomas=Extremadura<br>Agrupaci\\u00f3n=%{x}<br>Total=%{y}<extra></extra>\",\"legendgroup\":\"\",\"marker\":{\"color\":\"#636efa\",\"pattern\":{\"shape\":\"\"}},\"name\":\"\",\"offsetgroup\":\"\",\"orientation\":\"v\",\"showlegend\":false,\"textposition\":\"auto\",\"x\":[\"Nacionalidad espa\\u00f1ola y hombres\",\"Nacionalidad espa\\u00f1ola y mujeres\",\"Nacionalidad extranjera y hombres\",\"Nacionalidad extranjera y mujeres\"],\"xaxis\":\"x6\",\"y\":[504519.0,515119.0,16944.0,18194.0],\"yaxis\":\"y6\",\"type\":\"bar\"},{\"alignmentgroup\":\"True\",\"hovertemplate\":\"Comunidades y Ciudades Aut\\u00f3nomas=Galicia<br>Agrupaci\\u00f3n=%{x}<br>Total=%{y}<extra></extra>\",\"legendgroup\":\"\",\"marker\":{\"color\":\"#636efa\",\"pattern\":{\"shape\":\"\"}},\"name\":\"\",\"offsetgroup\":\"\",\"orientation\":\"v\",\"showlegend\":false,\"textposition\":\"auto\",\"x\":[\"Nacionalidad espa\\u00f1ola y hombres\",\"Nacionalidad espa\\u00f1ola y mujeres\",\"Nacionalidad extranjera y hombres\",\"Nacionalidad extranjera y mujeres\"],\"xaxis\":\"x7\",\"y\":[1237678.0,1334046.0,57030.0,61710.0],\"yaxis\":\"y7\",\"type\":\"bar\"},{\"alignmentgroup\":\"True\",\"hovertemplate\":\"Comunidades y Ciudades Aut\\u00f3nomas=Madrid, Comunidad de<br>Agrupaci\\u00f3n=%{x}<br>Total=%{y}<extra></extra>\",\"legendgroup\":\"\",\"marker\":{\"color\":\"#636efa\",\"pattern\":{\"shape\":\"\"}},\"name\":\"\",\"offsetgroup\":\"\",\"orientation\":\"v\",\"showlegend\":false,\"textposition\":\"auto\",\"x\":[\"Nacionalidad espa\\u00f1ola y hombres\",\"Nacionalidad espa\\u00f1ola y mujeres\",\"Nacionalidad extranjera y hombres\",\"Nacionalidad extranjera y mujeres\"],\"xaxis\":\"x8\",\"y\":[2780057.0,3020310.0,450097.0,499872.0],\"yaxis\":\"y8\",\"type\":\"bar\"},{\"alignmentgroup\":\"True\",\"hovertemplate\":\"Comunidades y Ciudades Aut\\u00f3nomas=Murcia, Regi\\u00f3n de<br>Agrupaci\\u00f3n=%{x}<br>Total=%{y}<extra></extra>\",\"legendgroup\":\"\",\"marker\":{\"color\":\"#636efa\",\"pattern\":{\"shape\":\"\"}},\"name\":\"\",\"offsetgroup\":\"\",\"orientation\":\"v\",\"showlegend\":false,\"textposition\":\"auto\",\"x\":[\"Nacionalidad espa\\u00f1ola y hombres\",\"Nacionalidad espa\\u00f1ola y mujeres\",\"Nacionalidad extranjera y hombres\",\"Nacionalidad extranjera y mujeres\"],\"xaxis\":\"x9\",\"y\":[644830.0,660283.0,122578.0,104187.0],\"yaxis\":\"y9\",\"type\":\"bar\"},{\"alignmentgroup\":\"True\",\"hovertemplate\":\"Comunidades y Ciudades Aut\\u00f3nomas=Navarra, Comunidad Foral de<br>Agrupaci\\u00f3n=%{x}<br>Total=%{y}<extra></extra>\",\"legendgroup\":\"\",\"marker\":{\"color\":\"#636efa\",\"pattern\":{\"shape\":\"\"}},\"name\":\"\",\"offsetgroup\":\"\",\"orientation\":\"v\",\"showlegend\":false,\"textposition\":\"auto\",\"x\":[\"Nacionalidad espa\\u00f1ola y hombres\",\"Nacionalidad espa\\u00f1ola y mujeres\",\"Nacionalidad extranjera y hombres\",\"Nacionalidad extranjera y mujeres\"],\"xaxis\":\"x10\",\"y\":[291531.0,299111.0,37089.0,36386.0],\"yaxis\":\"y10\",\"type\":\"bar\"},{\"alignmentgroup\":\"True\",\"hovertemplate\":\"Comunidades y Ciudades Aut\\u00f3nomas=Pa\\u00eds Vasco<br>Agrupaci\\u00f3n=%{x}<br>Total=%{y}<extra></extra>\",\"legendgroup\":\"\",\"marker\":{\"color\":\"#636efa\",\"pattern\":{\"shape\":\"\"}},\"name\":\"\",\"offsetgroup\":\"\",\"orientation\":\"v\",\"showlegend\":false,\"textposition\":\"auto\",\"x\":[\"Nacionalidad espa\\u00f1ola y hombres\",\"Nacionalidad espa\\u00f1ola y mujeres\",\"Nacionalidad extranjera y hombres\",\"Nacionalidad extranjera y mujeres\"],\"xaxis\":\"x\",\"y\":[980673.0,1042884.0,92920.0,91697.0],\"yaxis\":\"y\",\"type\":\"bar\"},{\"alignmentgroup\":\"True\",\"hovertemplate\":\"Comunidades y Ciudades Aut\\u00f3nomas=Rioja, La<br>Agrupaci\\u00f3n=%{x}<br>Total=%{y}<extra></extra>\",\"legendgroup\":\"\",\"marker\":{\"color\":\"#636efa\",\"pattern\":{\"shape\":\"\"}},\"name\":\"\",\"offsetgroup\":\"\",\"orientation\":\"v\",\"showlegend\":false,\"textposition\":\"auto\",\"x\":[\"Nacionalidad espa\\u00f1ola y hombres\",\"Nacionalidad espa\\u00f1ola y mujeres\",\"Nacionalidad extranjera y hombres\",\"Nacionalidad extranjera y mujeres\"],\"xaxis\":\"x2\",\"y\":[137163.0,140974.0,20688.0,21067.0],\"yaxis\":\"y2\",\"type\":\"bar\"},{\"alignmentgroup\":\"True\",\"hovertemplate\":\"Comunidades y Ciudades Aut\\u00f3nomas=Ceuta<br>Agrupaci\\u00f3n=%{x}<br>Total=%{y}<extra></extra>\",\"legendgroup\":\"\",\"marker\":{\"color\":\"#636efa\",\"pattern\":{\"shape\":\"\"}},\"name\":\"\",\"offsetgroup\":\"\",\"orientation\":\"v\",\"showlegend\":false,\"textposition\":\"auto\",\"x\":[\"Nacionalidad espa\\u00f1ola y hombres\",\"Nacionalidad espa\\u00f1ola y mujeres\",\"Nacionalidad extranjera y hombres\",\"Nacionalidad extranjera y mujeres\"],\"xaxis\":\"x3\",\"y\":[39607.0,38600.0,2320.0,2590.0],\"yaxis\":\"y3\",\"type\":\"bar\"},{\"alignmentgroup\":\"True\",\"hovertemplate\":\"Comunidades y Ciudades Aut\\u00f3nomas=Melilla<br>Agrupaci\\u00f3n=%{x}<br>Total=%{y}<extra></extra>\",\"legendgroup\":\"\",\"marker\":{\"color\":\"#636efa\",\"pattern\":{\"shape\":\"\"}},\"name\":\"\",\"offsetgroup\":\"\",\"orientation\":\"v\",\"showlegend\":false,\"textposition\":\"auto\",\"x\":[\"Nacionalidad espa\\u00f1ola y hombres\",\"Nacionalidad espa\\u00f1ola y mujeres\",\"Nacionalidad extranjera y hombres\",\"Nacionalidad extranjera y mujeres\"],\"xaxis\":\"x4\",\"y\":[37453.0,36042.0,5537.0,6138.0],\"yaxis\":\"y4\",\"type\":\"bar\"}],                        {\"template\":{\"data\":{\"histogram2dcontour\":[{\"type\":\"histogram2dcontour\",\"colorbar\":{\"outlinewidth\":0,\"ticks\":\"\"},\"colorscale\":[[0.0,\"#0d0887\"],[0.1111111111111111,\"#46039f\"],[0.2222222222222222,\"#7201a8\"],[0.3333333333333333,\"#9c179e\"],[0.4444444444444444,\"#bd3786\"],[0.5555555555555556,\"#d8576b\"],[0.6666666666666666,\"#ed7953\"],[0.7777777777777778,\"#fb9f3a\"],[0.8888888888888888,\"#fdca26\"],[1.0,\"#f0f921\"]]}],\"choropleth\":[{\"type\":\"choropleth\",\"colorbar\":{\"outlinewidth\":0,\"ticks\":\"\"}}],\"histogram2d\":[{\"type\":\"histogram2d\",\"colorbar\":{\"outlinewidth\":0,\"ticks\":\"\"},\"colorscale\":[[0.0,\"#0d0887\"],[0.1111111111111111,\"#46039f\"],[0.2222222222222222,\"#7201a8\"],[0.3333333333333333,\"#9c179e\"],[0.4444444444444444,\"#bd3786\"],[0.5555555555555556,\"#d8576b\"],[0.6666666666666666,\"#ed7953\"],[0.7777777777777778,\"#fb9f3a\"],[0.8888888888888888,\"#fdca26\"],[1.0,\"#f0f921\"]]}],\"heatmap\":[{\"type\":\"heatmap\",\"colorbar\":{\"outlinewidth\":0,\"ticks\":\"\"},\"colorscale\":[[0.0,\"#0d0887\"],[0.1111111111111111,\"#46039f\"],[0.2222222222222222,\"#7201a8\"],[0.3333333333333333,\"#9c179e\"],[0.4444444444444444,\"#bd3786\"],[0.5555555555555556,\"#d8576b\"],[0.6666666666666666,\"#ed7953\"],[0.7777777777777778,\"#fb9f3a\"],[0.8888888888888888,\"#fdca26\"],[1.0,\"#f0f921\"]]}],\"heatmapgl\":[{\"type\":\"heatmapgl\",\"colorbar\":{\"outlinewidth\":0,\"ticks\":\"\"},\"colorscale\":[[0.0,\"#0d0887\"],[0.1111111111111111,\"#46039f\"],[0.2222222222222222,\"#7201a8\"],[0.3333333333333333,\"#9c179e\"],[0.4444444444444444,\"#bd3786\"],[0.5555555555555556,\"#d8576b\"],[0.6666666666666666,\"#ed7953\"],[0.7777777777777778,\"#fb9f3a\"],[0.8888888888888888,\"#fdca26\"],[1.0,\"#f0f921\"]]}],\"contourcarpet\":[{\"type\":\"contourcarpet\",\"colorbar\":{\"outlinewidth\":0,\"ticks\":\"\"}}],\"contour\":[{\"type\":\"contour\",\"colorbar\":{\"outlinewidth\":0,\"ticks\":\"\"},\"colorscale\":[[0.0,\"#0d0887\"],[0.1111111111111111,\"#46039f\"],[0.2222222222222222,\"#7201a8\"],[0.3333333333333333,\"#9c179e\"],[0.4444444444444444,\"#bd3786\"],[0.5555555555555556,\"#d8576b\"],[0.6666666666666666,\"#ed7953\"],[0.7777777777777778,\"#fb9f3a\"],[0.8888888888888888,\"#fdca26\"],[1.0,\"#f0f921\"]]}],\"surface\":[{\"type\":\"surface\",\"colorbar\":{\"outlinewidth\":0,\"ticks\":\"\"},\"colorscale\":[[0.0,\"#0d0887\"],[0.1111111111111111,\"#46039f\"],[0.2222222222222222,\"#7201a8\"],[0.3333333333333333,\"#9c179e\"],[0.4444444444444444,\"#bd3786\"],[0.5555555555555556,\"#d8576b\"],[0.6666666666666666,\"#ed7953\"],[0.7777777777777778,\"#fb9f3a\"],[0.8888888888888888,\"#fdca26\"],[1.0,\"#f0f921\"]]}],\"mesh3d\":[{\"type\":\"mesh3d\",\"colorbar\":{\"outlinewidth\":0,\"ticks\":\"\"}}],\"scatter\":[{\"fillpattern\":{\"fillmode\":\"overlay\",\"size\":10,\"solidity\":0.2},\"type\":\"scatter\"}],\"parcoords\":[{\"type\":\"parcoords\",\"line\":{\"colorbar\":{\"outlinewidth\":0,\"ticks\":\"\"}}}],\"scatterpolargl\":[{\"type\":\"scatterpolargl\",\"marker\":{\"colorbar\":{\"outlinewidth\":0,\"ticks\":\"\"}}}],\"bar\":[{\"error_x\":{\"color\":\"#2a3f5f\"},\"error_y\":{\"color\":\"#2a3f5f\"},\"marker\":{\"line\":{\"color\":\"#E5ECF6\",\"width\":0.5},\"pattern\":{\"fillmode\":\"overlay\",\"size\":10,\"solidity\":0.2}},\"type\":\"bar\"}],\"scattergeo\":[{\"type\":\"scattergeo\",\"marker\":{\"colorbar\":{\"outlinewidth\":0,\"ticks\":\"\"}}}],\"scatterpolar\":[{\"type\":\"scatterpolar\",\"marker\":{\"colorbar\":{\"outlinewidth\":0,\"ticks\":\"\"}}}],\"histogram\":[{\"marker\":{\"pattern\":{\"fillmode\":\"overlay\",\"size\":10,\"solidity\":0.2}},\"type\":\"histogram\"}],\"scattergl\":[{\"type\":\"scattergl\",\"marker\":{\"colorbar\":{\"outlinewidth\":0,\"ticks\":\"\"}}}],\"scatter3d\":[{\"type\":\"scatter3d\",\"line\":{\"colorbar\":{\"outlinewidth\":0,\"ticks\":\"\"}},\"marker\":{\"colorbar\":{\"outlinewidth\":0,\"ticks\":\"\"}}}],\"scattermapbox\":[{\"type\":\"scattermapbox\",\"marker\":{\"colorbar\":{\"outlinewidth\":0,\"ticks\":\"\"}}}],\"scatterternary\":[{\"type\":\"scatterternary\",\"marker\":{\"colorbar\":{\"outlinewidth\":0,\"ticks\":\"\"}}}],\"scattercarpet\":[{\"type\":\"scattercarpet\",\"marker\":{\"colorbar\":{\"outlinewidth\":0,\"ticks\":\"\"}}}],\"carpet\":[{\"aaxis\":{\"endlinecolor\":\"#2a3f5f\",\"gridcolor\":\"white\",\"linecolor\":\"white\",\"minorgridcolor\":\"white\",\"startlinecolor\":\"#2a3f5f\"},\"baxis\":{\"endlinecolor\":\"#2a3f5f\",\"gridcolor\":\"white\",\"linecolor\":\"white\",\"minorgridcolor\":\"white\",\"startlinecolor\":\"#2a3f5f\"},\"type\":\"carpet\"}],\"table\":[{\"cells\":{\"fill\":{\"color\":\"#EBF0F8\"},\"line\":{\"color\":\"white\"}},\"header\":{\"fill\":{\"color\":\"#C8D4E3\"},\"line\":{\"color\":\"white\"}},\"type\":\"table\"}],\"barpolar\":[{\"marker\":{\"line\":{\"color\":\"#E5ECF6\",\"width\":0.5},\"pattern\":{\"fillmode\":\"overlay\",\"size\":10,\"solidity\":0.2}},\"type\":\"barpolar\"}],\"pie\":[{\"automargin\":true,\"type\":\"pie\"}]},\"layout\":{\"autotypenumbers\":\"strict\",\"colorway\":[\"#636efa\",\"#EF553B\",\"#00cc96\",\"#ab63fa\",\"#FFA15A\",\"#19d3f3\",\"#FF6692\",\"#B6E880\",\"#FF97FF\",\"#FECB52\"],\"font\":{\"color\":\"#2a3f5f\"},\"hovermode\":\"closest\",\"hoverlabel\":{\"align\":\"left\"},\"paper_bgcolor\":\"white\",\"plot_bgcolor\":\"#E5ECF6\",\"polar\":{\"bgcolor\":\"#E5ECF6\",\"angularaxis\":{\"gridcolor\":\"white\",\"linecolor\":\"white\",\"ticks\":\"\"},\"radialaxis\":{\"gridcolor\":\"white\",\"linecolor\":\"white\",\"ticks\":\"\"}},\"ternary\":{\"bgcolor\":\"#E5ECF6\",\"aaxis\":{\"gridcolor\":\"white\",\"linecolor\":\"white\",\"ticks\":\"\"},\"baxis\":{\"gridcolor\":\"white\",\"linecolor\":\"white\",\"ticks\":\"\"},\"caxis\":{\"gridcolor\":\"white\",\"linecolor\":\"white\",\"ticks\":\"\"}},\"coloraxis\":{\"colorbar\":{\"outlinewidth\":0,\"ticks\":\"\"}},\"colorscale\":{\"sequential\":[[0.0,\"#0d0887\"],[0.1111111111111111,\"#46039f\"],[0.2222222222222222,\"#7201a8\"],[0.3333333333333333,\"#9c179e\"],[0.4444444444444444,\"#bd3786\"],[0.5555555555555556,\"#d8576b\"],[0.6666666666666666,\"#ed7953\"],[0.7777777777777778,\"#fb9f3a\"],[0.8888888888888888,\"#fdca26\"],[1.0,\"#f0f921\"]],\"sequentialminus\":[[0.0,\"#0d0887\"],[0.1111111111111111,\"#46039f\"],[0.2222222222222222,\"#7201a8\"],[0.3333333333333333,\"#9c179e\"],[0.4444444444444444,\"#bd3786\"],[0.5555555555555556,\"#d8576b\"],[0.6666666666666666,\"#ed7953\"],[0.7777777777777778,\"#fb9f3a\"],[0.8888888888888888,\"#fdca26\"],[1.0,\"#f0f921\"]],\"diverging\":[[0,\"#8e0152\"],[0.1,\"#c51b7d\"],[0.2,\"#de77ae\"],[0.3,\"#f1b6da\"],[0.4,\"#fde0ef\"],[0.5,\"#f7f7f7\"],[0.6,\"#e6f5d0\"],[0.7,\"#b8e186\"],[0.8,\"#7fbc41\"],[0.9,\"#4d9221\"],[1,\"#276419\"]]},\"xaxis\":{\"gridcolor\":\"white\",\"linecolor\":\"white\",\"ticks\":\"\",\"title\":{\"standoff\":15},\"zerolinecolor\":\"white\",\"automargin\":true,\"zerolinewidth\":2},\"yaxis\":{\"gridcolor\":\"white\",\"linecolor\":\"white\",\"ticks\":\"\",\"title\":{\"standoff\":15},\"zerolinecolor\":\"white\",\"automargin\":true,\"zerolinewidth\":2},\"scene\":{\"xaxis\":{\"backgroundcolor\":\"#E5ECF6\",\"gridcolor\":\"white\",\"linecolor\":\"white\",\"showbackground\":true,\"ticks\":\"\",\"zerolinecolor\":\"white\",\"gridwidth\":2},\"yaxis\":{\"backgroundcolor\":\"#E5ECF6\",\"gridcolor\":\"white\",\"linecolor\":\"white\",\"showbackground\":true,\"ticks\":\"\",\"zerolinecolor\":\"white\",\"gridwidth\":2},\"zaxis\":{\"backgroundcolor\":\"#E5ECF6\",\"gridcolor\":\"white\",\"linecolor\":\"white\",\"showbackground\":true,\"ticks\":\"\",\"zerolinecolor\":\"white\",\"gridwidth\":2}},\"shapedefaults\":{\"line\":{\"color\":\"#2a3f5f\"}},\"annotationdefaults\":{\"arrowcolor\":\"#2a3f5f\",\"arrowhead\":0,\"arrowwidth\":1},\"geo\":{\"bgcolor\":\"white\",\"landcolor\":\"#E5ECF6\",\"subunitcolor\":\"white\",\"showland\":true,\"showlakes\":true,\"lakecolor\":\"white\"},\"title\":{\"x\":0.05},\"mapbox\":{\"style\":\"light\"}}},\"xaxis\":{\"anchor\":\"y\",\"domain\":[0.0,0.18400000000000002],\"title\":{\"text\":\"Agrupaci\\u00f3n\"},\"categoryorder\":\"total descending\"},\"yaxis\":{\"anchor\":\"x\",\"domain\":[0.0,0.1975],\"title\":{\"text\":\"Total\"}},\"xaxis2\":{\"anchor\":\"y2\",\"domain\":[0.20400000000000001,0.388],\"matches\":\"x\",\"title\":{\"text\":\"Agrupaci\\u00f3n\"}},\"yaxis2\":{\"anchor\":\"x2\",\"domain\":[0.0,0.1975],\"matches\":\"y\",\"showticklabels\":false},\"xaxis3\":{\"anchor\":\"y3\",\"domain\":[0.40800000000000003,0.5920000000000001],\"matches\":\"x\",\"title\":{\"text\":\"Agrupaci\\u00f3n\"}},\"yaxis3\":{\"anchor\":\"x3\",\"domain\":[0.0,0.1975],\"matches\":\"y\",\"showticklabels\":false},\"xaxis4\":{\"anchor\":\"y4\",\"domain\":[0.6120000000000001,0.7960000000000002],\"matches\":\"x\",\"title\":{\"text\":\"Agrupaci\\u00f3n\"}},\"yaxis4\":{\"anchor\":\"x4\",\"domain\":[0.0,0.1975],\"matches\":\"y\",\"showticklabels\":false},\"xaxis5\":{\"anchor\":\"y5\",\"domain\":[0.8160000000000001,1.0],\"matches\":\"x\",\"title\":{\"text\":\"Agrupaci\\u00f3n\"}},\"yaxis5\":{\"anchor\":\"x5\",\"domain\":[0.0,0.1975],\"matches\":\"y\",\"showticklabels\":false},\"xaxis6\":{\"anchor\":\"y6\",\"domain\":[0.0,0.18400000000000002],\"matches\":\"x\",\"showticklabels\":false},\"yaxis6\":{\"anchor\":\"x6\",\"domain\":[0.2675,0.465],\"matches\":\"y\",\"title\":{\"text\":\"Total\"}},\"xaxis7\":{\"anchor\":\"y7\",\"domain\":[0.20400000000000001,0.388],\"matches\":\"x\",\"showticklabels\":false},\"yaxis7\":{\"anchor\":\"x7\",\"domain\":[0.2675,0.465],\"matches\":\"y\",\"showticklabels\":false},\"xaxis8\":{\"anchor\":\"y8\",\"domain\":[0.40800000000000003,0.5920000000000001],\"matches\":\"x\",\"showticklabels\":false},\"yaxis8\":{\"anchor\":\"x8\",\"domain\":[0.2675,0.465],\"matches\":\"y\",\"showticklabels\":false},\"xaxis9\":{\"anchor\":\"y9\",\"domain\":[0.6120000000000001,0.7960000000000002],\"matches\":\"x\",\"showticklabels\":false},\"yaxis9\":{\"anchor\":\"x9\",\"domain\":[0.2675,0.465],\"matches\":\"y\",\"showticklabels\":false},\"xaxis10\":{\"anchor\":\"y10\",\"domain\":[0.8160000000000001,1.0],\"matches\":\"x\",\"showticklabels\":false},\"yaxis10\":{\"anchor\":\"x10\",\"domain\":[0.2675,0.465],\"matches\":\"y\",\"showticklabels\":false},\"xaxis11\":{\"anchor\":\"y11\",\"domain\":[0.0,0.18400000000000002],\"matches\":\"x\",\"showticklabels\":false},\"yaxis11\":{\"anchor\":\"x11\",\"domain\":[0.535,0.7325],\"matches\":\"y\",\"title\":{\"text\":\"Total\"}},\"xaxis12\":{\"anchor\":\"y12\",\"domain\":[0.20400000000000001,0.388],\"matches\":\"x\",\"showticklabels\":false},\"yaxis12\":{\"anchor\":\"x12\",\"domain\":[0.535,0.7325],\"matches\":\"y\",\"showticklabels\":false},\"xaxis13\":{\"anchor\":\"y13\",\"domain\":[0.40800000000000003,0.5920000000000001],\"matches\":\"x\",\"showticklabels\":false},\"yaxis13\":{\"anchor\":\"x13\",\"domain\":[0.535,0.7325],\"matches\":\"y\",\"showticklabels\":false},\"xaxis14\":{\"anchor\":\"y14\",\"domain\":[0.6120000000000001,0.7960000000000002],\"matches\":\"x\",\"showticklabels\":false},\"yaxis14\":{\"anchor\":\"x14\",\"domain\":[0.535,0.7325],\"matches\":\"y\",\"showticklabels\":false},\"xaxis15\":{\"anchor\":\"y15\",\"domain\":[0.8160000000000001,1.0],\"matches\":\"x\",\"showticklabels\":false},\"yaxis15\":{\"anchor\":\"x15\",\"domain\":[0.535,0.7325],\"matches\":\"y\",\"showticklabels\":false},\"xaxis16\":{\"anchor\":\"y16\",\"domain\":[0.0,0.18400000000000002],\"matches\":\"x\",\"showticklabels\":false},\"yaxis16\":{\"anchor\":\"x16\",\"domain\":[0.8025,1.0],\"matches\":\"y\",\"title\":{\"text\":\"Total\"}},\"xaxis17\":{\"anchor\":\"y17\",\"domain\":[0.20400000000000001,0.388],\"matches\":\"x\",\"showticklabels\":false},\"yaxis17\":{\"anchor\":\"x17\",\"domain\":[0.8025,1.0],\"matches\":\"y\",\"showticklabels\":false},\"xaxis18\":{\"anchor\":\"y18\",\"domain\":[0.40800000000000003,0.5920000000000001],\"matches\":\"x\",\"showticklabels\":false},\"yaxis18\":{\"anchor\":\"x18\",\"domain\":[0.8025,1.0],\"matches\":\"y\",\"showticklabels\":false},\"xaxis19\":{\"anchor\":\"y19\",\"domain\":[0.6120000000000001,0.7960000000000002],\"matches\":\"x\",\"showticklabels\":false},\"yaxis19\":{\"anchor\":\"x19\",\"domain\":[0.8025,1.0],\"matches\":\"y\",\"showticklabels\":false},\"xaxis20\":{\"anchor\":\"y20\",\"domain\":[0.8160000000000001,1.0],\"matches\":\"x\",\"showticklabels\":false},\"yaxis20\":{\"anchor\":\"x20\",\"domain\":[0.8025,1.0],\"matches\":\"y\",\"showticklabels\":false},\"annotations\":[{\"font\":{},\"showarrow\":false,\"text\":\"Pa\\u00eds Vasco\",\"x\":0.09200000000000001,\"xanchor\":\"center\",\"xref\":\"paper\",\"y\":0.1975,\"yanchor\":\"bottom\",\"yref\":\"paper\"},{\"font\":{},\"showarrow\":false,\"text\":\"Rioja, La\",\"x\":0.29600000000000004,\"xanchor\":\"center\",\"xref\":\"paper\",\"y\":0.1975,\"yanchor\":\"bottom\",\"yref\":\"paper\"},{\"font\":{},\"showarrow\":false,\"text\":\"Ceuta\",\"x\":0.5,\"xanchor\":\"center\",\"xref\":\"paper\",\"y\":0.1975,\"yanchor\":\"bottom\",\"yref\":\"paper\"},{\"font\":{},\"showarrow\":false,\"text\":\"Melilla\",\"x\":0.7040000000000002,\"xanchor\":\"center\",\"xref\":\"paper\",\"y\":0.1975,\"yanchor\":\"bottom\",\"yref\":\"paper\"},{\"font\":{},\"showarrow\":false,\"text\":\"Extremadura\",\"x\":0.09200000000000001,\"xanchor\":\"center\",\"xref\":\"paper\",\"y\":0.465,\"yanchor\":\"bottom\",\"yref\":\"paper\"},{\"font\":{},\"showarrow\":false,\"text\":\"Galicia\",\"x\":0.29600000000000004,\"xanchor\":\"center\",\"xref\":\"paper\",\"y\":0.465,\"yanchor\":\"bottom\",\"yref\":\"paper\"},{\"font\":{},\"showarrow\":false,\"text\":\"Madrid, Comunidad de\",\"x\":0.5,\"xanchor\":\"center\",\"xref\":\"paper\",\"y\":0.465,\"yanchor\":\"bottom\",\"yref\":\"paper\"},{\"font\":{},\"showarrow\":false,\"text\":\"Murcia, Regi\\u00f3n de\",\"x\":0.7040000000000002,\"xanchor\":\"center\",\"xref\":\"paper\",\"y\":0.465,\"yanchor\":\"bottom\",\"yref\":\"paper\"},{\"font\":{},\"showarrow\":false,\"text\":\"Navarra, Comunidad Foral de\",\"x\":0.908,\"xanchor\":\"center\",\"xref\":\"paper\",\"y\":0.465,\"yanchor\":\"bottom\",\"yref\":\"paper\"},{\"font\":{},\"showarrow\":false,\"text\":\"Cantabria\",\"x\":0.09200000000000001,\"xanchor\":\"center\",\"xref\":\"paper\",\"y\":0.7325,\"yanchor\":\"bottom\",\"yref\":\"paper\"},{\"font\":{},\"showarrow\":false,\"text\":\"Castilla y Le\\u00f3n\",\"x\":0.29600000000000004,\"xanchor\":\"center\",\"xref\":\"paper\",\"y\":0.7325,\"yanchor\":\"bottom\",\"yref\":\"paper\"},{\"font\":{},\"showarrow\":false,\"text\":\"Castilla - La Mancha\",\"x\":0.5,\"xanchor\":\"center\",\"xref\":\"paper\",\"y\":0.7325,\"yanchor\":\"bottom\",\"yref\":\"paper\"},{\"font\":{},\"showarrow\":false,\"text\":\"Catalu\\u00f1a\",\"x\":0.7040000000000002,\"xanchor\":\"center\",\"xref\":\"paper\",\"y\":0.7325,\"yanchor\":\"bottom\",\"yref\":\"paper\"},{\"font\":{},\"showarrow\":false,\"text\":\"Comunitat Valenciana\",\"x\":0.908,\"xanchor\":\"center\",\"xref\":\"paper\",\"y\":0.7325,\"yanchor\":\"bottom\",\"yref\":\"paper\"},{\"font\":{},\"showarrow\":false,\"text\":\"Andaluc\\u00eda\",\"x\":0.09200000000000001,\"xanchor\":\"center\",\"xref\":\"paper\",\"y\":1.0,\"yanchor\":\"bottom\",\"yref\":\"paper\"},{\"font\":{},\"showarrow\":false,\"text\":\"Arag\\u00f3n\",\"x\":0.29600000000000004,\"xanchor\":\"center\",\"xref\":\"paper\",\"y\":1.0,\"yanchor\":\"bottom\",\"yref\":\"paper\"},{\"font\":{},\"showarrow\":false,\"text\":\"Asturias, Principado de\",\"x\":0.5,\"xanchor\":\"center\",\"xref\":\"paper\",\"y\":1.0,\"yanchor\":\"bottom\",\"yref\":\"paper\"},{\"font\":{},\"showarrow\":false,\"text\":\"Balears, Illes\",\"x\":0.7040000000000002,\"xanchor\":\"center\",\"xref\":\"paper\",\"y\":1.0,\"yanchor\":\"bottom\",\"yref\":\"paper\"},{\"font\":{},\"showarrow\":false,\"text\":\"Canarias\",\"x\":0.908,\"xanchor\":\"center\",\"xref\":\"paper\",\"y\":1.0,\"yanchor\":\"bottom\",\"yref\":\"paper\"}],\"legend\":{\"tracegroupgap\":0},\"title\":{\"text\":\"Poblaci\\u00f3n por CCAA y agrupaci\\u00f3n en 2022\"},\"barmode\":\"stack\"},                        {\"responsive\": true}                    ).then(function(){\n",
       "                            \n",
       "var gd = document.getElementById('03c08a9a-9fb1-43ee-9344-494de85e572c');\n",
       "var x = new MutationObserver(function (mutations, observer) {{\n",
       "        var display = window.getComputedStyle(gd).display;\n",
       "        if (!display || display === 'none') {{\n",
       "            console.log([gd, 'removed!']);\n",
       "            Plotly.purge(gd);\n",
       "            observer.disconnect();\n",
       "        }}\n",
       "}});\n",
       "\n",
       "// Listen for the removal of the full notebook cells\n",
       "var notebookContainer = gd.closest('#notebook-container');\n",
       "if (notebookContainer) {{\n",
       "    x.observe(notebookContainer, {childList: true});\n",
       "}}\n",
       "\n",
       "// Listen for the clearing of the current output cell\n",
       "var outputEl = gd.closest('.output');\n",
       "if (outputEl) {{\n",
       "    x.observe(outputEl, {childList: true});\n",
       "}}\n",
       "\n",
       "                        })                };                });            </script>        </div>"
      ]
     },
     "metadata": {},
     "output_type": "display_data"
    }
   ],
   "source": [
    "spanish_population_per_ccaa_small_multiple_columns()"
   ]
  },
  {
   "cell_type": "markdown",
   "id": "44d02c48",
   "metadata": {},
   "source": [
    "Puede observarse claramente que Andalucía, Cataluña y Madrid son las comunidades más pobladas y que Cataluña es la comunidad en la que más extranjeros viven.\n",
    "\n",
    "Obsérvese también que Ceuta y Melilla tienen una población muy pequeña en comparación y, debido a ello, apenas es legible su población en el gráfico. También es muy difícil apreciar los números de población extranjera en muchas comunidades debido a su baja proporción."
   ]
  },
  {
   "cell_type": "code",
   "execution_count": 44,
   "id": "a71fc78c",
   "metadata": {
    "scrolled": false
   },
   "outputs": [
    {
     "data": {
      "application/vnd.plotly.v1+json": {
       "config": {
        "plotlyServerURL": "https://plot.ly"
       },
       "data": [
        {
         "alignmentgroup": "True",
         "hovertemplate": "Comunidades y Ciudades Autónomas=Andalucía<br>Agrupación=%{x}<br>Total=%{y}<extra></extra>",
         "legendgroup": "",
         "marker": {
          "color": "#636efa",
          "pattern": {
           "shape": ""
          }
         },
         "name": "",
         "offsetgroup": "",
         "orientation": "v",
         "showlegend": false,
         "textposition": "auto",
         "type": "bar",
         "x": [
          "Nacionalidad española y hombres",
          "Nacionalidad española y mujeres",
          "Nacionalidad extranjera y hombres",
          "Nacionalidad extranjera y mujeres"
         ],
         "xaxis": "x19",
         "y": [
          3812505,
          3946304,
          375090,
          366288
         ],
         "yaxis": "y19"
        },
        {
         "alignmentgroup": "True",
         "hovertemplate": "Comunidades y Ciudades Autónomas=Aragón<br>Agrupación=%{x}<br>Total=%{y}<extra></extra>",
         "legendgroup": "",
         "marker": {
          "color": "#636efa",
          "pattern": {
           "shape": ""
          }
         },
         "name": "",
         "offsetgroup": "",
         "orientation": "v",
         "showlegend": false,
         "textposition": "auto",
         "type": "bar",
         "x": [
          "Nacionalidad española y hombres",
          "Nacionalidad española y mujeres",
          "Nacionalidad extranjera y hombres",
          "Nacionalidad extranjera y mujeres"
         ],
         "xaxis": "x20",
         "y": [
          571243,
          590310,
          84233,
          80529
         ],
         "yaxis": "y20"
        },
        {
         "alignmentgroup": "True",
         "hovertemplate": "Comunidades y Ciudades Autónomas=Asturias, Principado de<br>Agrupación=%{x}<br>Total=%{y}<extra></extra>",
         "legendgroup": "",
         "marker": {
          "color": "#636efa",
          "pattern": {
           "shape": ""
          }
         },
         "name": "",
         "offsetgroup": "",
         "orientation": "v",
         "showlegend": false,
         "textposition": "auto",
         "type": "bar",
         "x": [
          "Nacionalidad española y hombres",
          "Nacionalidad española y mujeres",
          "Nacionalidad extranjera y hombres",
          "Nacionalidad extranjera y mujeres"
         ],
         "xaxis": "x21",
         "y": [
          458084,
          500972,
          21050,
          24580
         ],
         "yaxis": "y21"
        },
        {
         "alignmentgroup": "True",
         "hovertemplate": "Comunidades y Ciudades Autónomas=Balears, Illes<br>Agrupación=%{x}<br>Total=%{y}<extra></extra>",
         "legendgroup": "",
         "marker": {
          "color": "#636efa",
          "pattern": {
           "shape": ""
          }
         },
         "name": "",
         "offsetgroup": "",
         "orientation": "v",
         "showlegend": false,
         "textposition": "auto",
         "type": "bar",
         "x": [
          "Nacionalidad española y hombres",
          "Nacionalidad española y mujeres",
          "Nacionalidad extranjera y hombres",
          "Nacionalidad extranjera y mujeres"
         ],
         "xaxis": "x16",
         "y": [
          474021,
          480621,
          111675,
          110342
         ],
         "yaxis": "y16"
        },
        {
         "alignmentgroup": "True",
         "hovertemplate": "Comunidades y Ciudades Autónomas=Canarias<br>Agrupación=%{x}<br>Total=%{y}<extra></extra>",
         "legendgroup": "",
         "marker": {
          "color": "#636efa",
          "pattern": {
           "shape": ""
          }
         },
         "name": "",
         "offsetgroup": "",
         "orientation": "v",
         "showlegend": false,
         "textposition": "auto",
         "type": "bar",
         "x": [
          "Nacionalidad española y hombres",
          "Nacionalidad española y mujeres",
          "Nacionalidad extranjera y hombres",
          "Nacionalidad extranjera y mujeres"
         ],
         "xaxis": "x17",
         "y": [
          932850,
          956362,
          142565,
          145924
         ],
         "yaxis": "y17"
        },
        {
         "alignmentgroup": "True",
         "hovertemplate": "Comunidades y Ciudades Autónomas=Cantabria<br>Agrupación=%{x}<br>Total=%{y}<extra></extra>",
         "legendgroup": "",
         "marker": {
          "color": "#636efa",
          "pattern": {
           "shape": ""
          }
         },
         "name": "",
         "offsetgroup": "",
         "orientation": "v",
         "showlegend": false,
         "textposition": "auto",
         "type": "bar",
         "x": [
          "Nacionalidad española y hombres",
          "Nacionalidad española y mujeres",
          "Nacionalidad extranjera y hombres",
          "Nacionalidad extranjera y mujeres"
         ],
         "xaxis": "x18",
         "y": [
          265907,
          282292,
          17811,
          19392
         ],
         "yaxis": "y18"
        },
        {
         "alignmentgroup": "True",
         "hovertemplate": "Comunidades y Ciudades Autónomas=Castilla y León<br>Agrupación=%{x}<br>Total=%{y}<extra></extra>",
         "legendgroup": "",
         "marker": {
          "color": "#636efa",
          "pattern": {
           "shape": ""
          }
         },
         "name": "",
         "offsetgroup": "",
         "orientation": "v",
         "showlegend": false,
         "textposition": "auto",
         "type": "bar",
         "x": [
          "Nacionalidad española y hombres",
          "Nacionalidad española y mujeres",
          "Nacionalidad extranjera y hombres",
          "Nacionalidad extranjera y mujeres"
         ],
         "xaxis": "x13",
         "y": [
          1095881,
          1130104,
          72002,
          74653
         ],
         "yaxis": "y13"
        },
        {
         "alignmentgroup": "True",
         "hovertemplate": "Comunidades y Ciudades Autónomas=Castilla - La Mancha<br>Agrupación=%{x}<br>Total=%{y}<extra></extra>",
         "legendgroup": "",
         "marker": {
          "color": "#636efa",
          "pattern": {
           "shape": ""
          }
         },
         "name": "",
         "offsetgroup": "",
         "orientation": "v",
         "showlegend": false,
         "textposition": "auto",
         "type": "bar",
         "x": [
          "Nacionalidad española y hombres",
          "Nacionalidad española y mujeres",
          "Nacionalidad extranjera y hombres",
          "Nacionalidad extranjera y mujeres"
         ],
         "xaxis": "x14",
         "y": [
          929397,
          930456,
          98606,
          94869
         ],
         "yaxis": "y14"
        },
        {
         "alignmentgroup": "True",
         "hovertemplate": "Comunidades y Ciudades Autónomas=Cataluña<br>Agrupación=%{x}<br>Total=%{y}<extra></extra>",
         "legendgroup": "",
         "marker": {
          "color": "#636efa",
          "pattern": {
           "shape": ""
          }
         },
         "name": "",
         "offsetgroup": "",
         "orientation": "v",
         "showlegend": false,
         "textposition": "auto",
         "type": "bar",
         "x": [
          "Nacionalidad española y hombres",
          "Nacionalidad española y mujeres",
          "Nacionalidad extranjera y hombres",
          "Nacionalidad extranjera y mujeres"
         ],
         "xaxis": "x15",
         "y": [
          3176747,
          3344054,
          657039,
          614771
         ],
         "yaxis": "y15"
        },
        {
         "alignmentgroup": "True",
         "hovertemplate": "Comunidades y Ciudades Autónomas=Comunitat Valenciana<br>Agrupación=%{x}<br>Total=%{y}<extra></extra>",
         "legendgroup": "",
         "marker": {
          "color": "#636efa",
          "pattern": {
           "shape": ""
          }
         },
         "name": "",
         "offsetgroup": "",
         "orientation": "v",
         "showlegend": false,
         "textposition": "auto",
         "type": "bar",
         "x": [
          "Nacionalidad española y hombres",
          "Nacionalidad española y mujeres",
          "Nacionalidad extranjera y hombres",
          "Nacionalidad extranjera y mujeres"
         ],
         "xaxis": "x10",
         "y": [
          2117021,
          2196477,
          392940,
          391529
         ],
         "yaxis": "y10"
        },
        {
         "alignmentgroup": "True",
         "hovertemplate": "Comunidades y Ciudades Autónomas=Extremadura<br>Agrupación=%{x}<br>Total=%{y}<extra></extra>",
         "legendgroup": "",
         "marker": {
          "color": "#636efa",
          "pattern": {
           "shape": ""
          }
         },
         "name": "",
         "offsetgroup": "",
         "orientation": "v",
         "showlegend": false,
         "textposition": "auto",
         "type": "bar",
         "x": [
          "Nacionalidad española y hombres",
          "Nacionalidad española y mujeres",
          "Nacionalidad extranjera y hombres",
          "Nacionalidad extranjera y mujeres"
         ],
         "xaxis": "x11",
         "y": [
          504519,
          515119,
          16944,
          18194
         ],
         "yaxis": "y11"
        },
        {
         "alignmentgroup": "True",
         "hovertemplate": "Comunidades y Ciudades Autónomas=Galicia<br>Agrupación=%{x}<br>Total=%{y}<extra></extra>",
         "legendgroup": "",
         "marker": {
          "color": "#636efa",
          "pattern": {
           "shape": ""
          }
         },
         "name": "",
         "offsetgroup": "",
         "orientation": "v",
         "showlegend": false,
         "textposition": "auto",
         "type": "bar",
         "x": [
          "Nacionalidad española y hombres",
          "Nacionalidad española y mujeres",
          "Nacionalidad extranjera y hombres",
          "Nacionalidad extranjera y mujeres"
         ],
         "xaxis": "x12",
         "y": [
          1237678,
          1334046,
          57030,
          61710
         ],
         "yaxis": "y12"
        },
        {
         "alignmentgroup": "True",
         "hovertemplate": "Comunidades y Ciudades Autónomas=Madrid, Comunidad de<br>Agrupación=%{x}<br>Total=%{y}<extra></extra>",
         "legendgroup": "",
         "marker": {
          "color": "#636efa",
          "pattern": {
           "shape": ""
          }
         },
         "name": "",
         "offsetgroup": "",
         "orientation": "v",
         "showlegend": false,
         "textposition": "auto",
         "type": "bar",
         "x": [
          "Nacionalidad española y hombres",
          "Nacionalidad española y mujeres",
          "Nacionalidad extranjera y hombres",
          "Nacionalidad extranjera y mujeres"
         ],
         "xaxis": "x7",
         "y": [
          2780057,
          3020310,
          450097,
          499872
         ],
         "yaxis": "y7"
        },
        {
         "alignmentgroup": "True",
         "hovertemplate": "Comunidades y Ciudades Autónomas=Murcia, Región de<br>Agrupación=%{x}<br>Total=%{y}<extra></extra>",
         "legendgroup": "",
         "marker": {
          "color": "#636efa",
          "pattern": {
           "shape": ""
          }
         },
         "name": "",
         "offsetgroup": "",
         "orientation": "v",
         "showlegend": false,
         "textposition": "auto",
         "type": "bar",
         "x": [
          "Nacionalidad española y hombres",
          "Nacionalidad española y mujeres",
          "Nacionalidad extranjera y hombres",
          "Nacionalidad extranjera y mujeres"
         ],
         "xaxis": "x8",
         "y": [
          644830,
          660283,
          122578,
          104187
         ],
         "yaxis": "y8"
        },
        {
         "alignmentgroup": "True",
         "hovertemplate": "Comunidades y Ciudades Autónomas=Navarra, Comunidad Foral de<br>Agrupación=%{x}<br>Total=%{y}<extra></extra>",
         "legendgroup": "",
         "marker": {
          "color": "#636efa",
          "pattern": {
           "shape": ""
          }
         },
         "name": "",
         "offsetgroup": "",
         "orientation": "v",
         "showlegend": false,
         "textposition": "auto",
         "type": "bar",
         "x": [
          "Nacionalidad española y hombres",
          "Nacionalidad española y mujeres",
          "Nacionalidad extranjera y hombres",
          "Nacionalidad extranjera y mujeres"
         ],
         "xaxis": "x9",
         "y": [
          291531,
          299111,
          37089,
          36386
         ],
         "yaxis": "y9"
        },
        {
         "alignmentgroup": "True",
         "hovertemplate": "Comunidades y Ciudades Autónomas=País Vasco<br>Agrupación=%{x}<br>Total=%{y}<extra></extra>",
         "legendgroup": "",
         "marker": {
          "color": "#636efa",
          "pattern": {
           "shape": ""
          }
         },
         "name": "",
         "offsetgroup": "",
         "orientation": "v",
         "showlegend": false,
         "textposition": "auto",
         "type": "bar",
         "x": [
          "Nacionalidad española y hombres",
          "Nacionalidad española y mujeres",
          "Nacionalidad extranjera y hombres",
          "Nacionalidad extranjera y mujeres"
         ],
         "xaxis": "x4",
         "y": [
          980673,
          1042884,
          92920,
          91697
         ],
         "yaxis": "y4"
        },
        {
         "alignmentgroup": "True",
         "hovertemplate": "Comunidades y Ciudades Autónomas=Rioja, La<br>Agrupación=%{x}<br>Total=%{y}<extra></extra>",
         "legendgroup": "",
         "marker": {
          "color": "#636efa",
          "pattern": {
           "shape": ""
          }
         },
         "name": "",
         "offsetgroup": "",
         "orientation": "v",
         "showlegend": false,
         "textposition": "auto",
         "type": "bar",
         "x": [
          "Nacionalidad española y hombres",
          "Nacionalidad española y mujeres",
          "Nacionalidad extranjera y hombres",
          "Nacionalidad extranjera y mujeres"
         ],
         "xaxis": "x5",
         "y": [
          137163,
          140974,
          20688,
          21067
         ],
         "yaxis": "y5"
        },
        {
         "alignmentgroup": "True",
         "hovertemplate": "Comunidades y Ciudades Autónomas=Ceuta<br>Agrupación=%{x}<br>Total=%{y}<extra></extra>",
         "legendgroup": "",
         "marker": {
          "color": "#636efa",
          "pattern": {
           "shape": ""
          }
         },
         "name": "",
         "offsetgroup": "",
         "orientation": "v",
         "showlegend": false,
         "textposition": "auto",
         "type": "bar",
         "x": [
          "Nacionalidad española y hombres",
          "Nacionalidad española y mujeres",
          "Nacionalidad extranjera y hombres",
          "Nacionalidad extranjera y mujeres"
         ],
         "xaxis": "x6",
         "y": [
          39607,
          38600,
          2320,
          2590
         ],
         "yaxis": "y6"
        },
        {
         "alignmentgroup": "True",
         "hovertemplate": "Comunidades y Ciudades Autónomas=Melilla<br>Agrupación=%{x}<br>Total=%{y}<extra></extra>",
         "legendgroup": "",
         "marker": {
          "color": "#636efa",
          "pattern": {
           "shape": ""
          }
         },
         "name": "",
         "offsetgroup": "",
         "orientation": "v",
         "showlegend": false,
         "textposition": "auto",
         "type": "bar",
         "x": [
          "Nacionalidad española y hombres",
          "Nacionalidad española y mujeres",
          "Nacionalidad extranjera y hombres",
          "Nacionalidad extranjera y mujeres"
         ],
         "xaxis": "x",
         "y": [
          37453,
          36042,
          5537,
          6138
         ],
         "yaxis": "y"
        }
       ],
       "layout": {
        "annotations": [
         {
          "font": {},
          "showarrow": false,
          "text": "Melilla",
          "x": 0.15999999999999998,
          "xanchor": "center",
          "xref": "paper",
          "y": 0.08285714285714285,
          "yanchor": "bottom",
          "yref": "paper"
         },
         {
          "font": {},
          "showarrow": false,
          "text": "País Vasco",
          "x": 0.15999999999999998,
          "xanchor": "center",
          "xref": "paper",
          "y": 0.2357142857142857,
          "yanchor": "bottom",
          "yref": "paper"
         },
         {
          "font": {},
          "showarrow": false,
          "text": "Rioja, La",
          "x": 0.49999999999999994,
          "xanchor": "center",
          "xref": "paper",
          "y": 0.2357142857142857,
          "yanchor": "bottom",
          "yref": "paper"
         },
         {
          "font": {},
          "showarrow": false,
          "text": "Ceuta",
          "x": 0.8399999999999999,
          "xanchor": "center",
          "xref": "paper",
          "y": 0.2357142857142857,
          "yanchor": "bottom",
          "yref": "paper"
         },
         {
          "font": {},
          "showarrow": false,
          "text": "Madrid, Comunidad de",
          "x": 0.15999999999999998,
          "xanchor": "center",
          "xref": "paper",
          "y": 0.38857142857142857,
          "yanchor": "bottom",
          "yref": "paper"
         },
         {
          "font": {},
          "showarrow": false,
          "text": "Murcia, Región de",
          "x": 0.49999999999999994,
          "xanchor": "center",
          "xref": "paper",
          "y": 0.38857142857142857,
          "yanchor": "bottom",
          "yref": "paper"
         },
         {
          "font": {},
          "showarrow": false,
          "text": "Navarra, Comunidad Foral de",
          "x": 0.8399999999999999,
          "xanchor": "center",
          "xref": "paper",
          "y": 0.38857142857142857,
          "yanchor": "bottom",
          "yref": "paper"
         },
         {
          "font": {},
          "showarrow": false,
          "text": "Comunitat Valenciana",
          "x": 0.15999999999999998,
          "xanchor": "center",
          "xref": "paper",
          "y": 0.5414285714285714,
          "yanchor": "bottom",
          "yref": "paper"
         },
         {
          "font": {},
          "showarrow": false,
          "text": "Extremadura",
          "x": 0.49999999999999994,
          "xanchor": "center",
          "xref": "paper",
          "y": 0.5414285714285714,
          "yanchor": "bottom",
          "yref": "paper"
         },
         {
          "font": {},
          "showarrow": false,
          "text": "Galicia",
          "x": 0.8399999999999999,
          "xanchor": "center",
          "xref": "paper",
          "y": 0.5414285714285714,
          "yanchor": "bottom",
          "yref": "paper"
         },
         {
          "font": {},
          "showarrow": false,
          "text": "Castilla y León",
          "x": 0.15999999999999998,
          "xanchor": "center",
          "xref": "paper",
          "y": 0.6942857142857143,
          "yanchor": "bottom",
          "yref": "paper"
         },
         {
          "font": {},
          "showarrow": false,
          "text": "Castilla - La Mancha",
          "x": 0.49999999999999994,
          "xanchor": "center",
          "xref": "paper",
          "y": 0.6942857142857143,
          "yanchor": "bottom",
          "yref": "paper"
         },
         {
          "font": {},
          "showarrow": false,
          "text": "Cataluña",
          "x": 0.8399999999999999,
          "xanchor": "center",
          "xref": "paper",
          "y": 0.6942857142857143,
          "yanchor": "bottom",
          "yref": "paper"
         },
         {
          "font": {},
          "showarrow": false,
          "text": "Balears, Illes",
          "x": 0.15999999999999998,
          "xanchor": "center",
          "xref": "paper",
          "y": 0.8471428571428571,
          "yanchor": "bottom",
          "yref": "paper"
         },
         {
          "font": {},
          "showarrow": false,
          "text": "Canarias",
          "x": 0.49999999999999994,
          "xanchor": "center",
          "xref": "paper",
          "y": 0.8471428571428571,
          "yanchor": "bottom",
          "yref": "paper"
         },
         {
          "font": {},
          "showarrow": false,
          "text": "Cantabria",
          "x": 0.8399999999999999,
          "xanchor": "center",
          "xref": "paper",
          "y": 0.8471428571428571,
          "yanchor": "bottom",
          "yref": "paper"
         },
         {
          "font": {},
          "showarrow": false,
          "text": "Andalucía",
          "x": 0.15999999999999998,
          "xanchor": "center",
          "xref": "paper",
          "y": 1,
          "yanchor": "bottom",
          "yref": "paper"
         },
         {
          "font": {},
          "showarrow": false,
          "text": "Aragón",
          "x": 0.49999999999999994,
          "xanchor": "center",
          "xref": "paper",
          "y": 1,
          "yanchor": "bottom",
          "yref": "paper"
         },
         {
          "font": {},
          "showarrow": false,
          "text": "Asturias, Principado de",
          "x": 0.8399999999999999,
          "xanchor": "center",
          "xref": "paper",
          "y": 1,
          "yanchor": "bottom",
          "yref": "paper"
         }
        ],
        "barmode": "stack",
        "legend": {
         "tracegroupgap": 0
        },
        "template": {
         "data": {
          "bar": [
           {
            "error_x": {
             "color": "#2a3f5f"
            },
            "error_y": {
             "color": "#2a3f5f"
            },
            "marker": {
             "line": {
              "color": "#E5ECF6",
              "width": 0.5
             },
             "pattern": {
              "fillmode": "overlay",
              "size": 10,
              "solidity": 0.2
             }
            },
            "type": "bar"
           }
          ],
          "barpolar": [
           {
            "marker": {
             "line": {
              "color": "#E5ECF6",
              "width": 0.5
             },
             "pattern": {
              "fillmode": "overlay",
              "size": 10,
              "solidity": 0.2
             }
            },
            "type": "barpolar"
           }
          ],
          "carpet": [
           {
            "aaxis": {
             "endlinecolor": "#2a3f5f",
             "gridcolor": "white",
             "linecolor": "white",
             "minorgridcolor": "white",
             "startlinecolor": "#2a3f5f"
            },
            "baxis": {
             "endlinecolor": "#2a3f5f",
             "gridcolor": "white",
             "linecolor": "white",
             "minorgridcolor": "white",
             "startlinecolor": "#2a3f5f"
            },
            "type": "carpet"
           }
          ],
          "choropleth": [
           {
            "colorbar": {
             "outlinewidth": 0,
             "ticks": ""
            },
            "type": "choropleth"
           }
          ],
          "contour": [
           {
            "colorbar": {
             "outlinewidth": 0,
             "ticks": ""
            },
            "colorscale": [
             [
              0,
              "#0d0887"
             ],
             [
              0.1111111111111111,
              "#46039f"
             ],
             [
              0.2222222222222222,
              "#7201a8"
             ],
             [
              0.3333333333333333,
              "#9c179e"
             ],
             [
              0.4444444444444444,
              "#bd3786"
             ],
             [
              0.5555555555555556,
              "#d8576b"
             ],
             [
              0.6666666666666666,
              "#ed7953"
             ],
             [
              0.7777777777777778,
              "#fb9f3a"
             ],
             [
              0.8888888888888888,
              "#fdca26"
             ],
             [
              1,
              "#f0f921"
             ]
            ],
            "type": "contour"
           }
          ],
          "contourcarpet": [
           {
            "colorbar": {
             "outlinewidth": 0,
             "ticks": ""
            },
            "type": "contourcarpet"
           }
          ],
          "heatmap": [
           {
            "colorbar": {
             "outlinewidth": 0,
             "ticks": ""
            },
            "colorscale": [
             [
              0,
              "#0d0887"
             ],
             [
              0.1111111111111111,
              "#46039f"
             ],
             [
              0.2222222222222222,
              "#7201a8"
             ],
             [
              0.3333333333333333,
              "#9c179e"
             ],
             [
              0.4444444444444444,
              "#bd3786"
             ],
             [
              0.5555555555555556,
              "#d8576b"
             ],
             [
              0.6666666666666666,
              "#ed7953"
             ],
             [
              0.7777777777777778,
              "#fb9f3a"
             ],
             [
              0.8888888888888888,
              "#fdca26"
             ],
             [
              1,
              "#f0f921"
             ]
            ],
            "type": "heatmap"
           }
          ],
          "heatmapgl": [
           {
            "colorbar": {
             "outlinewidth": 0,
             "ticks": ""
            },
            "colorscale": [
             [
              0,
              "#0d0887"
             ],
             [
              0.1111111111111111,
              "#46039f"
             ],
             [
              0.2222222222222222,
              "#7201a8"
             ],
             [
              0.3333333333333333,
              "#9c179e"
             ],
             [
              0.4444444444444444,
              "#bd3786"
             ],
             [
              0.5555555555555556,
              "#d8576b"
             ],
             [
              0.6666666666666666,
              "#ed7953"
             ],
             [
              0.7777777777777778,
              "#fb9f3a"
             ],
             [
              0.8888888888888888,
              "#fdca26"
             ],
             [
              1,
              "#f0f921"
             ]
            ],
            "type": "heatmapgl"
           }
          ],
          "histogram": [
           {
            "marker": {
             "pattern": {
              "fillmode": "overlay",
              "size": 10,
              "solidity": 0.2
             }
            },
            "type": "histogram"
           }
          ],
          "histogram2d": [
           {
            "colorbar": {
             "outlinewidth": 0,
             "ticks": ""
            },
            "colorscale": [
             [
              0,
              "#0d0887"
             ],
             [
              0.1111111111111111,
              "#46039f"
             ],
             [
              0.2222222222222222,
              "#7201a8"
             ],
             [
              0.3333333333333333,
              "#9c179e"
             ],
             [
              0.4444444444444444,
              "#bd3786"
             ],
             [
              0.5555555555555556,
              "#d8576b"
             ],
             [
              0.6666666666666666,
              "#ed7953"
             ],
             [
              0.7777777777777778,
              "#fb9f3a"
             ],
             [
              0.8888888888888888,
              "#fdca26"
             ],
             [
              1,
              "#f0f921"
             ]
            ],
            "type": "histogram2d"
           }
          ],
          "histogram2dcontour": [
           {
            "colorbar": {
             "outlinewidth": 0,
             "ticks": ""
            },
            "colorscale": [
             [
              0,
              "#0d0887"
             ],
             [
              0.1111111111111111,
              "#46039f"
             ],
             [
              0.2222222222222222,
              "#7201a8"
             ],
             [
              0.3333333333333333,
              "#9c179e"
             ],
             [
              0.4444444444444444,
              "#bd3786"
             ],
             [
              0.5555555555555556,
              "#d8576b"
             ],
             [
              0.6666666666666666,
              "#ed7953"
             ],
             [
              0.7777777777777778,
              "#fb9f3a"
             ],
             [
              0.8888888888888888,
              "#fdca26"
             ],
             [
              1,
              "#f0f921"
             ]
            ],
            "type": "histogram2dcontour"
           }
          ],
          "mesh3d": [
           {
            "colorbar": {
             "outlinewidth": 0,
             "ticks": ""
            },
            "type": "mesh3d"
           }
          ],
          "parcoords": [
           {
            "line": {
             "colorbar": {
              "outlinewidth": 0,
              "ticks": ""
             }
            },
            "type": "parcoords"
           }
          ],
          "pie": [
           {
            "automargin": true,
            "type": "pie"
           }
          ],
          "scatter": [
           {
            "fillpattern": {
             "fillmode": "overlay",
             "size": 10,
             "solidity": 0.2
            },
            "type": "scatter"
           }
          ],
          "scatter3d": [
           {
            "line": {
             "colorbar": {
              "outlinewidth": 0,
              "ticks": ""
             }
            },
            "marker": {
             "colorbar": {
              "outlinewidth": 0,
              "ticks": ""
             }
            },
            "type": "scatter3d"
           }
          ],
          "scattercarpet": [
           {
            "marker": {
             "colorbar": {
              "outlinewidth": 0,
              "ticks": ""
             }
            },
            "type": "scattercarpet"
           }
          ],
          "scattergeo": [
           {
            "marker": {
             "colorbar": {
              "outlinewidth": 0,
              "ticks": ""
             }
            },
            "type": "scattergeo"
           }
          ],
          "scattergl": [
           {
            "marker": {
             "colorbar": {
              "outlinewidth": 0,
              "ticks": ""
             }
            },
            "type": "scattergl"
           }
          ],
          "scattermapbox": [
           {
            "marker": {
             "colorbar": {
              "outlinewidth": 0,
              "ticks": ""
             }
            },
            "type": "scattermapbox"
           }
          ],
          "scatterpolar": [
           {
            "marker": {
             "colorbar": {
              "outlinewidth": 0,
              "ticks": ""
             }
            },
            "type": "scatterpolar"
           }
          ],
          "scatterpolargl": [
           {
            "marker": {
             "colorbar": {
              "outlinewidth": 0,
              "ticks": ""
             }
            },
            "type": "scatterpolargl"
           }
          ],
          "scatterternary": [
           {
            "marker": {
             "colorbar": {
              "outlinewidth": 0,
              "ticks": ""
             }
            },
            "type": "scatterternary"
           }
          ],
          "surface": [
           {
            "colorbar": {
             "outlinewidth": 0,
             "ticks": ""
            },
            "colorscale": [
             [
              0,
              "#0d0887"
             ],
             [
              0.1111111111111111,
              "#46039f"
             ],
             [
              0.2222222222222222,
              "#7201a8"
             ],
             [
              0.3333333333333333,
              "#9c179e"
             ],
             [
              0.4444444444444444,
              "#bd3786"
             ],
             [
              0.5555555555555556,
              "#d8576b"
             ],
             [
              0.6666666666666666,
              "#ed7953"
             ],
             [
              0.7777777777777778,
              "#fb9f3a"
             ],
             [
              0.8888888888888888,
              "#fdca26"
             ],
             [
              1,
              "#f0f921"
             ]
            ],
            "type": "surface"
           }
          ],
          "table": [
           {
            "cells": {
             "fill": {
              "color": "#EBF0F8"
             },
             "line": {
              "color": "white"
             }
            },
            "header": {
             "fill": {
              "color": "#C8D4E3"
             },
             "line": {
              "color": "white"
             }
            },
            "type": "table"
           }
          ]
         },
         "layout": {
          "annotationdefaults": {
           "arrowcolor": "#2a3f5f",
           "arrowhead": 0,
           "arrowwidth": 1
          },
          "autotypenumbers": "strict",
          "coloraxis": {
           "colorbar": {
            "outlinewidth": 0,
            "ticks": ""
           }
          },
          "colorscale": {
           "diverging": [
            [
             0,
             "#8e0152"
            ],
            [
             0.1,
             "#c51b7d"
            ],
            [
             0.2,
             "#de77ae"
            ],
            [
             0.3,
             "#f1b6da"
            ],
            [
             0.4,
             "#fde0ef"
            ],
            [
             0.5,
             "#f7f7f7"
            ],
            [
             0.6,
             "#e6f5d0"
            ],
            [
             0.7,
             "#b8e186"
            ],
            [
             0.8,
             "#7fbc41"
            ],
            [
             0.9,
             "#4d9221"
            ],
            [
             1,
             "#276419"
            ]
           ],
           "sequential": [
            [
             0,
             "#0d0887"
            ],
            [
             0.1111111111111111,
             "#46039f"
            ],
            [
             0.2222222222222222,
             "#7201a8"
            ],
            [
             0.3333333333333333,
             "#9c179e"
            ],
            [
             0.4444444444444444,
             "#bd3786"
            ],
            [
             0.5555555555555556,
             "#d8576b"
            ],
            [
             0.6666666666666666,
             "#ed7953"
            ],
            [
             0.7777777777777778,
             "#fb9f3a"
            ],
            [
             0.8888888888888888,
             "#fdca26"
            ],
            [
             1,
             "#f0f921"
            ]
           ],
           "sequentialminus": [
            [
             0,
             "#0d0887"
            ],
            [
             0.1111111111111111,
             "#46039f"
            ],
            [
             0.2222222222222222,
             "#7201a8"
            ],
            [
             0.3333333333333333,
             "#9c179e"
            ],
            [
             0.4444444444444444,
             "#bd3786"
            ],
            [
             0.5555555555555556,
             "#d8576b"
            ],
            [
             0.6666666666666666,
             "#ed7953"
            ],
            [
             0.7777777777777778,
             "#fb9f3a"
            ],
            [
             0.8888888888888888,
             "#fdca26"
            ],
            [
             1,
             "#f0f921"
            ]
           ]
          },
          "colorway": [
           "#636efa",
           "#EF553B",
           "#00cc96",
           "#ab63fa",
           "#FFA15A",
           "#19d3f3",
           "#FF6692",
           "#B6E880",
           "#FF97FF",
           "#FECB52"
          ],
          "font": {
           "color": "#2a3f5f"
          },
          "geo": {
           "bgcolor": "white",
           "lakecolor": "white",
           "landcolor": "#E5ECF6",
           "showlakes": true,
           "showland": true,
           "subunitcolor": "white"
          },
          "hoverlabel": {
           "align": "left"
          },
          "hovermode": "closest",
          "mapbox": {
           "style": "light"
          },
          "paper_bgcolor": "white",
          "plot_bgcolor": "#E5ECF6",
          "polar": {
           "angularaxis": {
            "gridcolor": "white",
            "linecolor": "white",
            "ticks": ""
           },
           "bgcolor": "#E5ECF6",
           "radialaxis": {
            "gridcolor": "white",
            "linecolor": "white",
            "ticks": ""
           }
          },
          "scene": {
           "xaxis": {
            "backgroundcolor": "#E5ECF6",
            "gridcolor": "white",
            "gridwidth": 2,
            "linecolor": "white",
            "showbackground": true,
            "ticks": "",
            "zerolinecolor": "white"
           },
           "yaxis": {
            "backgroundcolor": "#E5ECF6",
            "gridcolor": "white",
            "gridwidth": 2,
            "linecolor": "white",
            "showbackground": true,
            "ticks": "",
            "zerolinecolor": "white"
           },
           "zaxis": {
            "backgroundcolor": "#E5ECF6",
            "gridcolor": "white",
            "gridwidth": 2,
            "linecolor": "white",
            "showbackground": true,
            "ticks": "",
            "zerolinecolor": "white"
           }
          },
          "shapedefaults": {
           "line": {
            "color": "#2a3f5f"
           }
          },
          "ternary": {
           "aaxis": {
            "gridcolor": "white",
            "linecolor": "white",
            "ticks": ""
           },
           "baxis": {
            "gridcolor": "white",
            "linecolor": "white",
            "ticks": ""
           },
           "bgcolor": "#E5ECF6",
           "caxis": {
            "gridcolor": "white",
            "linecolor": "white",
            "ticks": ""
           }
          },
          "title": {
           "x": 0.05
          },
          "xaxis": {
           "automargin": true,
           "gridcolor": "white",
           "linecolor": "white",
           "ticks": "",
           "title": {
            "standoff": 15
           },
           "zerolinecolor": "white",
           "zerolinewidth": 2
          },
          "yaxis": {
           "automargin": true,
           "gridcolor": "white",
           "linecolor": "white",
           "ticks": "",
           "title": {
            "standoff": 15
           },
           "zerolinecolor": "white",
           "zerolinewidth": 2
          }
         }
        },
        "title": {
         "text": "Población por CCAA y agrupación en 2022"
        },
        "xaxis": {
         "anchor": "y",
         "categoryorder": "total descending",
         "domain": [
          0,
          0.31999999999999995
         ],
         "title": {
          "text": "Agrupación"
         }
        },
        "xaxis10": {
         "anchor": "y10",
         "domain": [
          0,
          0.31999999999999995
         ],
         "matches": "x",
         "showticklabels": false
        },
        "xaxis11": {
         "anchor": "y11",
         "domain": [
          0.33999999999999997,
          0.6599999999999999
         ],
         "matches": "x",
         "showticklabels": false
        },
        "xaxis12": {
         "anchor": "y12",
         "domain": [
          0.6799999999999999,
          0.9999999999999999
         ],
         "matches": "x",
         "showticklabels": false
        },
        "xaxis13": {
         "anchor": "y13",
         "domain": [
          0,
          0.31999999999999995
         ],
         "matches": "x",
         "showticklabels": false
        },
        "xaxis14": {
         "anchor": "y14",
         "domain": [
          0.33999999999999997,
          0.6599999999999999
         ],
         "matches": "x",
         "showticklabels": false
        },
        "xaxis15": {
         "anchor": "y15",
         "domain": [
          0.6799999999999999,
          0.9999999999999999
         ],
         "matches": "x",
         "showticklabels": false
        },
        "xaxis16": {
         "anchor": "y16",
         "domain": [
          0,
          0.31999999999999995
         ],
         "matches": "x",
         "showticklabels": false
        },
        "xaxis17": {
         "anchor": "y17",
         "domain": [
          0.33999999999999997,
          0.6599999999999999
         ],
         "matches": "x",
         "showticklabels": false
        },
        "xaxis18": {
         "anchor": "y18",
         "domain": [
          0.6799999999999999,
          0.9999999999999999
         ],
         "matches": "x",
         "showticklabels": false
        },
        "xaxis19": {
         "anchor": "y19",
         "domain": [
          0,
          0.31999999999999995
         ],
         "matches": "x",
         "showticklabels": false
        },
        "xaxis2": {
         "anchor": "y2",
         "domain": [
          0.33999999999999997,
          0.6599999999999999
         ],
         "matches": "x",
         "title": {
          "text": "Agrupación"
         }
        },
        "xaxis20": {
         "anchor": "y20",
         "domain": [
          0.33999999999999997,
          0.6599999999999999
         ],
         "matches": "x",
         "showticklabels": false
        },
        "xaxis21": {
         "anchor": "y21",
         "domain": [
          0.6799999999999999,
          0.9999999999999999
         ],
         "matches": "x",
         "showticklabels": false
        },
        "xaxis3": {
         "anchor": "y3",
         "domain": [
          0.6799999999999999,
          0.9999999999999999
         ],
         "matches": "x",
         "title": {
          "text": "Agrupación"
         }
        },
        "xaxis4": {
         "anchor": "y4",
         "domain": [
          0,
          0.31999999999999995
         ],
         "matches": "x",
         "showticklabels": false
        },
        "xaxis5": {
         "anchor": "y5",
         "domain": [
          0.33999999999999997,
          0.6599999999999999
         ],
         "matches": "x",
         "showticklabels": false
        },
        "xaxis6": {
         "anchor": "y6",
         "domain": [
          0.6799999999999999,
          0.9999999999999999
         ],
         "matches": "x",
         "showticklabels": false
        },
        "xaxis7": {
         "anchor": "y7",
         "domain": [
          0,
          0.31999999999999995
         ],
         "matches": "x",
         "showticklabels": false
        },
        "xaxis8": {
         "anchor": "y8",
         "domain": [
          0.33999999999999997,
          0.6599999999999999
         ],
         "matches": "x",
         "showticklabels": false
        },
        "xaxis9": {
         "anchor": "y9",
         "domain": [
          0.6799999999999999,
          0.9999999999999999
         ],
         "matches": "x",
         "showticklabels": false
        },
        "yaxis": {
         "anchor": "x",
         "domain": [
          0,
          0.08285714285714285
         ],
         "title": {
          "text": "Total"
         }
        },
        "yaxis10": {
         "anchor": "x10",
         "domain": [
          0.4585714285714286,
          0.5414285714285714
         ],
         "matches": "y",
         "title": {
          "text": "Total"
         }
        },
        "yaxis11": {
         "anchor": "x11",
         "domain": [
          0.4585714285714286,
          0.5414285714285714
         ],
         "matches": "y",
         "showticklabels": false
        },
        "yaxis12": {
         "anchor": "x12",
         "domain": [
          0.4585714285714286,
          0.5414285714285714
         ],
         "matches": "y",
         "showticklabels": false
        },
        "yaxis13": {
         "anchor": "x13",
         "domain": [
          0.6114285714285714,
          0.6942857142857143
         ],
         "matches": "y",
         "title": {
          "text": "Total"
         }
        },
        "yaxis14": {
         "anchor": "x14",
         "domain": [
          0.6114285714285714,
          0.6942857142857143
         ],
         "matches": "y",
         "showticklabels": false
        },
        "yaxis15": {
         "anchor": "x15",
         "domain": [
          0.6114285714285714,
          0.6942857142857143
         ],
         "matches": "y",
         "showticklabels": false
        },
        "yaxis16": {
         "anchor": "x16",
         "domain": [
          0.7642857142857142,
          0.8471428571428571
         ],
         "matches": "y",
         "title": {
          "text": "Total"
         }
        },
        "yaxis17": {
         "anchor": "x17",
         "domain": [
          0.7642857142857142,
          0.8471428571428571
         ],
         "matches": "y",
         "showticklabels": false
        },
        "yaxis18": {
         "anchor": "x18",
         "domain": [
          0.7642857142857142,
          0.8471428571428571
         ],
         "matches": "y",
         "showticklabels": false
        },
        "yaxis19": {
         "anchor": "x19",
         "domain": [
          0.9171428571428571,
          1
         ],
         "matches": "y",
         "title": {
          "text": "Total"
         }
        },
        "yaxis2": {
         "anchor": "x2",
         "domain": [
          0,
          0.08285714285714285
         ],
         "matches": "y",
         "showticklabels": false
        },
        "yaxis20": {
         "anchor": "x20",
         "domain": [
          0.9171428571428571,
          1
         ],
         "matches": "y",
         "showticklabels": false
        },
        "yaxis21": {
         "anchor": "x21",
         "domain": [
          0.9171428571428571,
          1
         ],
         "matches": "y",
         "showticklabels": false
        },
        "yaxis3": {
         "anchor": "x3",
         "domain": [
          0,
          0.08285714285714285
         ],
         "matches": "y",
         "showticklabels": false
        },
        "yaxis4": {
         "anchor": "x4",
         "domain": [
          0.15285714285714286,
          0.2357142857142857
         ],
         "matches": "y",
         "title": {
          "text": "Total"
         }
        },
        "yaxis5": {
         "anchor": "x5",
         "domain": [
          0.15285714285714286,
          0.2357142857142857
         ],
         "matches": "y",
         "showticklabels": false
        },
        "yaxis6": {
         "anchor": "x6",
         "domain": [
          0.15285714285714286,
          0.2357142857142857
         ],
         "matches": "y",
         "showticklabels": false
        },
        "yaxis7": {
         "anchor": "x7",
         "domain": [
          0.3057142857142857,
          0.38857142857142857
         ],
         "matches": "y",
         "title": {
          "text": "Total"
         }
        },
        "yaxis8": {
         "anchor": "x8",
         "domain": [
          0.3057142857142857,
          0.38857142857142857
         ],
         "matches": "y",
         "showticklabels": false
        },
        "yaxis9": {
         "anchor": "x9",
         "domain": [
          0.3057142857142857,
          0.38857142857142857
         ],
         "matches": "y",
         "showticklabels": false
        }
       }
      },
      "text/html": [
       "<div>                            <div id=\"0ece40d1-c948-4e19-b4fd-e672dd755dc8\" class=\"plotly-graph-div\" style=\"height:525px; width:100%;\"></div>            <script type=\"text/javascript\">                require([\"plotly\"], function(Plotly) {                    window.PLOTLYENV=window.PLOTLYENV || {};                                    if (document.getElementById(\"0ece40d1-c948-4e19-b4fd-e672dd755dc8\")) {                    Plotly.newPlot(                        \"0ece40d1-c948-4e19-b4fd-e672dd755dc8\",                        [{\"alignmentgroup\":\"True\",\"hovertemplate\":\"Comunidades y Ciudades Aut\\u00f3nomas=Andaluc\\u00eda<br>Agrupaci\\u00f3n=%{x}<br>Total=%{y}<extra></extra>\",\"legendgroup\":\"\",\"marker\":{\"color\":\"#636efa\",\"pattern\":{\"shape\":\"\"}},\"name\":\"\",\"offsetgroup\":\"\",\"orientation\":\"v\",\"showlegend\":false,\"textposition\":\"auto\",\"x\":[\"Nacionalidad espa\\u00f1ola y hombres\",\"Nacionalidad espa\\u00f1ola y mujeres\",\"Nacionalidad extranjera y hombres\",\"Nacionalidad extranjera y mujeres\"],\"xaxis\":\"x19\",\"y\":[3812505.0,3946304.0,375090.0,366288.0],\"yaxis\":\"y19\",\"type\":\"bar\"},{\"alignmentgroup\":\"True\",\"hovertemplate\":\"Comunidades y Ciudades Aut\\u00f3nomas=Arag\\u00f3n<br>Agrupaci\\u00f3n=%{x}<br>Total=%{y}<extra></extra>\",\"legendgroup\":\"\",\"marker\":{\"color\":\"#636efa\",\"pattern\":{\"shape\":\"\"}},\"name\":\"\",\"offsetgroup\":\"\",\"orientation\":\"v\",\"showlegend\":false,\"textposition\":\"auto\",\"x\":[\"Nacionalidad espa\\u00f1ola y hombres\",\"Nacionalidad espa\\u00f1ola y mujeres\",\"Nacionalidad extranjera y hombres\",\"Nacionalidad extranjera y mujeres\"],\"xaxis\":\"x20\",\"y\":[571243.0,590310.0,84233.0,80529.0],\"yaxis\":\"y20\",\"type\":\"bar\"},{\"alignmentgroup\":\"True\",\"hovertemplate\":\"Comunidades y Ciudades Aut\\u00f3nomas=Asturias, Principado de<br>Agrupaci\\u00f3n=%{x}<br>Total=%{y}<extra></extra>\",\"legendgroup\":\"\",\"marker\":{\"color\":\"#636efa\",\"pattern\":{\"shape\":\"\"}},\"name\":\"\",\"offsetgroup\":\"\",\"orientation\":\"v\",\"showlegend\":false,\"textposition\":\"auto\",\"x\":[\"Nacionalidad espa\\u00f1ola y hombres\",\"Nacionalidad espa\\u00f1ola y mujeres\",\"Nacionalidad extranjera y hombres\",\"Nacionalidad extranjera y mujeres\"],\"xaxis\":\"x21\",\"y\":[458084.0,500972.0,21050.0,24580.0],\"yaxis\":\"y21\",\"type\":\"bar\"},{\"alignmentgroup\":\"True\",\"hovertemplate\":\"Comunidades y Ciudades Aut\\u00f3nomas=Balears, Illes<br>Agrupaci\\u00f3n=%{x}<br>Total=%{y}<extra></extra>\",\"legendgroup\":\"\",\"marker\":{\"color\":\"#636efa\",\"pattern\":{\"shape\":\"\"}},\"name\":\"\",\"offsetgroup\":\"\",\"orientation\":\"v\",\"showlegend\":false,\"textposition\":\"auto\",\"x\":[\"Nacionalidad espa\\u00f1ola y hombres\",\"Nacionalidad espa\\u00f1ola y mujeres\",\"Nacionalidad extranjera y hombres\",\"Nacionalidad extranjera y mujeres\"],\"xaxis\":\"x16\",\"y\":[474021.0,480621.0,111675.0,110342.0],\"yaxis\":\"y16\",\"type\":\"bar\"},{\"alignmentgroup\":\"True\",\"hovertemplate\":\"Comunidades y Ciudades Aut\\u00f3nomas=Canarias<br>Agrupaci\\u00f3n=%{x}<br>Total=%{y}<extra></extra>\",\"legendgroup\":\"\",\"marker\":{\"color\":\"#636efa\",\"pattern\":{\"shape\":\"\"}},\"name\":\"\",\"offsetgroup\":\"\",\"orientation\":\"v\",\"showlegend\":false,\"textposition\":\"auto\",\"x\":[\"Nacionalidad espa\\u00f1ola y hombres\",\"Nacionalidad espa\\u00f1ola y mujeres\",\"Nacionalidad extranjera y hombres\",\"Nacionalidad extranjera y mujeres\"],\"xaxis\":\"x17\",\"y\":[932850.0,956362.0,142565.0,145924.0],\"yaxis\":\"y17\",\"type\":\"bar\"},{\"alignmentgroup\":\"True\",\"hovertemplate\":\"Comunidades y Ciudades Aut\\u00f3nomas=Cantabria<br>Agrupaci\\u00f3n=%{x}<br>Total=%{y}<extra></extra>\",\"legendgroup\":\"\",\"marker\":{\"color\":\"#636efa\",\"pattern\":{\"shape\":\"\"}},\"name\":\"\",\"offsetgroup\":\"\",\"orientation\":\"v\",\"showlegend\":false,\"textposition\":\"auto\",\"x\":[\"Nacionalidad espa\\u00f1ola y hombres\",\"Nacionalidad espa\\u00f1ola y mujeres\",\"Nacionalidad extranjera y hombres\",\"Nacionalidad extranjera y mujeres\"],\"xaxis\":\"x18\",\"y\":[265907.0,282292.0,17811.0,19392.0],\"yaxis\":\"y18\",\"type\":\"bar\"},{\"alignmentgroup\":\"True\",\"hovertemplate\":\"Comunidades y Ciudades Aut\\u00f3nomas=Castilla y Le\\u00f3n<br>Agrupaci\\u00f3n=%{x}<br>Total=%{y}<extra></extra>\",\"legendgroup\":\"\",\"marker\":{\"color\":\"#636efa\",\"pattern\":{\"shape\":\"\"}},\"name\":\"\",\"offsetgroup\":\"\",\"orientation\":\"v\",\"showlegend\":false,\"textposition\":\"auto\",\"x\":[\"Nacionalidad espa\\u00f1ola y hombres\",\"Nacionalidad espa\\u00f1ola y mujeres\",\"Nacionalidad extranjera y hombres\",\"Nacionalidad extranjera y mujeres\"],\"xaxis\":\"x13\",\"y\":[1095881.0,1130104.0,72002.0,74653.0],\"yaxis\":\"y13\",\"type\":\"bar\"},{\"alignmentgroup\":\"True\",\"hovertemplate\":\"Comunidades y Ciudades Aut\\u00f3nomas=Castilla - La Mancha<br>Agrupaci\\u00f3n=%{x}<br>Total=%{y}<extra></extra>\",\"legendgroup\":\"\",\"marker\":{\"color\":\"#636efa\",\"pattern\":{\"shape\":\"\"}},\"name\":\"\",\"offsetgroup\":\"\",\"orientation\":\"v\",\"showlegend\":false,\"textposition\":\"auto\",\"x\":[\"Nacionalidad espa\\u00f1ola y hombres\",\"Nacionalidad espa\\u00f1ola y mujeres\",\"Nacionalidad extranjera y hombres\",\"Nacionalidad extranjera y mujeres\"],\"xaxis\":\"x14\",\"y\":[929397.0,930456.0,98606.0,94869.0],\"yaxis\":\"y14\",\"type\":\"bar\"},{\"alignmentgroup\":\"True\",\"hovertemplate\":\"Comunidades y Ciudades Aut\\u00f3nomas=Catalu\\u00f1a<br>Agrupaci\\u00f3n=%{x}<br>Total=%{y}<extra></extra>\",\"legendgroup\":\"\",\"marker\":{\"color\":\"#636efa\",\"pattern\":{\"shape\":\"\"}},\"name\":\"\",\"offsetgroup\":\"\",\"orientation\":\"v\",\"showlegend\":false,\"textposition\":\"auto\",\"x\":[\"Nacionalidad espa\\u00f1ola y hombres\",\"Nacionalidad espa\\u00f1ola y mujeres\",\"Nacionalidad extranjera y hombres\",\"Nacionalidad extranjera y mujeres\"],\"xaxis\":\"x15\",\"y\":[3176747.0,3344054.0,657039.0,614771.0],\"yaxis\":\"y15\",\"type\":\"bar\"},{\"alignmentgroup\":\"True\",\"hovertemplate\":\"Comunidades y Ciudades Aut\\u00f3nomas=Comunitat Valenciana<br>Agrupaci\\u00f3n=%{x}<br>Total=%{y}<extra></extra>\",\"legendgroup\":\"\",\"marker\":{\"color\":\"#636efa\",\"pattern\":{\"shape\":\"\"}},\"name\":\"\",\"offsetgroup\":\"\",\"orientation\":\"v\",\"showlegend\":false,\"textposition\":\"auto\",\"x\":[\"Nacionalidad espa\\u00f1ola y hombres\",\"Nacionalidad espa\\u00f1ola y mujeres\",\"Nacionalidad extranjera y hombres\",\"Nacionalidad extranjera y mujeres\"],\"xaxis\":\"x10\",\"y\":[2117021.0,2196477.0,392940.0,391529.0],\"yaxis\":\"y10\",\"type\":\"bar\"},{\"alignmentgroup\":\"True\",\"hovertemplate\":\"Comunidades y Ciudades Aut\\u00f3nomas=Extremadura<br>Agrupaci\\u00f3n=%{x}<br>Total=%{y}<extra></extra>\",\"legendgroup\":\"\",\"marker\":{\"color\":\"#636efa\",\"pattern\":{\"shape\":\"\"}},\"name\":\"\",\"offsetgroup\":\"\",\"orientation\":\"v\",\"showlegend\":false,\"textposition\":\"auto\",\"x\":[\"Nacionalidad espa\\u00f1ola y hombres\",\"Nacionalidad espa\\u00f1ola y mujeres\",\"Nacionalidad extranjera y hombres\",\"Nacionalidad extranjera y mujeres\"],\"xaxis\":\"x11\",\"y\":[504519.0,515119.0,16944.0,18194.0],\"yaxis\":\"y11\",\"type\":\"bar\"},{\"alignmentgroup\":\"True\",\"hovertemplate\":\"Comunidades y Ciudades Aut\\u00f3nomas=Galicia<br>Agrupaci\\u00f3n=%{x}<br>Total=%{y}<extra></extra>\",\"legendgroup\":\"\",\"marker\":{\"color\":\"#636efa\",\"pattern\":{\"shape\":\"\"}},\"name\":\"\",\"offsetgroup\":\"\",\"orientation\":\"v\",\"showlegend\":false,\"textposition\":\"auto\",\"x\":[\"Nacionalidad espa\\u00f1ola y hombres\",\"Nacionalidad espa\\u00f1ola y mujeres\",\"Nacionalidad extranjera y hombres\",\"Nacionalidad extranjera y mujeres\"],\"xaxis\":\"x12\",\"y\":[1237678.0,1334046.0,57030.0,61710.0],\"yaxis\":\"y12\",\"type\":\"bar\"},{\"alignmentgroup\":\"True\",\"hovertemplate\":\"Comunidades y Ciudades Aut\\u00f3nomas=Madrid, Comunidad de<br>Agrupaci\\u00f3n=%{x}<br>Total=%{y}<extra></extra>\",\"legendgroup\":\"\",\"marker\":{\"color\":\"#636efa\",\"pattern\":{\"shape\":\"\"}},\"name\":\"\",\"offsetgroup\":\"\",\"orientation\":\"v\",\"showlegend\":false,\"textposition\":\"auto\",\"x\":[\"Nacionalidad espa\\u00f1ola y hombres\",\"Nacionalidad espa\\u00f1ola y mujeres\",\"Nacionalidad extranjera y hombres\",\"Nacionalidad extranjera y mujeres\"],\"xaxis\":\"x7\",\"y\":[2780057.0,3020310.0,450097.0,499872.0],\"yaxis\":\"y7\",\"type\":\"bar\"},{\"alignmentgroup\":\"True\",\"hovertemplate\":\"Comunidades y Ciudades Aut\\u00f3nomas=Murcia, Regi\\u00f3n de<br>Agrupaci\\u00f3n=%{x}<br>Total=%{y}<extra></extra>\",\"legendgroup\":\"\",\"marker\":{\"color\":\"#636efa\",\"pattern\":{\"shape\":\"\"}},\"name\":\"\",\"offsetgroup\":\"\",\"orientation\":\"v\",\"showlegend\":false,\"textposition\":\"auto\",\"x\":[\"Nacionalidad espa\\u00f1ola y hombres\",\"Nacionalidad espa\\u00f1ola y mujeres\",\"Nacionalidad extranjera y hombres\",\"Nacionalidad extranjera y mujeres\"],\"xaxis\":\"x8\",\"y\":[644830.0,660283.0,122578.0,104187.0],\"yaxis\":\"y8\",\"type\":\"bar\"},{\"alignmentgroup\":\"True\",\"hovertemplate\":\"Comunidades y Ciudades Aut\\u00f3nomas=Navarra, Comunidad Foral de<br>Agrupaci\\u00f3n=%{x}<br>Total=%{y}<extra></extra>\",\"legendgroup\":\"\",\"marker\":{\"color\":\"#636efa\",\"pattern\":{\"shape\":\"\"}},\"name\":\"\",\"offsetgroup\":\"\",\"orientation\":\"v\",\"showlegend\":false,\"textposition\":\"auto\",\"x\":[\"Nacionalidad espa\\u00f1ola y hombres\",\"Nacionalidad espa\\u00f1ola y mujeres\",\"Nacionalidad extranjera y hombres\",\"Nacionalidad extranjera y mujeres\"],\"xaxis\":\"x9\",\"y\":[291531.0,299111.0,37089.0,36386.0],\"yaxis\":\"y9\",\"type\":\"bar\"},{\"alignmentgroup\":\"True\",\"hovertemplate\":\"Comunidades y Ciudades Aut\\u00f3nomas=Pa\\u00eds Vasco<br>Agrupaci\\u00f3n=%{x}<br>Total=%{y}<extra></extra>\",\"legendgroup\":\"\",\"marker\":{\"color\":\"#636efa\",\"pattern\":{\"shape\":\"\"}},\"name\":\"\",\"offsetgroup\":\"\",\"orientation\":\"v\",\"showlegend\":false,\"textposition\":\"auto\",\"x\":[\"Nacionalidad espa\\u00f1ola y hombres\",\"Nacionalidad espa\\u00f1ola y mujeres\",\"Nacionalidad extranjera y hombres\",\"Nacionalidad extranjera y mujeres\"],\"xaxis\":\"x4\",\"y\":[980673.0,1042884.0,92920.0,91697.0],\"yaxis\":\"y4\",\"type\":\"bar\"},{\"alignmentgroup\":\"True\",\"hovertemplate\":\"Comunidades y Ciudades Aut\\u00f3nomas=Rioja, La<br>Agrupaci\\u00f3n=%{x}<br>Total=%{y}<extra></extra>\",\"legendgroup\":\"\",\"marker\":{\"color\":\"#636efa\",\"pattern\":{\"shape\":\"\"}},\"name\":\"\",\"offsetgroup\":\"\",\"orientation\":\"v\",\"showlegend\":false,\"textposition\":\"auto\",\"x\":[\"Nacionalidad espa\\u00f1ola y hombres\",\"Nacionalidad espa\\u00f1ola y mujeres\",\"Nacionalidad extranjera y hombres\",\"Nacionalidad extranjera y mujeres\"],\"xaxis\":\"x5\",\"y\":[137163.0,140974.0,20688.0,21067.0],\"yaxis\":\"y5\",\"type\":\"bar\"},{\"alignmentgroup\":\"True\",\"hovertemplate\":\"Comunidades y Ciudades Aut\\u00f3nomas=Ceuta<br>Agrupaci\\u00f3n=%{x}<br>Total=%{y}<extra></extra>\",\"legendgroup\":\"\",\"marker\":{\"color\":\"#636efa\",\"pattern\":{\"shape\":\"\"}},\"name\":\"\",\"offsetgroup\":\"\",\"orientation\":\"v\",\"showlegend\":false,\"textposition\":\"auto\",\"x\":[\"Nacionalidad espa\\u00f1ola y hombres\",\"Nacionalidad espa\\u00f1ola y mujeres\",\"Nacionalidad extranjera y hombres\",\"Nacionalidad extranjera y mujeres\"],\"xaxis\":\"x6\",\"y\":[39607.0,38600.0,2320.0,2590.0],\"yaxis\":\"y6\",\"type\":\"bar\"},{\"alignmentgroup\":\"True\",\"hovertemplate\":\"Comunidades y Ciudades Aut\\u00f3nomas=Melilla<br>Agrupaci\\u00f3n=%{x}<br>Total=%{y}<extra></extra>\",\"legendgroup\":\"\",\"marker\":{\"color\":\"#636efa\",\"pattern\":{\"shape\":\"\"}},\"name\":\"\",\"offsetgroup\":\"\",\"orientation\":\"v\",\"showlegend\":false,\"textposition\":\"auto\",\"x\":[\"Nacionalidad espa\\u00f1ola y hombres\",\"Nacionalidad espa\\u00f1ola y mujeres\",\"Nacionalidad extranjera y hombres\",\"Nacionalidad extranjera y mujeres\"],\"xaxis\":\"x\",\"y\":[37453.0,36042.0,5537.0,6138.0],\"yaxis\":\"y\",\"type\":\"bar\"}],                        {\"template\":{\"data\":{\"histogram2dcontour\":[{\"type\":\"histogram2dcontour\",\"colorbar\":{\"outlinewidth\":0,\"ticks\":\"\"},\"colorscale\":[[0.0,\"#0d0887\"],[0.1111111111111111,\"#46039f\"],[0.2222222222222222,\"#7201a8\"],[0.3333333333333333,\"#9c179e\"],[0.4444444444444444,\"#bd3786\"],[0.5555555555555556,\"#d8576b\"],[0.6666666666666666,\"#ed7953\"],[0.7777777777777778,\"#fb9f3a\"],[0.8888888888888888,\"#fdca26\"],[1.0,\"#f0f921\"]]}],\"choropleth\":[{\"type\":\"choropleth\",\"colorbar\":{\"outlinewidth\":0,\"ticks\":\"\"}}],\"histogram2d\":[{\"type\":\"histogram2d\",\"colorbar\":{\"outlinewidth\":0,\"ticks\":\"\"},\"colorscale\":[[0.0,\"#0d0887\"],[0.1111111111111111,\"#46039f\"],[0.2222222222222222,\"#7201a8\"],[0.3333333333333333,\"#9c179e\"],[0.4444444444444444,\"#bd3786\"],[0.5555555555555556,\"#d8576b\"],[0.6666666666666666,\"#ed7953\"],[0.7777777777777778,\"#fb9f3a\"],[0.8888888888888888,\"#fdca26\"],[1.0,\"#f0f921\"]]}],\"heatmap\":[{\"type\":\"heatmap\",\"colorbar\":{\"outlinewidth\":0,\"ticks\":\"\"},\"colorscale\":[[0.0,\"#0d0887\"],[0.1111111111111111,\"#46039f\"],[0.2222222222222222,\"#7201a8\"],[0.3333333333333333,\"#9c179e\"],[0.4444444444444444,\"#bd3786\"],[0.5555555555555556,\"#d8576b\"],[0.6666666666666666,\"#ed7953\"],[0.7777777777777778,\"#fb9f3a\"],[0.8888888888888888,\"#fdca26\"],[1.0,\"#f0f921\"]]}],\"heatmapgl\":[{\"type\":\"heatmapgl\",\"colorbar\":{\"outlinewidth\":0,\"ticks\":\"\"},\"colorscale\":[[0.0,\"#0d0887\"],[0.1111111111111111,\"#46039f\"],[0.2222222222222222,\"#7201a8\"],[0.3333333333333333,\"#9c179e\"],[0.4444444444444444,\"#bd3786\"],[0.5555555555555556,\"#d8576b\"],[0.6666666666666666,\"#ed7953\"],[0.7777777777777778,\"#fb9f3a\"],[0.8888888888888888,\"#fdca26\"],[1.0,\"#f0f921\"]]}],\"contourcarpet\":[{\"type\":\"contourcarpet\",\"colorbar\":{\"outlinewidth\":0,\"ticks\":\"\"}}],\"contour\":[{\"type\":\"contour\",\"colorbar\":{\"outlinewidth\":0,\"ticks\":\"\"},\"colorscale\":[[0.0,\"#0d0887\"],[0.1111111111111111,\"#46039f\"],[0.2222222222222222,\"#7201a8\"],[0.3333333333333333,\"#9c179e\"],[0.4444444444444444,\"#bd3786\"],[0.5555555555555556,\"#d8576b\"],[0.6666666666666666,\"#ed7953\"],[0.7777777777777778,\"#fb9f3a\"],[0.8888888888888888,\"#fdca26\"],[1.0,\"#f0f921\"]]}],\"surface\":[{\"type\":\"surface\",\"colorbar\":{\"outlinewidth\":0,\"ticks\":\"\"},\"colorscale\":[[0.0,\"#0d0887\"],[0.1111111111111111,\"#46039f\"],[0.2222222222222222,\"#7201a8\"],[0.3333333333333333,\"#9c179e\"],[0.4444444444444444,\"#bd3786\"],[0.5555555555555556,\"#d8576b\"],[0.6666666666666666,\"#ed7953\"],[0.7777777777777778,\"#fb9f3a\"],[0.8888888888888888,\"#fdca26\"],[1.0,\"#f0f921\"]]}],\"mesh3d\":[{\"type\":\"mesh3d\",\"colorbar\":{\"outlinewidth\":0,\"ticks\":\"\"}}],\"scatter\":[{\"fillpattern\":{\"fillmode\":\"overlay\",\"size\":10,\"solidity\":0.2},\"type\":\"scatter\"}],\"parcoords\":[{\"type\":\"parcoords\",\"line\":{\"colorbar\":{\"outlinewidth\":0,\"ticks\":\"\"}}}],\"scatterpolargl\":[{\"type\":\"scatterpolargl\",\"marker\":{\"colorbar\":{\"outlinewidth\":0,\"ticks\":\"\"}}}],\"bar\":[{\"error_x\":{\"color\":\"#2a3f5f\"},\"error_y\":{\"color\":\"#2a3f5f\"},\"marker\":{\"line\":{\"color\":\"#E5ECF6\",\"width\":0.5},\"pattern\":{\"fillmode\":\"overlay\",\"size\":10,\"solidity\":0.2}},\"type\":\"bar\"}],\"scattergeo\":[{\"type\":\"scattergeo\",\"marker\":{\"colorbar\":{\"outlinewidth\":0,\"ticks\":\"\"}}}],\"scatterpolar\":[{\"type\":\"scatterpolar\",\"marker\":{\"colorbar\":{\"outlinewidth\":0,\"ticks\":\"\"}}}],\"histogram\":[{\"marker\":{\"pattern\":{\"fillmode\":\"overlay\",\"size\":10,\"solidity\":0.2}},\"type\":\"histogram\"}],\"scattergl\":[{\"type\":\"scattergl\",\"marker\":{\"colorbar\":{\"outlinewidth\":0,\"ticks\":\"\"}}}],\"scatter3d\":[{\"type\":\"scatter3d\",\"line\":{\"colorbar\":{\"outlinewidth\":0,\"ticks\":\"\"}},\"marker\":{\"colorbar\":{\"outlinewidth\":0,\"ticks\":\"\"}}}],\"scattermapbox\":[{\"type\":\"scattermapbox\",\"marker\":{\"colorbar\":{\"outlinewidth\":0,\"ticks\":\"\"}}}],\"scatterternary\":[{\"type\":\"scatterternary\",\"marker\":{\"colorbar\":{\"outlinewidth\":0,\"ticks\":\"\"}}}],\"scattercarpet\":[{\"type\":\"scattercarpet\",\"marker\":{\"colorbar\":{\"outlinewidth\":0,\"ticks\":\"\"}}}],\"carpet\":[{\"aaxis\":{\"endlinecolor\":\"#2a3f5f\",\"gridcolor\":\"white\",\"linecolor\":\"white\",\"minorgridcolor\":\"white\",\"startlinecolor\":\"#2a3f5f\"},\"baxis\":{\"endlinecolor\":\"#2a3f5f\",\"gridcolor\":\"white\",\"linecolor\":\"white\",\"minorgridcolor\":\"white\",\"startlinecolor\":\"#2a3f5f\"},\"type\":\"carpet\"}],\"table\":[{\"cells\":{\"fill\":{\"color\":\"#EBF0F8\"},\"line\":{\"color\":\"white\"}},\"header\":{\"fill\":{\"color\":\"#C8D4E3\"},\"line\":{\"color\":\"white\"}},\"type\":\"table\"}],\"barpolar\":[{\"marker\":{\"line\":{\"color\":\"#E5ECF6\",\"width\":0.5},\"pattern\":{\"fillmode\":\"overlay\",\"size\":10,\"solidity\":0.2}},\"type\":\"barpolar\"}],\"pie\":[{\"automargin\":true,\"type\":\"pie\"}]},\"layout\":{\"autotypenumbers\":\"strict\",\"colorway\":[\"#636efa\",\"#EF553B\",\"#00cc96\",\"#ab63fa\",\"#FFA15A\",\"#19d3f3\",\"#FF6692\",\"#B6E880\",\"#FF97FF\",\"#FECB52\"],\"font\":{\"color\":\"#2a3f5f\"},\"hovermode\":\"closest\",\"hoverlabel\":{\"align\":\"left\"},\"paper_bgcolor\":\"white\",\"plot_bgcolor\":\"#E5ECF6\",\"polar\":{\"bgcolor\":\"#E5ECF6\",\"angularaxis\":{\"gridcolor\":\"white\",\"linecolor\":\"white\",\"ticks\":\"\"},\"radialaxis\":{\"gridcolor\":\"white\",\"linecolor\":\"white\",\"ticks\":\"\"}},\"ternary\":{\"bgcolor\":\"#E5ECF6\",\"aaxis\":{\"gridcolor\":\"white\",\"linecolor\":\"white\",\"ticks\":\"\"},\"baxis\":{\"gridcolor\":\"white\",\"linecolor\":\"white\",\"ticks\":\"\"},\"caxis\":{\"gridcolor\":\"white\",\"linecolor\":\"white\",\"ticks\":\"\"}},\"coloraxis\":{\"colorbar\":{\"outlinewidth\":0,\"ticks\":\"\"}},\"colorscale\":{\"sequential\":[[0.0,\"#0d0887\"],[0.1111111111111111,\"#46039f\"],[0.2222222222222222,\"#7201a8\"],[0.3333333333333333,\"#9c179e\"],[0.4444444444444444,\"#bd3786\"],[0.5555555555555556,\"#d8576b\"],[0.6666666666666666,\"#ed7953\"],[0.7777777777777778,\"#fb9f3a\"],[0.8888888888888888,\"#fdca26\"],[1.0,\"#f0f921\"]],\"sequentialminus\":[[0.0,\"#0d0887\"],[0.1111111111111111,\"#46039f\"],[0.2222222222222222,\"#7201a8\"],[0.3333333333333333,\"#9c179e\"],[0.4444444444444444,\"#bd3786\"],[0.5555555555555556,\"#d8576b\"],[0.6666666666666666,\"#ed7953\"],[0.7777777777777778,\"#fb9f3a\"],[0.8888888888888888,\"#fdca26\"],[1.0,\"#f0f921\"]],\"diverging\":[[0,\"#8e0152\"],[0.1,\"#c51b7d\"],[0.2,\"#de77ae\"],[0.3,\"#f1b6da\"],[0.4,\"#fde0ef\"],[0.5,\"#f7f7f7\"],[0.6,\"#e6f5d0\"],[0.7,\"#b8e186\"],[0.8,\"#7fbc41\"],[0.9,\"#4d9221\"],[1,\"#276419\"]]},\"xaxis\":{\"gridcolor\":\"white\",\"linecolor\":\"white\",\"ticks\":\"\",\"title\":{\"standoff\":15},\"zerolinecolor\":\"white\",\"automargin\":true,\"zerolinewidth\":2},\"yaxis\":{\"gridcolor\":\"white\",\"linecolor\":\"white\",\"ticks\":\"\",\"title\":{\"standoff\":15},\"zerolinecolor\":\"white\",\"automargin\":true,\"zerolinewidth\":2},\"scene\":{\"xaxis\":{\"backgroundcolor\":\"#E5ECF6\",\"gridcolor\":\"white\",\"linecolor\":\"white\",\"showbackground\":true,\"ticks\":\"\",\"zerolinecolor\":\"white\",\"gridwidth\":2},\"yaxis\":{\"backgroundcolor\":\"#E5ECF6\",\"gridcolor\":\"white\",\"linecolor\":\"white\",\"showbackground\":true,\"ticks\":\"\",\"zerolinecolor\":\"white\",\"gridwidth\":2},\"zaxis\":{\"backgroundcolor\":\"#E5ECF6\",\"gridcolor\":\"white\",\"linecolor\":\"white\",\"showbackground\":true,\"ticks\":\"\",\"zerolinecolor\":\"white\",\"gridwidth\":2}},\"shapedefaults\":{\"line\":{\"color\":\"#2a3f5f\"}},\"annotationdefaults\":{\"arrowcolor\":\"#2a3f5f\",\"arrowhead\":0,\"arrowwidth\":1},\"geo\":{\"bgcolor\":\"white\",\"landcolor\":\"#E5ECF6\",\"subunitcolor\":\"white\",\"showland\":true,\"showlakes\":true,\"lakecolor\":\"white\"},\"title\":{\"x\":0.05},\"mapbox\":{\"style\":\"light\"}}},\"xaxis\":{\"anchor\":\"y\",\"domain\":[0.0,0.31999999999999995],\"title\":{\"text\":\"Agrupaci\\u00f3n\"},\"categoryorder\":\"total descending\"},\"yaxis\":{\"anchor\":\"x\",\"domain\":[0.0,0.08285714285714285],\"title\":{\"text\":\"Total\"}},\"xaxis2\":{\"anchor\":\"y2\",\"domain\":[0.33999999999999997,0.6599999999999999],\"matches\":\"x\",\"title\":{\"text\":\"Agrupaci\\u00f3n\"}},\"yaxis2\":{\"anchor\":\"x2\",\"domain\":[0.0,0.08285714285714285],\"matches\":\"y\",\"showticklabels\":false},\"xaxis3\":{\"anchor\":\"y3\",\"domain\":[0.6799999999999999,0.9999999999999999],\"matches\":\"x\",\"title\":{\"text\":\"Agrupaci\\u00f3n\"}},\"yaxis3\":{\"anchor\":\"x3\",\"domain\":[0.0,0.08285714285714285],\"matches\":\"y\",\"showticklabels\":false},\"xaxis4\":{\"anchor\":\"y4\",\"domain\":[0.0,0.31999999999999995],\"matches\":\"x\",\"showticklabels\":false},\"yaxis4\":{\"anchor\":\"x4\",\"domain\":[0.15285714285714286,0.2357142857142857],\"matches\":\"y\",\"title\":{\"text\":\"Total\"}},\"xaxis5\":{\"anchor\":\"y5\",\"domain\":[0.33999999999999997,0.6599999999999999],\"matches\":\"x\",\"showticklabels\":false},\"yaxis5\":{\"anchor\":\"x5\",\"domain\":[0.15285714285714286,0.2357142857142857],\"matches\":\"y\",\"showticklabels\":false},\"xaxis6\":{\"anchor\":\"y6\",\"domain\":[0.6799999999999999,0.9999999999999999],\"matches\":\"x\",\"showticklabels\":false},\"yaxis6\":{\"anchor\":\"x6\",\"domain\":[0.15285714285714286,0.2357142857142857],\"matches\":\"y\",\"showticklabels\":false},\"xaxis7\":{\"anchor\":\"y7\",\"domain\":[0.0,0.31999999999999995],\"matches\":\"x\",\"showticklabels\":false},\"yaxis7\":{\"anchor\":\"x7\",\"domain\":[0.3057142857142857,0.38857142857142857],\"matches\":\"y\",\"title\":{\"text\":\"Total\"}},\"xaxis8\":{\"anchor\":\"y8\",\"domain\":[0.33999999999999997,0.6599999999999999],\"matches\":\"x\",\"showticklabels\":false},\"yaxis8\":{\"anchor\":\"x8\",\"domain\":[0.3057142857142857,0.38857142857142857],\"matches\":\"y\",\"showticklabels\":false},\"xaxis9\":{\"anchor\":\"y9\",\"domain\":[0.6799999999999999,0.9999999999999999],\"matches\":\"x\",\"showticklabels\":false},\"yaxis9\":{\"anchor\":\"x9\",\"domain\":[0.3057142857142857,0.38857142857142857],\"matches\":\"y\",\"showticklabels\":false},\"xaxis10\":{\"anchor\":\"y10\",\"domain\":[0.0,0.31999999999999995],\"matches\":\"x\",\"showticklabels\":false},\"yaxis10\":{\"anchor\":\"x10\",\"domain\":[0.4585714285714286,0.5414285714285714],\"matches\":\"y\",\"title\":{\"text\":\"Total\"}},\"xaxis11\":{\"anchor\":\"y11\",\"domain\":[0.33999999999999997,0.6599999999999999],\"matches\":\"x\",\"showticklabels\":false},\"yaxis11\":{\"anchor\":\"x11\",\"domain\":[0.4585714285714286,0.5414285714285714],\"matches\":\"y\",\"showticklabels\":false},\"xaxis12\":{\"anchor\":\"y12\",\"domain\":[0.6799999999999999,0.9999999999999999],\"matches\":\"x\",\"showticklabels\":false},\"yaxis12\":{\"anchor\":\"x12\",\"domain\":[0.4585714285714286,0.5414285714285714],\"matches\":\"y\",\"showticklabels\":false},\"xaxis13\":{\"anchor\":\"y13\",\"domain\":[0.0,0.31999999999999995],\"matches\":\"x\",\"showticklabels\":false},\"yaxis13\":{\"anchor\":\"x13\",\"domain\":[0.6114285714285714,0.6942857142857143],\"matches\":\"y\",\"title\":{\"text\":\"Total\"}},\"xaxis14\":{\"anchor\":\"y14\",\"domain\":[0.33999999999999997,0.6599999999999999],\"matches\":\"x\",\"showticklabels\":false},\"yaxis14\":{\"anchor\":\"x14\",\"domain\":[0.6114285714285714,0.6942857142857143],\"matches\":\"y\",\"showticklabels\":false},\"xaxis15\":{\"anchor\":\"y15\",\"domain\":[0.6799999999999999,0.9999999999999999],\"matches\":\"x\",\"showticklabels\":false},\"yaxis15\":{\"anchor\":\"x15\",\"domain\":[0.6114285714285714,0.6942857142857143],\"matches\":\"y\",\"showticklabels\":false},\"xaxis16\":{\"anchor\":\"y16\",\"domain\":[0.0,0.31999999999999995],\"matches\":\"x\",\"showticklabels\":false},\"yaxis16\":{\"anchor\":\"x16\",\"domain\":[0.7642857142857142,0.8471428571428571],\"matches\":\"y\",\"title\":{\"text\":\"Total\"}},\"xaxis17\":{\"anchor\":\"y17\",\"domain\":[0.33999999999999997,0.6599999999999999],\"matches\":\"x\",\"showticklabels\":false},\"yaxis17\":{\"anchor\":\"x17\",\"domain\":[0.7642857142857142,0.8471428571428571],\"matches\":\"y\",\"showticklabels\":false},\"xaxis18\":{\"anchor\":\"y18\",\"domain\":[0.6799999999999999,0.9999999999999999],\"matches\":\"x\",\"showticklabels\":false},\"yaxis18\":{\"anchor\":\"x18\",\"domain\":[0.7642857142857142,0.8471428571428571],\"matches\":\"y\",\"showticklabels\":false},\"xaxis19\":{\"anchor\":\"y19\",\"domain\":[0.0,0.31999999999999995],\"matches\":\"x\",\"showticklabels\":false},\"yaxis19\":{\"anchor\":\"x19\",\"domain\":[0.9171428571428571,1.0],\"matches\":\"y\",\"title\":{\"text\":\"Total\"}},\"xaxis20\":{\"anchor\":\"y20\",\"domain\":[0.33999999999999997,0.6599999999999999],\"matches\":\"x\",\"showticklabels\":false},\"yaxis20\":{\"anchor\":\"x20\",\"domain\":[0.9171428571428571,1.0],\"matches\":\"y\",\"showticklabels\":false},\"xaxis21\":{\"anchor\":\"y21\",\"domain\":[0.6799999999999999,0.9999999999999999],\"matches\":\"x\",\"showticklabels\":false},\"yaxis21\":{\"anchor\":\"x21\",\"domain\":[0.9171428571428571,1.0],\"matches\":\"y\",\"showticklabels\":false},\"annotations\":[{\"font\":{},\"showarrow\":false,\"text\":\"Melilla\",\"x\":0.15999999999999998,\"xanchor\":\"center\",\"xref\":\"paper\",\"y\":0.08285714285714285,\"yanchor\":\"bottom\",\"yref\":\"paper\"},{\"font\":{},\"showarrow\":false,\"text\":\"Pa\\u00eds Vasco\",\"x\":0.15999999999999998,\"xanchor\":\"center\",\"xref\":\"paper\",\"y\":0.2357142857142857,\"yanchor\":\"bottom\",\"yref\":\"paper\"},{\"font\":{},\"showarrow\":false,\"text\":\"Rioja, La\",\"x\":0.49999999999999994,\"xanchor\":\"center\",\"xref\":\"paper\",\"y\":0.2357142857142857,\"yanchor\":\"bottom\",\"yref\":\"paper\"},{\"font\":{},\"showarrow\":false,\"text\":\"Ceuta\",\"x\":0.8399999999999999,\"xanchor\":\"center\",\"xref\":\"paper\",\"y\":0.2357142857142857,\"yanchor\":\"bottom\",\"yref\":\"paper\"},{\"font\":{},\"showarrow\":false,\"text\":\"Madrid, Comunidad de\",\"x\":0.15999999999999998,\"xanchor\":\"center\",\"xref\":\"paper\",\"y\":0.38857142857142857,\"yanchor\":\"bottom\",\"yref\":\"paper\"},{\"font\":{},\"showarrow\":false,\"text\":\"Murcia, Regi\\u00f3n de\",\"x\":0.49999999999999994,\"xanchor\":\"center\",\"xref\":\"paper\",\"y\":0.38857142857142857,\"yanchor\":\"bottom\",\"yref\":\"paper\"},{\"font\":{},\"showarrow\":false,\"text\":\"Navarra, Comunidad Foral de\",\"x\":0.8399999999999999,\"xanchor\":\"center\",\"xref\":\"paper\",\"y\":0.38857142857142857,\"yanchor\":\"bottom\",\"yref\":\"paper\"},{\"font\":{},\"showarrow\":false,\"text\":\"Comunitat Valenciana\",\"x\":0.15999999999999998,\"xanchor\":\"center\",\"xref\":\"paper\",\"y\":0.5414285714285714,\"yanchor\":\"bottom\",\"yref\":\"paper\"},{\"font\":{},\"showarrow\":false,\"text\":\"Extremadura\",\"x\":0.49999999999999994,\"xanchor\":\"center\",\"xref\":\"paper\",\"y\":0.5414285714285714,\"yanchor\":\"bottom\",\"yref\":\"paper\"},{\"font\":{},\"showarrow\":false,\"text\":\"Galicia\",\"x\":0.8399999999999999,\"xanchor\":\"center\",\"xref\":\"paper\",\"y\":0.5414285714285714,\"yanchor\":\"bottom\",\"yref\":\"paper\"},{\"font\":{},\"showarrow\":false,\"text\":\"Castilla y Le\\u00f3n\",\"x\":0.15999999999999998,\"xanchor\":\"center\",\"xref\":\"paper\",\"y\":0.6942857142857143,\"yanchor\":\"bottom\",\"yref\":\"paper\"},{\"font\":{},\"showarrow\":false,\"text\":\"Castilla - La Mancha\",\"x\":0.49999999999999994,\"xanchor\":\"center\",\"xref\":\"paper\",\"y\":0.6942857142857143,\"yanchor\":\"bottom\",\"yref\":\"paper\"},{\"font\":{},\"showarrow\":false,\"text\":\"Catalu\\u00f1a\",\"x\":0.8399999999999999,\"xanchor\":\"center\",\"xref\":\"paper\",\"y\":0.6942857142857143,\"yanchor\":\"bottom\",\"yref\":\"paper\"},{\"font\":{},\"showarrow\":false,\"text\":\"Balears, Illes\",\"x\":0.15999999999999998,\"xanchor\":\"center\",\"xref\":\"paper\",\"y\":0.8471428571428571,\"yanchor\":\"bottom\",\"yref\":\"paper\"},{\"font\":{},\"showarrow\":false,\"text\":\"Canarias\",\"x\":0.49999999999999994,\"xanchor\":\"center\",\"xref\":\"paper\",\"y\":0.8471428571428571,\"yanchor\":\"bottom\",\"yref\":\"paper\"},{\"font\":{},\"showarrow\":false,\"text\":\"Cantabria\",\"x\":0.8399999999999999,\"xanchor\":\"center\",\"xref\":\"paper\",\"y\":0.8471428571428571,\"yanchor\":\"bottom\",\"yref\":\"paper\"},{\"font\":{},\"showarrow\":false,\"text\":\"Andaluc\\u00eda\",\"x\":0.15999999999999998,\"xanchor\":\"center\",\"xref\":\"paper\",\"y\":1.0,\"yanchor\":\"bottom\",\"yref\":\"paper\"},{\"font\":{},\"showarrow\":false,\"text\":\"Arag\\u00f3n\",\"x\":0.49999999999999994,\"xanchor\":\"center\",\"xref\":\"paper\",\"y\":1.0,\"yanchor\":\"bottom\",\"yref\":\"paper\"},{\"font\":{},\"showarrow\":false,\"text\":\"Asturias, Principado de\",\"x\":0.8399999999999999,\"xanchor\":\"center\",\"xref\":\"paper\",\"y\":1.0,\"yanchor\":\"bottom\",\"yref\":\"paper\"}],\"legend\":{\"tracegroupgap\":0},\"title\":{\"text\":\"Poblaci\\u00f3n por CCAA y agrupaci\\u00f3n en 2022\"},\"barmode\":\"stack\"},                        {\"responsive\": true}                    ).then(function(){\n",
       "                            \n",
       "var gd = document.getElementById('0ece40d1-c948-4e19-b4fd-e672dd755dc8');\n",
       "var x = new MutationObserver(function (mutations, observer) {{\n",
       "        var display = window.getComputedStyle(gd).display;\n",
       "        if (!display || display === 'none') {{\n",
       "            console.log([gd, 'removed!']);\n",
       "            Plotly.purge(gd);\n",
       "            observer.disconnect();\n",
       "        }}\n",
       "}});\n",
       "\n",
       "// Listen for the removal of the full notebook cells\n",
       "var notebookContainer = gd.closest('#notebook-container');\n",
       "if (notebookContainer) {{\n",
       "    x.observe(notebookContainer, {childList: true});\n",
       "}}\n",
       "\n",
       "// Listen for the clearing of the current output cell\n",
       "var outputEl = gd.closest('.output');\n",
       "if (outputEl) {{\n",
       "    x.observe(outputEl, {childList: true});\n",
       "}}\n",
       "\n",
       "                        })                };                });            </script>        </div>"
      ]
     },
     "metadata": {},
     "output_type": "display_data"
    }
   ],
   "source": [
    "spanish_population_per_ccaa_small_multiple_columns(n_cols = 3)"
   ]
  },
  {
   "cell_type": "markdown",
   "id": "8c943721",
   "metadata": {},
   "source": [
    "Por otro lado, podemos observar que el efecto de reducir el numero de columnas se traduce en un decrimento de la legibilidad del gráfico, aglutinandose las etiquetas del eje vertical y siendo más difícil distinguir los datos de los gráficos,"
   ]
  },
  {
   "cell_type": "markdown",
   "id": "8c885966",
   "metadata": {},
   "source": [
    "# Small multiple - pie charts"
   ]
  },
  {
   "cell_type": "markdown",
   "id": "8b40a949",
   "metadata": {},
   "source": [
    "También es interesante tener en cuenta que la legibilidad de un small multiple diagram puede verse muy influida por el tipo de gráfico que empleamos en su composición. Si en vez de considerar un diagrama de barras consideramos uno de tarta, es mucho más sencillo analizar la distribución de la población, aunque dejamos de ser capaces de apreciar la magnitud de cada segmento."
   ]
  },
  {
   "cell_type": "code",
   "execution_count": 56,
   "id": "9561619a",
   "metadata": {},
   "outputs": [],
   "source": [
    "import plotly\n",
    "import plotly.express as px\n",
    "\n",
    "def spanish_population_per_ccaa_small_multiple_pies(year=2022, n_cols = 5):\n",
    "    \n",
    "    # Load data\n",
    "    data = population_ccaa_grouped(year)\n",
    "    \n",
    "    # Create bar plot\n",
    "    fig = px.pie(data, names='Agrupación', values='Total',\n",
    "                 facet_col = 'Comunidades y Ciudades Autónomas',\n",
    "                 facet_col_wrap = n_cols,\n",
    "                 title = 'Población por CCAA y agrupación en ' + str(year))\n",
    "    \n",
    "    fig.for_each_annotation(lambda a: a.update(text=a.text.split(\"=\")[-1]))\n",
    "    \n",
    "    # Save figure\n",
    "    plotly.offline.plot(fig, filename='Población por CCAA y agrupación en ' + str(year)+ ' - ' + str(n_cols) + ' pie chart.html')\n",
    "    \n",
    "    return fig"
   ]
  },
  {
   "cell_type": "code",
   "execution_count": 57,
   "id": "c13e2067",
   "metadata": {},
   "outputs": [
    {
     "data": {
      "application/vnd.plotly.v1+json": {
       "config": {
        "plotlyServerURL": "https://plot.ly"
       },
       "data": [
        {
         "domain": {
          "x": [
           0,
           0.18400000000000002
          ],
          "y": [
           0.8025,
           1
          ]
         },
         "hovertemplate": "Comunidades y Ciudades Autónomas=Andalucía<br>Agrupación=%{label}<br>Total=%{value}<extra></extra>",
         "labels": [
          "Nacionalidad española y hombres",
          "Nacionalidad española y mujeres",
          "Nacionalidad extranjera y hombres",
          "Nacionalidad extranjera y mujeres"
         ],
         "legendgroup": "",
         "name": "",
         "showlegend": true,
         "type": "pie",
         "values": [
          3812505,
          3946304,
          375090,
          366288
         ]
        },
        {
         "domain": {
          "x": [
           0.20400000000000001,
           0.388
          ],
          "y": [
           0.8025,
           1
          ]
         },
         "hovertemplate": "Comunidades y Ciudades Autónomas=Aragón<br>Agrupación=%{label}<br>Total=%{value}<extra></extra>",
         "labels": [
          "Nacionalidad española y hombres",
          "Nacionalidad española y mujeres",
          "Nacionalidad extranjera y hombres",
          "Nacionalidad extranjera y mujeres"
         ],
         "legendgroup": "",
         "name": "",
         "showlegend": true,
         "type": "pie",
         "values": [
          571243,
          590310,
          84233,
          80529
         ]
        },
        {
         "domain": {
          "x": [
           0.40800000000000003,
           0.5920000000000001
          ],
          "y": [
           0.8025,
           1
          ]
         },
         "hovertemplate": "Comunidades y Ciudades Autónomas=Asturias, Principado de<br>Agrupación=%{label}<br>Total=%{value}<extra></extra>",
         "labels": [
          "Nacionalidad española y hombres",
          "Nacionalidad española y mujeres",
          "Nacionalidad extranjera y hombres",
          "Nacionalidad extranjera y mujeres"
         ],
         "legendgroup": "",
         "name": "",
         "showlegend": true,
         "type": "pie",
         "values": [
          458084,
          500972,
          21050,
          24580
         ]
        },
        {
         "domain": {
          "x": [
           0.6120000000000001,
           0.7960000000000002
          ],
          "y": [
           0.8025,
           1
          ]
         },
         "hovertemplate": "Comunidades y Ciudades Autónomas=Balears, Illes<br>Agrupación=%{label}<br>Total=%{value}<extra></extra>",
         "labels": [
          "Nacionalidad española y hombres",
          "Nacionalidad española y mujeres",
          "Nacionalidad extranjera y hombres",
          "Nacionalidad extranjera y mujeres"
         ],
         "legendgroup": "",
         "name": "",
         "showlegend": true,
         "type": "pie",
         "values": [
          474021,
          480621,
          111675,
          110342
         ]
        },
        {
         "domain": {
          "x": [
           0.8160000000000001,
           1
          ],
          "y": [
           0.8025,
           1
          ]
         },
         "hovertemplate": "Comunidades y Ciudades Autónomas=Canarias<br>Agrupación=%{label}<br>Total=%{value}<extra></extra>",
         "labels": [
          "Nacionalidad española y hombres",
          "Nacionalidad española y mujeres",
          "Nacionalidad extranjera y hombres",
          "Nacionalidad extranjera y mujeres"
         ],
         "legendgroup": "",
         "name": "",
         "showlegend": true,
         "type": "pie",
         "values": [
          932850,
          956362,
          142565,
          145924
         ]
        },
        {
         "domain": {
          "x": [
           0,
           0.18400000000000002
          ],
          "y": [
           0.535,
           0.7325
          ]
         },
         "hovertemplate": "Comunidades y Ciudades Autónomas=Cantabria<br>Agrupación=%{label}<br>Total=%{value}<extra></extra>",
         "labels": [
          "Nacionalidad española y hombres",
          "Nacionalidad española y mujeres",
          "Nacionalidad extranjera y hombres",
          "Nacionalidad extranjera y mujeres"
         ],
         "legendgroup": "",
         "name": "",
         "showlegend": true,
         "type": "pie",
         "values": [
          265907,
          282292,
          17811,
          19392
         ]
        },
        {
         "domain": {
          "x": [
           0.20400000000000001,
           0.388
          ],
          "y": [
           0.535,
           0.7325
          ]
         },
         "hovertemplate": "Comunidades y Ciudades Autónomas=Castilla y León<br>Agrupación=%{label}<br>Total=%{value}<extra></extra>",
         "labels": [
          "Nacionalidad española y hombres",
          "Nacionalidad española y mujeres",
          "Nacionalidad extranjera y hombres",
          "Nacionalidad extranjera y mujeres"
         ],
         "legendgroup": "",
         "name": "",
         "showlegend": true,
         "type": "pie",
         "values": [
          1095881,
          1130104,
          72002,
          74653
         ]
        },
        {
         "domain": {
          "x": [
           0.40800000000000003,
           0.5920000000000001
          ],
          "y": [
           0.535,
           0.7325
          ]
         },
         "hovertemplate": "Comunidades y Ciudades Autónomas=Castilla - La Mancha<br>Agrupación=%{label}<br>Total=%{value}<extra></extra>",
         "labels": [
          "Nacionalidad española y hombres",
          "Nacionalidad española y mujeres",
          "Nacionalidad extranjera y hombres",
          "Nacionalidad extranjera y mujeres"
         ],
         "legendgroup": "",
         "name": "",
         "showlegend": true,
         "type": "pie",
         "values": [
          929397,
          930456,
          98606,
          94869
         ]
        },
        {
         "domain": {
          "x": [
           0.6120000000000001,
           0.7960000000000002
          ],
          "y": [
           0.535,
           0.7325
          ]
         },
         "hovertemplate": "Comunidades y Ciudades Autónomas=Cataluña<br>Agrupación=%{label}<br>Total=%{value}<extra></extra>",
         "labels": [
          "Nacionalidad española y hombres",
          "Nacionalidad española y mujeres",
          "Nacionalidad extranjera y hombres",
          "Nacionalidad extranjera y mujeres"
         ],
         "legendgroup": "",
         "name": "",
         "showlegend": true,
         "type": "pie",
         "values": [
          3176747,
          3344054,
          657039,
          614771
         ]
        },
        {
         "domain": {
          "x": [
           0.8160000000000001,
           1
          ],
          "y": [
           0.535,
           0.7325
          ]
         },
         "hovertemplate": "Comunidades y Ciudades Autónomas=Comunitat Valenciana<br>Agrupación=%{label}<br>Total=%{value}<extra></extra>",
         "labels": [
          "Nacionalidad española y hombres",
          "Nacionalidad española y mujeres",
          "Nacionalidad extranjera y hombres",
          "Nacionalidad extranjera y mujeres"
         ],
         "legendgroup": "",
         "name": "",
         "showlegend": true,
         "type": "pie",
         "values": [
          2117021,
          2196477,
          392940,
          391529
         ]
        },
        {
         "domain": {
          "x": [
           0,
           0.18400000000000002
          ],
          "y": [
           0.2675,
           0.465
          ]
         },
         "hovertemplate": "Comunidades y Ciudades Autónomas=Extremadura<br>Agrupación=%{label}<br>Total=%{value}<extra></extra>",
         "labels": [
          "Nacionalidad española y hombres",
          "Nacionalidad española y mujeres",
          "Nacionalidad extranjera y hombres",
          "Nacionalidad extranjera y mujeres"
         ],
         "legendgroup": "",
         "name": "",
         "showlegend": true,
         "type": "pie",
         "values": [
          504519,
          515119,
          16944,
          18194
         ]
        },
        {
         "domain": {
          "x": [
           0.20400000000000001,
           0.388
          ],
          "y": [
           0.2675,
           0.465
          ]
         },
         "hovertemplate": "Comunidades y Ciudades Autónomas=Galicia<br>Agrupación=%{label}<br>Total=%{value}<extra></extra>",
         "labels": [
          "Nacionalidad española y hombres",
          "Nacionalidad española y mujeres",
          "Nacionalidad extranjera y hombres",
          "Nacionalidad extranjera y mujeres"
         ],
         "legendgroup": "",
         "name": "",
         "showlegend": true,
         "type": "pie",
         "values": [
          1237678,
          1334046,
          57030,
          61710
         ]
        },
        {
         "domain": {
          "x": [
           0.40800000000000003,
           0.5920000000000001
          ],
          "y": [
           0.2675,
           0.465
          ]
         },
         "hovertemplate": "Comunidades y Ciudades Autónomas=Madrid, Comunidad de<br>Agrupación=%{label}<br>Total=%{value}<extra></extra>",
         "labels": [
          "Nacionalidad española y hombres",
          "Nacionalidad española y mujeres",
          "Nacionalidad extranjera y hombres",
          "Nacionalidad extranjera y mujeres"
         ],
         "legendgroup": "",
         "name": "",
         "showlegend": true,
         "type": "pie",
         "values": [
          2780057,
          3020310,
          450097,
          499872
         ]
        },
        {
         "domain": {
          "x": [
           0.6120000000000001,
           0.7960000000000002
          ],
          "y": [
           0.2675,
           0.465
          ]
         },
         "hovertemplate": "Comunidades y Ciudades Autónomas=Murcia, Región de<br>Agrupación=%{label}<br>Total=%{value}<extra></extra>",
         "labels": [
          "Nacionalidad española y hombres",
          "Nacionalidad española y mujeres",
          "Nacionalidad extranjera y hombres",
          "Nacionalidad extranjera y mujeres"
         ],
         "legendgroup": "",
         "name": "",
         "showlegend": true,
         "type": "pie",
         "values": [
          644830,
          660283,
          122578,
          104187
         ]
        },
        {
         "domain": {
          "x": [
           0.8160000000000001,
           1
          ],
          "y": [
           0.2675,
           0.465
          ]
         },
         "hovertemplate": "Comunidades y Ciudades Autónomas=Navarra, Comunidad Foral de<br>Agrupación=%{label}<br>Total=%{value}<extra></extra>",
         "labels": [
          "Nacionalidad española y hombres",
          "Nacionalidad española y mujeres",
          "Nacionalidad extranjera y hombres",
          "Nacionalidad extranjera y mujeres"
         ],
         "legendgroup": "",
         "name": "",
         "showlegend": true,
         "type": "pie",
         "values": [
          291531,
          299111,
          37089,
          36386
         ]
        },
        {
         "domain": {
          "x": [
           0,
           0.18400000000000002
          ],
          "y": [
           0,
           0.1975
          ]
         },
         "hovertemplate": "Comunidades y Ciudades Autónomas=País Vasco<br>Agrupación=%{label}<br>Total=%{value}<extra></extra>",
         "labels": [
          "Nacionalidad española y hombres",
          "Nacionalidad española y mujeres",
          "Nacionalidad extranjera y hombres",
          "Nacionalidad extranjera y mujeres"
         ],
         "legendgroup": "",
         "name": "",
         "showlegend": true,
         "type": "pie",
         "values": [
          980673,
          1042884,
          92920,
          91697
         ]
        },
        {
         "domain": {
          "x": [
           0.20400000000000001,
           0.388
          ],
          "y": [
           0,
           0.1975
          ]
         },
         "hovertemplate": "Comunidades y Ciudades Autónomas=Rioja, La<br>Agrupación=%{label}<br>Total=%{value}<extra></extra>",
         "labels": [
          "Nacionalidad española y hombres",
          "Nacionalidad española y mujeres",
          "Nacionalidad extranjera y hombres",
          "Nacionalidad extranjera y mujeres"
         ],
         "legendgroup": "",
         "name": "",
         "showlegend": true,
         "type": "pie",
         "values": [
          137163,
          140974,
          20688,
          21067
         ]
        },
        {
         "domain": {
          "x": [
           0.40800000000000003,
           0.5920000000000001
          ],
          "y": [
           0,
           0.1975
          ]
         },
         "hovertemplate": "Comunidades y Ciudades Autónomas=Ceuta<br>Agrupación=%{label}<br>Total=%{value}<extra></extra>",
         "labels": [
          "Nacionalidad española y hombres",
          "Nacionalidad española y mujeres",
          "Nacionalidad extranjera y hombres",
          "Nacionalidad extranjera y mujeres"
         ],
         "legendgroup": "",
         "name": "",
         "showlegend": true,
         "type": "pie",
         "values": [
          39607,
          38600,
          2320,
          2590
         ]
        },
        {
         "domain": {
          "x": [
           0.6120000000000001,
           0.7960000000000002
          ],
          "y": [
           0,
           0.1975
          ]
         },
         "hovertemplate": "Comunidades y Ciudades Autónomas=Melilla<br>Agrupación=%{label}<br>Total=%{value}<extra></extra>",
         "labels": [
          "Nacionalidad española y hombres",
          "Nacionalidad española y mujeres",
          "Nacionalidad extranjera y hombres",
          "Nacionalidad extranjera y mujeres"
         ],
         "legendgroup": "",
         "name": "",
         "showlegend": true,
         "type": "pie",
         "values": [
          37453,
          36042,
          5537,
          6138
         ]
        }
       ],
       "layout": {
        "annotations": [
         {
          "font": {},
          "showarrow": false,
          "text": "País Vasco",
          "x": 0.09200000000000001,
          "xanchor": "center",
          "xref": "paper",
          "y": 0.1975,
          "yanchor": "bottom",
          "yref": "paper"
         },
         {
          "font": {},
          "showarrow": false,
          "text": "Rioja, La",
          "x": 0.29600000000000004,
          "xanchor": "center",
          "xref": "paper",
          "y": 0.1975,
          "yanchor": "bottom",
          "yref": "paper"
         },
         {
          "font": {},
          "showarrow": false,
          "text": "Ceuta",
          "x": 0.5,
          "xanchor": "center",
          "xref": "paper",
          "y": 0.1975,
          "yanchor": "bottom",
          "yref": "paper"
         },
         {
          "font": {},
          "showarrow": false,
          "text": "Melilla",
          "x": 0.7040000000000002,
          "xanchor": "center",
          "xref": "paper",
          "y": 0.1975,
          "yanchor": "bottom",
          "yref": "paper"
         },
         {
          "font": {},
          "showarrow": false,
          "text": "Extremadura",
          "x": 0.09200000000000001,
          "xanchor": "center",
          "xref": "paper",
          "y": 0.465,
          "yanchor": "bottom",
          "yref": "paper"
         },
         {
          "font": {},
          "showarrow": false,
          "text": "Galicia",
          "x": 0.29600000000000004,
          "xanchor": "center",
          "xref": "paper",
          "y": 0.465,
          "yanchor": "bottom",
          "yref": "paper"
         },
         {
          "font": {},
          "showarrow": false,
          "text": "Madrid, Comunidad de",
          "x": 0.5,
          "xanchor": "center",
          "xref": "paper",
          "y": 0.465,
          "yanchor": "bottom",
          "yref": "paper"
         },
         {
          "font": {},
          "showarrow": false,
          "text": "Murcia, Región de",
          "x": 0.7040000000000002,
          "xanchor": "center",
          "xref": "paper",
          "y": 0.465,
          "yanchor": "bottom",
          "yref": "paper"
         },
         {
          "font": {},
          "showarrow": false,
          "text": "Navarra, Comunidad Foral de",
          "x": 0.908,
          "xanchor": "center",
          "xref": "paper",
          "y": 0.465,
          "yanchor": "bottom",
          "yref": "paper"
         },
         {
          "font": {},
          "showarrow": false,
          "text": "Cantabria",
          "x": 0.09200000000000001,
          "xanchor": "center",
          "xref": "paper",
          "y": 0.7325,
          "yanchor": "bottom",
          "yref": "paper"
         },
         {
          "font": {},
          "showarrow": false,
          "text": "Castilla y León",
          "x": 0.29600000000000004,
          "xanchor": "center",
          "xref": "paper",
          "y": 0.7325,
          "yanchor": "bottom",
          "yref": "paper"
         },
         {
          "font": {},
          "showarrow": false,
          "text": "Castilla - La Mancha",
          "x": 0.5,
          "xanchor": "center",
          "xref": "paper",
          "y": 0.7325,
          "yanchor": "bottom",
          "yref": "paper"
         },
         {
          "font": {},
          "showarrow": false,
          "text": "Cataluña",
          "x": 0.7040000000000002,
          "xanchor": "center",
          "xref": "paper",
          "y": 0.7325,
          "yanchor": "bottom",
          "yref": "paper"
         },
         {
          "font": {},
          "showarrow": false,
          "text": "Comunitat Valenciana",
          "x": 0.908,
          "xanchor": "center",
          "xref": "paper",
          "y": 0.7325,
          "yanchor": "bottom",
          "yref": "paper"
         },
         {
          "font": {},
          "showarrow": false,
          "text": "Andalucía",
          "x": 0.09200000000000001,
          "xanchor": "center",
          "xref": "paper",
          "y": 1,
          "yanchor": "bottom",
          "yref": "paper"
         },
         {
          "font": {},
          "showarrow": false,
          "text": "Aragón",
          "x": 0.29600000000000004,
          "xanchor": "center",
          "xref": "paper",
          "y": 1,
          "yanchor": "bottom",
          "yref": "paper"
         },
         {
          "font": {},
          "showarrow": false,
          "text": "Asturias, Principado de",
          "x": 0.5,
          "xanchor": "center",
          "xref": "paper",
          "y": 1,
          "yanchor": "bottom",
          "yref": "paper"
         },
         {
          "font": {},
          "showarrow": false,
          "text": "Balears, Illes",
          "x": 0.7040000000000002,
          "xanchor": "center",
          "xref": "paper",
          "y": 1,
          "yanchor": "bottom",
          "yref": "paper"
         },
         {
          "font": {},
          "showarrow": false,
          "text": "Canarias",
          "x": 0.908,
          "xanchor": "center",
          "xref": "paper",
          "y": 1,
          "yanchor": "bottom",
          "yref": "paper"
         }
        ],
        "legend": {
         "tracegroupgap": 0
        },
        "template": {
         "data": {
          "bar": [
           {
            "error_x": {
             "color": "#2a3f5f"
            },
            "error_y": {
             "color": "#2a3f5f"
            },
            "marker": {
             "line": {
              "color": "#E5ECF6",
              "width": 0.5
             },
             "pattern": {
              "fillmode": "overlay",
              "size": 10,
              "solidity": 0.2
             }
            },
            "type": "bar"
           }
          ],
          "barpolar": [
           {
            "marker": {
             "line": {
              "color": "#E5ECF6",
              "width": 0.5
             },
             "pattern": {
              "fillmode": "overlay",
              "size": 10,
              "solidity": 0.2
             }
            },
            "type": "barpolar"
           }
          ],
          "carpet": [
           {
            "aaxis": {
             "endlinecolor": "#2a3f5f",
             "gridcolor": "white",
             "linecolor": "white",
             "minorgridcolor": "white",
             "startlinecolor": "#2a3f5f"
            },
            "baxis": {
             "endlinecolor": "#2a3f5f",
             "gridcolor": "white",
             "linecolor": "white",
             "minorgridcolor": "white",
             "startlinecolor": "#2a3f5f"
            },
            "type": "carpet"
           }
          ],
          "choropleth": [
           {
            "colorbar": {
             "outlinewidth": 0,
             "ticks": ""
            },
            "type": "choropleth"
           }
          ],
          "contour": [
           {
            "colorbar": {
             "outlinewidth": 0,
             "ticks": ""
            },
            "colorscale": [
             [
              0,
              "#0d0887"
             ],
             [
              0.1111111111111111,
              "#46039f"
             ],
             [
              0.2222222222222222,
              "#7201a8"
             ],
             [
              0.3333333333333333,
              "#9c179e"
             ],
             [
              0.4444444444444444,
              "#bd3786"
             ],
             [
              0.5555555555555556,
              "#d8576b"
             ],
             [
              0.6666666666666666,
              "#ed7953"
             ],
             [
              0.7777777777777778,
              "#fb9f3a"
             ],
             [
              0.8888888888888888,
              "#fdca26"
             ],
             [
              1,
              "#f0f921"
             ]
            ],
            "type": "contour"
           }
          ],
          "contourcarpet": [
           {
            "colorbar": {
             "outlinewidth": 0,
             "ticks": ""
            },
            "type": "contourcarpet"
           }
          ],
          "heatmap": [
           {
            "colorbar": {
             "outlinewidth": 0,
             "ticks": ""
            },
            "colorscale": [
             [
              0,
              "#0d0887"
             ],
             [
              0.1111111111111111,
              "#46039f"
             ],
             [
              0.2222222222222222,
              "#7201a8"
             ],
             [
              0.3333333333333333,
              "#9c179e"
             ],
             [
              0.4444444444444444,
              "#bd3786"
             ],
             [
              0.5555555555555556,
              "#d8576b"
             ],
             [
              0.6666666666666666,
              "#ed7953"
             ],
             [
              0.7777777777777778,
              "#fb9f3a"
             ],
             [
              0.8888888888888888,
              "#fdca26"
             ],
             [
              1,
              "#f0f921"
             ]
            ],
            "type": "heatmap"
           }
          ],
          "heatmapgl": [
           {
            "colorbar": {
             "outlinewidth": 0,
             "ticks": ""
            },
            "colorscale": [
             [
              0,
              "#0d0887"
             ],
             [
              0.1111111111111111,
              "#46039f"
             ],
             [
              0.2222222222222222,
              "#7201a8"
             ],
             [
              0.3333333333333333,
              "#9c179e"
             ],
             [
              0.4444444444444444,
              "#bd3786"
             ],
             [
              0.5555555555555556,
              "#d8576b"
             ],
             [
              0.6666666666666666,
              "#ed7953"
             ],
             [
              0.7777777777777778,
              "#fb9f3a"
             ],
             [
              0.8888888888888888,
              "#fdca26"
             ],
             [
              1,
              "#f0f921"
             ]
            ],
            "type": "heatmapgl"
           }
          ],
          "histogram": [
           {
            "marker": {
             "pattern": {
              "fillmode": "overlay",
              "size": 10,
              "solidity": 0.2
             }
            },
            "type": "histogram"
           }
          ],
          "histogram2d": [
           {
            "colorbar": {
             "outlinewidth": 0,
             "ticks": ""
            },
            "colorscale": [
             [
              0,
              "#0d0887"
             ],
             [
              0.1111111111111111,
              "#46039f"
             ],
             [
              0.2222222222222222,
              "#7201a8"
             ],
             [
              0.3333333333333333,
              "#9c179e"
             ],
             [
              0.4444444444444444,
              "#bd3786"
             ],
             [
              0.5555555555555556,
              "#d8576b"
             ],
             [
              0.6666666666666666,
              "#ed7953"
             ],
             [
              0.7777777777777778,
              "#fb9f3a"
             ],
             [
              0.8888888888888888,
              "#fdca26"
             ],
             [
              1,
              "#f0f921"
             ]
            ],
            "type": "histogram2d"
           }
          ],
          "histogram2dcontour": [
           {
            "colorbar": {
             "outlinewidth": 0,
             "ticks": ""
            },
            "colorscale": [
             [
              0,
              "#0d0887"
             ],
             [
              0.1111111111111111,
              "#46039f"
             ],
             [
              0.2222222222222222,
              "#7201a8"
             ],
             [
              0.3333333333333333,
              "#9c179e"
             ],
             [
              0.4444444444444444,
              "#bd3786"
             ],
             [
              0.5555555555555556,
              "#d8576b"
             ],
             [
              0.6666666666666666,
              "#ed7953"
             ],
             [
              0.7777777777777778,
              "#fb9f3a"
             ],
             [
              0.8888888888888888,
              "#fdca26"
             ],
             [
              1,
              "#f0f921"
             ]
            ],
            "type": "histogram2dcontour"
           }
          ],
          "mesh3d": [
           {
            "colorbar": {
             "outlinewidth": 0,
             "ticks": ""
            },
            "type": "mesh3d"
           }
          ],
          "parcoords": [
           {
            "line": {
             "colorbar": {
              "outlinewidth": 0,
              "ticks": ""
             }
            },
            "type": "parcoords"
           }
          ],
          "pie": [
           {
            "automargin": true,
            "type": "pie"
           }
          ],
          "scatter": [
           {
            "fillpattern": {
             "fillmode": "overlay",
             "size": 10,
             "solidity": 0.2
            },
            "type": "scatter"
           }
          ],
          "scatter3d": [
           {
            "line": {
             "colorbar": {
              "outlinewidth": 0,
              "ticks": ""
             }
            },
            "marker": {
             "colorbar": {
              "outlinewidth": 0,
              "ticks": ""
             }
            },
            "type": "scatter3d"
           }
          ],
          "scattercarpet": [
           {
            "marker": {
             "colorbar": {
              "outlinewidth": 0,
              "ticks": ""
             }
            },
            "type": "scattercarpet"
           }
          ],
          "scattergeo": [
           {
            "marker": {
             "colorbar": {
              "outlinewidth": 0,
              "ticks": ""
             }
            },
            "type": "scattergeo"
           }
          ],
          "scattergl": [
           {
            "marker": {
             "colorbar": {
              "outlinewidth": 0,
              "ticks": ""
             }
            },
            "type": "scattergl"
           }
          ],
          "scattermapbox": [
           {
            "marker": {
             "colorbar": {
              "outlinewidth": 0,
              "ticks": ""
             }
            },
            "type": "scattermapbox"
           }
          ],
          "scatterpolar": [
           {
            "marker": {
             "colorbar": {
              "outlinewidth": 0,
              "ticks": ""
             }
            },
            "type": "scatterpolar"
           }
          ],
          "scatterpolargl": [
           {
            "marker": {
             "colorbar": {
              "outlinewidth": 0,
              "ticks": ""
             }
            },
            "type": "scatterpolargl"
           }
          ],
          "scatterternary": [
           {
            "marker": {
             "colorbar": {
              "outlinewidth": 0,
              "ticks": ""
             }
            },
            "type": "scatterternary"
           }
          ],
          "surface": [
           {
            "colorbar": {
             "outlinewidth": 0,
             "ticks": ""
            },
            "colorscale": [
             [
              0,
              "#0d0887"
             ],
             [
              0.1111111111111111,
              "#46039f"
             ],
             [
              0.2222222222222222,
              "#7201a8"
             ],
             [
              0.3333333333333333,
              "#9c179e"
             ],
             [
              0.4444444444444444,
              "#bd3786"
             ],
             [
              0.5555555555555556,
              "#d8576b"
             ],
             [
              0.6666666666666666,
              "#ed7953"
             ],
             [
              0.7777777777777778,
              "#fb9f3a"
             ],
             [
              0.8888888888888888,
              "#fdca26"
             ],
             [
              1,
              "#f0f921"
             ]
            ],
            "type": "surface"
           }
          ],
          "table": [
           {
            "cells": {
             "fill": {
              "color": "#EBF0F8"
             },
             "line": {
              "color": "white"
             }
            },
            "header": {
             "fill": {
              "color": "#C8D4E3"
             },
             "line": {
              "color": "white"
             }
            },
            "type": "table"
           }
          ]
         },
         "layout": {
          "annotationdefaults": {
           "arrowcolor": "#2a3f5f",
           "arrowhead": 0,
           "arrowwidth": 1
          },
          "autotypenumbers": "strict",
          "coloraxis": {
           "colorbar": {
            "outlinewidth": 0,
            "ticks": ""
           }
          },
          "colorscale": {
           "diverging": [
            [
             0,
             "#8e0152"
            ],
            [
             0.1,
             "#c51b7d"
            ],
            [
             0.2,
             "#de77ae"
            ],
            [
             0.3,
             "#f1b6da"
            ],
            [
             0.4,
             "#fde0ef"
            ],
            [
             0.5,
             "#f7f7f7"
            ],
            [
             0.6,
             "#e6f5d0"
            ],
            [
             0.7,
             "#b8e186"
            ],
            [
             0.8,
             "#7fbc41"
            ],
            [
             0.9,
             "#4d9221"
            ],
            [
             1,
             "#276419"
            ]
           ],
           "sequential": [
            [
             0,
             "#0d0887"
            ],
            [
             0.1111111111111111,
             "#46039f"
            ],
            [
             0.2222222222222222,
             "#7201a8"
            ],
            [
             0.3333333333333333,
             "#9c179e"
            ],
            [
             0.4444444444444444,
             "#bd3786"
            ],
            [
             0.5555555555555556,
             "#d8576b"
            ],
            [
             0.6666666666666666,
             "#ed7953"
            ],
            [
             0.7777777777777778,
             "#fb9f3a"
            ],
            [
             0.8888888888888888,
             "#fdca26"
            ],
            [
             1,
             "#f0f921"
            ]
           ],
           "sequentialminus": [
            [
             0,
             "#0d0887"
            ],
            [
             0.1111111111111111,
             "#46039f"
            ],
            [
             0.2222222222222222,
             "#7201a8"
            ],
            [
             0.3333333333333333,
             "#9c179e"
            ],
            [
             0.4444444444444444,
             "#bd3786"
            ],
            [
             0.5555555555555556,
             "#d8576b"
            ],
            [
             0.6666666666666666,
             "#ed7953"
            ],
            [
             0.7777777777777778,
             "#fb9f3a"
            ],
            [
             0.8888888888888888,
             "#fdca26"
            ],
            [
             1,
             "#f0f921"
            ]
           ]
          },
          "colorway": [
           "#636efa",
           "#EF553B",
           "#00cc96",
           "#ab63fa",
           "#FFA15A",
           "#19d3f3",
           "#FF6692",
           "#B6E880",
           "#FF97FF",
           "#FECB52"
          ],
          "font": {
           "color": "#2a3f5f"
          },
          "geo": {
           "bgcolor": "white",
           "lakecolor": "white",
           "landcolor": "#E5ECF6",
           "showlakes": true,
           "showland": true,
           "subunitcolor": "white"
          },
          "hoverlabel": {
           "align": "left"
          },
          "hovermode": "closest",
          "mapbox": {
           "style": "light"
          },
          "paper_bgcolor": "white",
          "plot_bgcolor": "#E5ECF6",
          "polar": {
           "angularaxis": {
            "gridcolor": "white",
            "linecolor": "white",
            "ticks": ""
           },
           "bgcolor": "#E5ECF6",
           "radialaxis": {
            "gridcolor": "white",
            "linecolor": "white",
            "ticks": ""
           }
          },
          "scene": {
           "xaxis": {
            "backgroundcolor": "#E5ECF6",
            "gridcolor": "white",
            "gridwidth": 2,
            "linecolor": "white",
            "showbackground": true,
            "ticks": "",
            "zerolinecolor": "white"
           },
           "yaxis": {
            "backgroundcolor": "#E5ECF6",
            "gridcolor": "white",
            "gridwidth": 2,
            "linecolor": "white",
            "showbackground": true,
            "ticks": "",
            "zerolinecolor": "white"
           },
           "zaxis": {
            "backgroundcolor": "#E5ECF6",
            "gridcolor": "white",
            "gridwidth": 2,
            "linecolor": "white",
            "showbackground": true,
            "ticks": "",
            "zerolinecolor": "white"
           }
          },
          "shapedefaults": {
           "line": {
            "color": "#2a3f5f"
           }
          },
          "ternary": {
           "aaxis": {
            "gridcolor": "white",
            "linecolor": "white",
            "ticks": ""
           },
           "baxis": {
            "gridcolor": "white",
            "linecolor": "white",
            "ticks": ""
           },
           "bgcolor": "#E5ECF6",
           "caxis": {
            "gridcolor": "white",
            "linecolor": "white",
            "ticks": ""
           }
          },
          "title": {
           "x": 0.05
          },
          "xaxis": {
           "automargin": true,
           "gridcolor": "white",
           "linecolor": "white",
           "ticks": "",
           "title": {
            "standoff": 15
           },
           "zerolinecolor": "white",
           "zerolinewidth": 2
          },
          "yaxis": {
           "automargin": true,
           "gridcolor": "white",
           "linecolor": "white",
           "ticks": "",
           "title": {
            "standoff": 15
           },
           "zerolinecolor": "white",
           "zerolinewidth": 2
          }
         }
        },
        "title": {
         "text": "Población por CCAA y agrupación en 2022"
        }
       }
      },
      "text/html": [
       "<div>                            <div id=\"1ae99e5d-5096-49e1-b35d-7f1df69c373c\" class=\"plotly-graph-div\" style=\"height:525px; width:100%;\"></div>            <script type=\"text/javascript\">                require([\"plotly\"], function(Plotly) {                    window.PLOTLYENV=window.PLOTLYENV || {};                                    if (document.getElementById(\"1ae99e5d-5096-49e1-b35d-7f1df69c373c\")) {                    Plotly.newPlot(                        \"1ae99e5d-5096-49e1-b35d-7f1df69c373c\",                        [{\"domain\":{\"x\":[0.0,0.18400000000000002],\"y\":[0.8025,1.0]},\"hovertemplate\":\"Comunidades y Ciudades Aut\\u00f3nomas=Andaluc\\u00eda<br>Agrupaci\\u00f3n=%{label}<br>Total=%{value}<extra></extra>\",\"labels\":[\"Nacionalidad espa\\u00f1ola y hombres\",\"Nacionalidad espa\\u00f1ola y mujeres\",\"Nacionalidad extranjera y hombres\",\"Nacionalidad extranjera y mujeres\"],\"legendgroup\":\"\",\"name\":\"\",\"showlegend\":true,\"values\":[3812505.0,3946304.0,375090.0,366288.0],\"type\":\"pie\"},{\"domain\":{\"x\":[0.20400000000000001,0.388],\"y\":[0.8025,1.0]},\"hovertemplate\":\"Comunidades y Ciudades Aut\\u00f3nomas=Arag\\u00f3n<br>Agrupaci\\u00f3n=%{label}<br>Total=%{value}<extra></extra>\",\"labels\":[\"Nacionalidad espa\\u00f1ola y hombres\",\"Nacionalidad espa\\u00f1ola y mujeres\",\"Nacionalidad extranjera y hombres\",\"Nacionalidad extranjera y mujeres\"],\"legendgroup\":\"\",\"name\":\"\",\"showlegend\":true,\"values\":[571243.0,590310.0,84233.0,80529.0],\"type\":\"pie\"},{\"domain\":{\"x\":[0.40800000000000003,0.5920000000000001],\"y\":[0.8025,1.0]},\"hovertemplate\":\"Comunidades y Ciudades Aut\\u00f3nomas=Asturias, Principado de<br>Agrupaci\\u00f3n=%{label}<br>Total=%{value}<extra></extra>\",\"labels\":[\"Nacionalidad espa\\u00f1ola y hombres\",\"Nacionalidad espa\\u00f1ola y mujeres\",\"Nacionalidad extranjera y hombres\",\"Nacionalidad extranjera y mujeres\"],\"legendgroup\":\"\",\"name\":\"\",\"showlegend\":true,\"values\":[458084.0,500972.0,21050.0,24580.0],\"type\":\"pie\"},{\"domain\":{\"x\":[0.6120000000000001,0.7960000000000002],\"y\":[0.8025,1.0]},\"hovertemplate\":\"Comunidades y Ciudades Aut\\u00f3nomas=Balears, Illes<br>Agrupaci\\u00f3n=%{label}<br>Total=%{value}<extra></extra>\",\"labels\":[\"Nacionalidad espa\\u00f1ola y hombres\",\"Nacionalidad espa\\u00f1ola y mujeres\",\"Nacionalidad extranjera y hombres\",\"Nacionalidad extranjera y mujeres\"],\"legendgroup\":\"\",\"name\":\"\",\"showlegend\":true,\"values\":[474021.0,480621.0,111675.0,110342.0],\"type\":\"pie\"},{\"domain\":{\"x\":[0.8160000000000001,1.0],\"y\":[0.8025,1.0]},\"hovertemplate\":\"Comunidades y Ciudades Aut\\u00f3nomas=Canarias<br>Agrupaci\\u00f3n=%{label}<br>Total=%{value}<extra></extra>\",\"labels\":[\"Nacionalidad espa\\u00f1ola y hombres\",\"Nacionalidad espa\\u00f1ola y mujeres\",\"Nacionalidad extranjera y hombres\",\"Nacionalidad extranjera y mujeres\"],\"legendgroup\":\"\",\"name\":\"\",\"showlegend\":true,\"values\":[932850.0,956362.0,142565.0,145924.0],\"type\":\"pie\"},{\"domain\":{\"x\":[0.0,0.18400000000000002],\"y\":[0.535,0.7325]},\"hovertemplate\":\"Comunidades y Ciudades Aut\\u00f3nomas=Cantabria<br>Agrupaci\\u00f3n=%{label}<br>Total=%{value}<extra></extra>\",\"labels\":[\"Nacionalidad espa\\u00f1ola y hombres\",\"Nacionalidad espa\\u00f1ola y mujeres\",\"Nacionalidad extranjera y hombres\",\"Nacionalidad extranjera y mujeres\"],\"legendgroup\":\"\",\"name\":\"\",\"showlegend\":true,\"values\":[265907.0,282292.0,17811.0,19392.0],\"type\":\"pie\"},{\"domain\":{\"x\":[0.20400000000000001,0.388],\"y\":[0.535,0.7325]},\"hovertemplate\":\"Comunidades y Ciudades Aut\\u00f3nomas=Castilla y Le\\u00f3n<br>Agrupaci\\u00f3n=%{label}<br>Total=%{value}<extra></extra>\",\"labels\":[\"Nacionalidad espa\\u00f1ola y hombres\",\"Nacionalidad espa\\u00f1ola y mujeres\",\"Nacionalidad extranjera y hombres\",\"Nacionalidad extranjera y mujeres\"],\"legendgroup\":\"\",\"name\":\"\",\"showlegend\":true,\"values\":[1095881.0,1130104.0,72002.0,74653.0],\"type\":\"pie\"},{\"domain\":{\"x\":[0.40800000000000003,0.5920000000000001],\"y\":[0.535,0.7325]},\"hovertemplate\":\"Comunidades y Ciudades Aut\\u00f3nomas=Castilla - La Mancha<br>Agrupaci\\u00f3n=%{label}<br>Total=%{value}<extra></extra>\",\"labels\":[\"Nacionalidad espa\\u00f1ola y hombres\",\"Nacionalidad espa\\u00f1ola y mujeres\",\"Nacionalidad extranjera y hombres\",\"Nacionalidad extranjera y mujeres\"],\"legendgroup\":\"\",\"name\":\"\",\"showlegend\":true,\"values\":[929397.0,930456.0,98606.0,94869.0],\"type\":\"pie\"},{\"domain\":{\"x\":[0.6120000000000001,0.7960000000000002],\"y\":[0.535,0.7325]},\"hovertemplate\":\"Comunidades y Ciudades Aut\\u00f3nomas=Catalu\\u00f1a<br>Agrupaci\\u00f3n=%{label}<br>Total=%{value}<extra></extra>\",\"labels\":[\"Nacionalidad espa\\u00f1ola y hombres\",\"Nacionalidad espa\\u00f1ola y mujeres\",\"Nacionalidad extranjera y hombres\",\"Nacionalidad extranjera y mujeres\"],\"legendgroup\":\"\",\"name\":\"\",\"showlegend\":true,\"values\":[3176747.0,3344054.0,657039.0,614771.0],\"type\":\"pie\"},{\"domain\":{\"x\":[0.8160000000000001,1.0],\"y\":[0.535,0.7325]},\"hovertemplate\":\"Comunidades y Ciudades Aut\\u00f3nomas=Comunitat Valenciana<br>Agrupaci\\u00f3n=%{label}<br>Total=%{value}<extra></extra>\",\"labels\":[\"Nacionalidad espa\\u00f1ola y hombres\",\"Nacionalidad espa\\u00f1ola y mujeres\",\"Nacionalidad extranjera y hombres\",\"Nacionalidad extranjera y mujeres\"],\"legendgroup\":\"\",\"name\":\"\",\"showlegend\":true,\"values\":[2117021.0,2196477.0,392940.0,391529.0],\"type\":\"pie\"},{\"domain\":{\"x\":[0.0,0.18400000000000002],\"y\":[0.2675,0.465]},\"hovertemplate\":\"Comunidades y Ciudades Aut\\u00f3nomas=Extremadura<br>Agrupaci\\u00f3n=%{label}<br>Total=%{value}<extra></extra>\",\"labels\":[\"Nacionalidad espa\\u00f1ola y hombres\",\"Nacionalidad espa\\u00f1ola y mujeres\",\"Nacionalidad extranjera y hombres\",\"Nacionalidad extranjera y mujeres\"],\"legendgroup\":\"\",\"name\":\"\",\"showlegend\":true,\"values\":[504519.0,515119.0,16944.0,18194.0],\"type\":\"pie\"},{\"domain\":{\"x\":[0.20400000000000001,0.388],\"y\":[0.2675,0.465]},\"hovertemplate\":\"Comunidades y Ciudades Aut\\u00f3nomas=Galicia<br>Agrupaci\\u00f3n=%{label}<br>Total=%{value}<extra></extra>\",\"labels\":[\"Nacionalidad espa\\u00f1ola y hombres\",\"Nacionalidad espa\\u00f1ola y mujeres\",\"Nacionalidad extranjera y hombres\",\"Nacionalidad extranjera y mujeres\"],\"legendgroup\":\"\",\"name\":\"\",\"showlegend\":true,\"values\":[1237678.0,1334046.0,57030.0,61710.0],\"type\":\"pie\"},{\"domain\":{\"x\":[0.40800000000000003,0.5920000000000001],\"y\":[0.2675,0.465]},\"hovertemplate\":\"Comunidades y Ciudades Aut\\u00f3nomas=Madrid, Comunidad de<br>Agrupaci\\u00f3n=%{label}<br>Total=%{value}<extra></extra>\",\"labels\":[\"Nacionalidad espa\\u00f1ola y hombres\",\"Nacionalidad espa\\u00f1ola y mujeres\",\"Nacionalidad extranjera y hombres\",\"Nacionalidad extranjera y mujeres\"],\"legendgroup\":\"\",\"name\":\"\",\"showlegend\":true,\"values\":[2780057.0,3020310.0,450097.0,499872.0],\"type\":\"pie\"},{\"domain\":{\"x\":[0.6120000000000001,0.7960000000000002],\"y\":[0.2675,0.465]},\"hovertemplate\":\"Comunidades y Ciudades Aut\\u00f3nomas=Murcia, Regi\\u00f3n de<br>Agrupaci\\u00f3n=%{label}<br>Total=%{value}<extra></extra>\",\"labels\":[\"Nacionalidad espa\\u00f1ola y hombres\",\"Nacionalidad espa\\u00f1ola y mujeres\",\"Nacionalidad extranjera y hombres\",\"Nacionalidad extranjera y mujeres\"],\"legendgroup\":\"\",\"name\":\"\",\"showlegend\":true,\"values\":[644830.0,660283.0,122578.0,104187.0],\"type\":\"pie\"},{\"domain\":{\"x\":[0.8160000000000001,1.0],\"y\":[0.2675,0.465]},\"hovertemplate\":\"Comunidades y Ciudades Aut\\u00f3nomas=Navarra, Comunidad Foral de<br>Agrupaci\\u00f3n=%{label}<br>Total=%{value}<extra></extra>\",\"labels\":[\"Nacionalidad espa\\u00f1ola y hombres\",\"Nacionalidad espa\\u00f1ola y mujeres\",\"Nacionalidad extranjera y hombres\",\"Nacionalidad extranjera y mujeres\"],\"legendgroup\":\"\",\"name\":\"\",\"showlegend\":true,\"values\":[291531.0,299111.0,37089.0,36386.0],\"type\":\"pie\"},{\"domain\":{\"x\":[0.0,0.18400000000000002],\"y\":[0.0,0.1975]},\"hovertemplate\":\"Comunidades y Ciudades Aut\\u00f3nomas=Pa\\u00eds Vasco<br>Agrupaci\\u00f3n=%{label}<br>Total=%{value}<extra></extra>\",\"labels\":[\"Nacionalidad espa\\u00f1ola y hombres\",\"Nacionalidad espa\\u00f1ola y mujeres\",\"Nacionalidad extranjera y hombres\",\"Nacionalidad extranjera y mujeres\"],\"legendgroup\":\"\",\"name\":\"\",\"showlegend\":true,\"values\":[980673.0,1042884.0,92920.0,91697.0],\"type\":\"pie\"},{\"domain\":{\"x\":[0.20400000000000001,0.388],\"y\":[0.0,0.1975]},\"hovertemplate\":\"Comunidades y Ciudades Aut\\u00f3nomas=Rioja, La<br>Agrupaci\\u00f3n=%{label}<br>Total=%{value}<extra></extra>\",\"labels\":[\"Nacionalidad espa\\u00f1ola y hombres\",\"Nacionalidad espa\\u00f1ola y mujeres\",\"Nacionalidad extranjera y hombres\",\"Nacionalidad extranjera y mujeres\"],\"legendgroup\":\"\",\"name\":\"\",\"showlegend\":true,\"values\":[137163.0,140974.0,20688.0,21067.0],\"type\":\"pie\"},{\"domain\":{\"x\":[0.40800000000000003,0.5920000000000001],\"y\":[0.0,0.1975]},\"hovertemplate\":\"Comunidades y Ciudades Aut\\u00f3nomas=Ceuta<br>Agrupaci\\u00f3n=%{label}<br>Total=%{value}<extra></extra>\",\"labels\":[\"Nacionalidad espa\\u00f1ola y hombres\",\"Nacionalidad espa\\u00f1ola y mujeres\",\"Nacionalidad extranjera y hombres\",\"Nacionalidad extranjera y mujeres\"],\"legendgroup\":\"\",\"name\":\"\",\"showlegend\":true,\"values\":[39607.0,38600.0,2320.0,2590.0],\"type\":\"pie\"},{\"domain\":{\"x\":[0.6120000000000001,0.7960000000000002],\"y\":[0.0,0.1975]},\"hovertemplate\":\"Comunidades y Ciudades Aut\\u00f3nomas=Melilla<br>Agrupaci\\u00f3n=%{label}<br>Total=%{value}<extra></extra>\",\"labels\":[\"Nacionalidad espa\\u00f1ola y hombres\",\"Nacionalidad espa\\u00f1ola y mujeres\",\"Nacionalidad extranjera y hombres\",\"Nacionalidad extranjera y mujeres\"],\"legendgroup\":\"\",\"name\":\"\",\"showlegend\":true,\"values\":[37453.0,36042.0,5537.0,6138.0],\"type\":\"pie\"}],                        {\"template\":{\"data\":{\"histogram2dcontour\":[{\"type\":\"histogram2dcontour\",\"colorbar\":{\"outlinewidth\":0,\"ticks\":\"\"},\"colorscale\":[[0.0,\"#0d0887\"],[0.1111111111111111,\"#46039f\"],[0.2222222222222222,\"#7201a8\"],[0.3333333333333333,\"#9c179e\"],[0.4444444444444444,\"#bd3786\"],[0.5555555555555556,\"#d8576b\"],[0.6666666666666666,\"#ed7953\"],[0.7777777777777778,\"#fb9f3a\"],[0.8888888888888888,\"#fdca26\"],[1.0,\"#f0f921\"]]}],\"choropleth\":[{\"type\":\"choropleth\",\"colorbar\":{\"outlinewidth\":0,\"ticks\":\"\"}}],\"histogram2d\":[{\"type\":\"histogram2d\",\"colorbar\":{\"outlinewidth\":0,\"ticks\":\"\"},\"colorscale\":[[0.0,\"#0d0887\"],[0.1111111111111111,\"#46039f\"],[0.2222222222222222,\"#7201a8\"],[0.3333333333333333,\"#9c179e\"],[0.4444444444444444,\"#bd3786\"],[0.5555555555555556,\"#d8576b\"],[0.6666666666666666,\"#ed7953\"],[0.7777777777777778,\"#fb9f3a\"],[0.8888888888888888,\"#fdca26\"],[1.0,\"#f0f921\"]]}],\"heatmap\":[{\"type\":\"heatmap\",\"colorbar\":{\"outlinewidth\":0,\"ticks\":\"\"},\"colorscale\":[[0.0,\"#0d0887\"],[0.1111111111111111,\"#46039f\"],[0.2222222222222222,\"#7201a8\"],[0.3333333333333333,\"#9c179e\"],[0.4444444444444444,\"#bd3786\"],[0.5555555555555556,\"#d8576b\"],[0.6666666666666666,\"#ed7953\"],[0.7777777777777778,\"#fb9f3a\"],[0.8888888888888888,\"#fdca26\"],[1.0,\"#f0f921\"]]}],\"heatmapgl\":[{\"type\":\"heatmapgl\",\"colorbar\":{\"outlinewidth\":0,\"ticks\":\"\"},\"colorscale\":[[0.0,\"#0d0887\"],[0.1111111111111111,\"#46039f\"],[0.2222222222222222,\"#7201a8\"],[0.3333333333333333,\"#9c179e\"],[0.4444444444444444,\"#bd3786\"],[0.5555555555555556,\"#d8576b\"],[0.6666666666666666,\"#ed7953\"],[0.7777777777777778,\"#fb9f3a\"],[0.8888888888888888,\"#fdca26\"],[1.0,\"#f0f921\"]]}],\"contourcarpet\":[{\"type\":\"contourcarpet\",\"colorbar\":{\"outlinewidth\":0,\"ticks\":\"\"}}],\"contour\":[{\"type\":\"contour\",\"colorbar\":{\"outlinewidth\":0,\"ticks\":\"\"},\"colorscale\":[[0.0,\"#0d0887\"],[0.1111111111111111,\"#46039f\"],[0.2222222222222222,\"#7201a8\"],[0.3333333333333333,\"#9c179e\"],[0.4444444444444444,\"#bd3786\"],[0.5555555555555556,\"#d8576b\"],[0.6666666666666666,\"#ed7953\"],[0.7777777777777778,\"#fb9f3a\"],[0.8888888888888888,\"#fdca26\"],[1.0,\"#f0f921\"]]}],\"surface\":[{\"type\":\"surface\",\"colorbar\":{\"outlinewidth\":0,\"ticks\":\"\"},\"colorscale\":[[0.0,\"#0d0887\"],[0.1111111111111111,\"#46039f\"],[0.2222222222222222,\"#7201a8\"],[0.3333333333333333,\"#9c179e\"],[0.4444444444444444,\"#bd3786\"],[0.5555555555555556,\"#d8576b\"],[0.6666666666666666,\"#ed7953\"],[0.7777777777777778,\"#fb9f3a\"],[0.8888888888888888,\"#fdca26\"],[1.0,\"#f0f921\"]]}],\"mesh3d\":[{\"type\":\"mesh3d\",\"colorbar\":{\"outlinewidth\":0,\"ticks\":\"\"}}],\"scatter\":[{\"fillpattern\":{\"fillmode\":\"overlay\",\"size\":10,\"solidity\":0.2},\"type\":\"scatter\"}],\"parcoords\":[{\"type\":\"parcoords\",\"line\":{\"colorbar\":{\"outlinewidth\":0,\"ticks\":\"\"}}}],\"scatterpolargl\":[{\"type\":\"scatterpolargl\",\"marker\":{\"colorbar\":{\"outlinewidth\":0,\"ticks\":\"\"}}}],\"bar\":[{\"error_x\":{\"color\":\"#2a3f5f\"},\"error_y\":{\"color\":\"#2a3f5f\"},\"marker\":{\"line\":{\"color\":\"#E5ECF6\",\"width\":0.5},\"pattern\":{\"fillmode\":\"overlay\",\"size\":10,\"solidity\":0.2}},\"type\":\"bar\"}],\"scattergeo\":[{\"type\":\"scattergeo\",\"marker\":{\"colorbar\":{\"outlinewidth\":0,\"ticks\":\"\"}}}],\"scatterpolar\":[{\"type\":\"scatterpolar\",\"marker\":{\"colorbar\":{\"outlinewidth\":0,\"ticks\":\"\"}}}],\"histogram\":[{\"marker\":{\"pattern\":{\"fillmode\":\"overlay\",\"size\":10,\"solidity\":0.2}},\"type\":\"histogram\"}],\"scattergl\":[{\"type\":\"scattergl\",\"marker\":{\"colorbar\":{\"outlinewidth\":0,\"ticks\":\"\"}}}],\"scatter3d\":[{\"type\":\"scatter3d\",\"line\":{\"colorbar\":{\"outlinewidth\":0,\"ticks\":\"\"}},\"marker\":{\"colorbar\":{\"outlinewidth\":0,\"ticks\":\"\"}}}],\"scattermapbox\":[{\"type\":\"scattermapbox\",\"marker\":{\"colorbar\":{\"outlinewidth\":0,\"ticks\":\"\"}}}],\"scatterternary\":[{\"type\":\"scatterternary\",\"marker\":{\"colorbar\":{\"outlinewidth\":0,\"ticks\":\"\"}}}],\"scattercarpet\":[{\"type\":\"scattercarpet\",\"marker\":{\"colorbar\":{\"outlinewidth\":0,\"ticks\":\"\"}}}],\"carpet\":[{\"aaxis\":{\"endlinecolor\":\"#2a3f5f\",\"gridcolor\":\"white\",\"linecolor\":\"white\",\"minorgridcolor\":\"white\",\"startlinecolor\":\"#2a3f5f\"},\"baxis\":{\"endlinecolor\":\"#2a3f5f\",\"gridcolor\":\"white\",\"linecolor\":\"white\",\"minorgridcolor\":\"white\",\"startlinecolor\":\"#2a3f5f\"},\"type\":\"carpet\"}],\"table\":[{\"cells\":{\"fill\":{\"color\":\"#EBF0F8\"},\"line\":{\"color\":\"white\"}},\"header\":{\"fill\":{\"color\":\"#C8D4E3\"},\"line\":{\"color\":\"white\"}},\"type\":\"table\"}],\"barpolar\":[{\"marker\":{\"line\":{\"color\":\"#E5ECF6\",\"width\":0.5},\"pattern\":{\"fillmode\":\"overlay\",\"size\":10,\"solidity\":0.2}},\"type\":\"barpolar\"}],\"pie\":[{\"automargin\":true,\"type\":\"pie\"}]},\"layout\":{\"autotypenumbers\":\"strict\",\"colorway\":[\"#636efa\",\"#EF553B\",\"#00cc96\",\"#ab63fa\",\"#FFA15A\",\"#19d3f3\",\"#FF6692\",\"#B6E880\",\"#FF97FF\",\"#FECB52\"],\"font\":{\"color\":\"#2a3f5f\"},\"hovermode\":\"closest\",\"hoverlabel\":{\"align\":\"left\"},\"paper_bgcolor\":\"white\",\"plot_bgcolor\":\"#E5ECF6\",\"polar\":{\"bgcolor\":\"#E5ECF6\",\"angularaxis\":{\"gridcolor\":\"white\",\"linecolor\":\"white\",\"ticks\":\"\"},\"radialaxis\":{\"gridcolor\":\"white\",\"linecolor\":\"white\",\"ticks\":\"\"}},\"ternary\":{\"bgcolor\":\"#E5ECF6\",\"aaxis\":{\"gridcolor\":\"white\",\"linecolor\":\"white\",\"ticks\":\"\"},\"baxis\":{\"gridcolor\":\"white\",\"linecolor\":\"white\",\"ticks\":\"\"},\"caxis\":{\"gridcolor\":\"white\",\"linecolor\":\"white\",\"ticks\":\"\"}},\"coloraxis\":{\"colorbar\":{\"outlinewidth\":0,\"ticks\":\"\"}},\"colorscale\":{\"sequential\":[[0.0,\"#0d0887\"],[0.1111111111111111,\"#46039f\"],[0.2222222222222222,\"#7201a8\"],[0.3333333333333333,\"#9c179e\"],[0.4444444444444444,\"#bd3786\"],[0.5555555555555556,\"#d8576b\"],[0.6666666666666666,\"#ed7953\"],[0.7777777777777778,\"#fb9f3a\"],[0.8888888888888888,\"#fdca26\"],[1.0,\"#f0f921\"]],\"sequentialminus\":[[0.0,\"#0d0887\"],[0.1111111111111111,\"#46039f\"],[0.2222222222222222,\"#7201a8\"],[0.3333333333333333,\"#9c179e\"],[0.4444444444444444,\"#bd3786\"],[0.5555555555555556,\"#d8576b\"],[0.6666666666666666,\"#ed7953\"],[0.7777777777777778,\"#fb9f3a\"],[0.8888888888888888,\"#fdca26\"],[1.0,\"#f0f921\"]],\"diverging\":[[0,\"#8e0152\"],[0.1,\"#c51b7d\"],[0.2,\"#de77ae\"],[0.3,\"#f1b6da\"],[0.4,\"#fde0ef\"],[0.5,\"#f7f7f7\"],[0.6,\"#e6f5d0\"],[0.7,\"#b8e186\"],[0.8,\"#7fbc41\"],[0.9,\"#4d9221\"],[1,\"#276419\"]]},\"xaxis\":{\"gridcolor\":\"white\",\"linecolor\":\"white\",\"ticks\":\"\",\"title\":{\"standoff\":15},\"zerolinecolor\":\"white\",\"automargin\":true,\"zerolinewidth\":2},\"yaxis\":{\"gridcolor\":\"white\",\"linecolor\":\"white\",\"ticks\":\"\",\"title\":{\"standoff\":15},\"zerolinecolor\":\"white\",\"automargin\":true,\"zerolinewidth\":2},\"scene\":{\"xaxis\":{\"backgroundcolor\":\"#E5ECF6\",\"gridcolor\":\"white\",\"linecolor\":\"white\",\"showbackground\":true,\"ticks\":\"\",\"zerolinecolor\":\"white\",\"gridwidth\":2},\"yaxis\":{\"backgroundcolor\":\"#E5ECF6\",\"gridcolor\":\"white\",\"linecolor\":\"white\",\"showbackground\":true,\"ticks\":\"\",\"zerolinecolor\":\"white\",\"gridwidth\":2},\"zaxis\":{\"backgroundcolor\":\"#E5ECF6\",\"gridcolor\":\"white\",\"linecolor\":\"white\",\"showbackground\":true,\"ticks\":\"\",\"zerolinecolor\":\"white\",\"gridwidth\":2}},\"shapedefaults\":{\"line\":{\"color\":\"#2a3f5f\"}},\"annotationdefaults\":{\"arrowcolor\":\"#2a3f5f\",\"arrowhead\":0,\"arrowwidth\":1},\"geo\":{\"bgcolor\":\"white\",\"landcolor\":\"#E5ECF6\",\"subunitcolor\":\"white\",\"showland\":true,\"showlakes\":true,\"lakecolor\":\"white\"},\"title\":{\"x\":0.05},\"mapbox\":{\"style\":\"light\"}}},\"annotations\":[{\"font\":{},\"showarrow\":false,\"text\":\"Pa\\u00eds Vasco\",\"x\":0.09200000000000001,\"xanchor\":\"center\",\"xref\":\"paper\",\"y\":0.1975,\"yanchor\":\"bottom\",\"yref\":\"paper\"},{\"font\":{},\"showarrow\":false,\"text\":\"Rioja, La\",\"x\":0.29600000000000004,\"xanchor\":\"center\",\"xref\":\"paper\",\"y\":0.1975,\"yanchor\":\"bottom\",\"yref\":\"paper\"},{\"font\":{},\"showarrow\":false,\"text\":\"Ceuta\",\"x\":0.5,\"xanchor\":\"center\",\"xref\":\"paper\",\"y\":0.1975,\"yanchor\":\"bottom\",\"yref\":\"paper\"},{\"font\":{},\"showarrow\":false,\"text\":\"Melilla\",\"x\":0.7040000000000002,\"xanchor\":\"center\",\"xref\":\"paper\",\"y\":0.1975,\"yanchor\":\"bottom\",\"yref\":\"paper\"},{\"font\":{},\"showarrow\":false,\"text\":\"Extremadura\",\"x\":0.09200000000000001,\"xanchor\":\"center\",\"xref\":\"paper\",\"y\":0.465,\"yanchor\":\"bottom\",\"yref\":\"paper\"},{\"font\":{},\"showarrow\":false,\"text\":\"Galicia\",\"x\":0.29600000000000004,\"xanchor\":\"center\",\"xref\":\"paper\",\"y\":0.465,\"yanchor\":\"bottom\",\"yref\":\"paper\"},{\"font\":{},\"showarrow\":false,\"text\":\"Madrid, Comunidad de\",\"x\":0.5,\"xanchor\":\"center\",\"xref\":\"paper\",\"y\":0.465,\"yanchor\":\"bottom\",\"yref\":\"paper\"},{\"font\":{},\"showarrow\":false,\"text\":\"Murcia, Regi\\u00f3n de\",\"x\":0.7040000000000002,\"xanchor\":\"center\",\"xref\":\"paper\",\"y\":0.465,\"yanchor\":\"bottom\",\"yref\":\"paper\"},{\"font\":{},\"showarrow\":false,\"text\":\"Navarra, Comunidad Foral de\",\"x\":0.908,\"xanchor\":\"center\",\"xref\":\"paper\",\"y\":0.465,\"yanchor\":\"bottom\",\"yref\":\"paper\"},{\"font\":{},\"showarrow\":false,\"text\":\"Cantabria\",\"x\":0.09200000000000001,\"xanchor\":\"center\",\"xref\":\"paper\",\"y\":0.7325,\"yanchor\":\"bottom\",\"yref\":\"paper\"},{\"font\":{},\"showarrow\":false,\"text\":\"Castilla y Le\\u00f3n\",\"x\":0.29600000000000004,\"xanchor\":\"center\",\"xref\":\"paper\",\"y\":0.7325,\"yanchor\":\"bottom\",\"yref\":\"paper\"},{\"font\":{},\"showarrow\":false,\"text\":\"Castilla - La Mancha\",\"x\":0.5,\"xanchor\":\"center\",\"xref\":\"paper\",\"y\":0.7325,\"yanchor\":\"bottom\",\"yref\":\"paper\"},{\"font\":{},\"showarrow\":false,\"text\":\"Catalu\\u00f1a\",\"x\":0.7040000000000002,\"xanchor\":\"center\",\"xref\":\"paper\",\"y\":0.7325,\"yanchor\":\"bottom\",\"yref\":\"paper\"},{\"font\":{},\"showarrow\":false,\"text\":\"Comunitat Valenciana\",\"x\":0.908,\"xanchor\":\"center\",\"xref\":\"paper\",\"y\":0.7325,\"yanchor\":\"bottom\",\"yref\":\"paper\"},{\"font\":{},\"showarrow\":false,\"text\":\"Andaluc\\u00eda\",\"x\":0.09200000000000001,\"xanchor\":\"center\",\"xref\":\"paper\",\"y\":1.0,\"yanchor\":\"bottom\",\"yref\":\"paper\"},{\"font\":{},\"showarrow\":false,\"text\":\"Arag\\u00f3n\",\"x\":0.29600000000000004,\"xanchor\":\"center\",\"xref\":\"paper\",\"y\":1.0,\"yanchor\":\"bottom\",\"yref\":\"paper\"},{\"font\":{},\"showarrow\":false,\"text\":\"Asturias, Principado de\",\"x\":0.5,\"xanchor\":\"center\",\"xref\":\"paper\",\"y\":1.0,\"yanchor\":\"bottom\",\"yref\":\"paper\"},{\"font\":{},\"showarrow\":false,\"text\":\"Balears, Illes\",\"x\":0.7040000000000002,\"xanchor\":\"center\",\"xref\":\"paper\",\"y\":1.0,\"yanchor\":\"bottom\",\"yref\":\"paper\"},{\"font\":{},\"showarrow\":false,\"text\":\"Canarias\",\"x\":0.908,\"xanchor\":\"center\",\"xref\":\"paper\",\"y\":1.0,\"yanchor\":\"bottom\",\"yref\":\"paper\"}],\"legend\":{\"tracegroupgap\":0},\"title\":{\"text\":\"Poblaci\\u00f3n por CCAA y agrupaci\\u00f3n en 2022\"}},                        {\"responsive\": true}                    ).then(function(){\n",
       "                            \n",
       "var gd = document.getElementById('1ae99e5d-5096-49e1-b35d-7f1df69c373c');\n",
       "var x = new MutationObserver(function (mutations, observer) {{\n",
       "        var display = window.getComputedStyle(gd).display;\n",
       "        if (!display || display === 'none') {{\n",
       "            console.log([gd, 'removed!']);\n",
       "            Plotly.purge(gd);\n",
       "            observer.disconnect();\n",
       "        }}\n",
       "}});\n",
       "\n",
       "// Listen for the removal of the full notebook cells\n",
       "var notebookContainer = gd.closest('#notebook-container');\n",
       "if (notebookContainer) {{\n",
       "    x.observe(notebookContainer, {childList: true});\n",
       "}}\n",
       "\n",
       "// Listen for the clearing of the current output cell\n",
       "var outputEl = gd.closest('.output');\n",
       "if (outputEl) {{\n",
       "    x.observe(outputEl, {childList: true});\n",
       "}}\n",
       "\n",
       "                        })                };                });            </script>        </div>"
      ]
     },
     "metadata": {},
     "output_type": "display_data"
    }
   ],
   "source": [
    "spanish_population_per_ccaa_small_multiple_pies()"
   ]
  },
  {
   "cell_type": "code",
   "execution_count": 58,
   "id": "c77f3dad",
   "metadata": {},
   "outputs": [
    {
     "data": {
      "application/vnd.plotly.v1+json": {
       "config": {
        "plotlyServerURL": "https://plot.ly"
       },
       "data": [
        {
         "domain": {
          "x": [
           0,
           0.31999999999999995
          ],
          "y": [
           0.9171428571428571,
           1
          ]
         },
         "hovertemplate": "Comunidades y Ciudades Autónomas=Andalucía<br>Agrupación=%{label}<br>Total=%{value}<extra></extra>",
         "labels": [
          "Nacionalidad española y hombres",
          "Nacionalidad española y mujeres",
          "Nacionalidad extranjera y hombres",
          "Nacionalidad extranjera y mujeres"
         ],
         "legendgroup": "",
         "name": "",
         "showlegend": true,
         "type": "pie",
         "values": [
          3812505,
          3946304,
          375090,
          366288
         ]
        },
        {
         "domain": {
          "x": [
           0.33999999999999997,
           0.6599999999999999
          ],
          "y": [
           0.9171428571428571,
           1
          ]
         },
         "hovertemplate": "Comunidades y Ciudades Autónomas=Aragón<br>Agrupación=%{label}<br>Total=%{value}<extra></extra>",
         "labels": [
          "Nacionalidad española y hombres",
          "Nacionalidad española y mujeres",
          "Nacionalidad extranjera y hombres",
          "Nacionalidad extranjera y mujeres"
         ],
         "legendgroup": "",
         "name": "",
         "showlegend": true,
         "type": "pie",
         "values": [
          571243,
          590310,
          84233,
          80529
         ]
        },
        {
         "domain": {
          "x": [
           0.6799999999999999,
           0.9999999999999999
          ],
          "y": [
           0.9171428571428571,
           1
          ]
         },
         "hovertemplate": "Comunidades y Ciudades Autónomas=Asturias, Principado de<br>Agrupación=%{label}<br>Total=%{value}<extra></extra>",
         "labels": [
          "Nacionalidad española y hombres",
          "Nacionalidad española y mujeres",
          "Nacionalidad extranjera y hombres",
          "Nacionalidad extranjera y mujeres"
         ],
         "legendgroup": "",
         "name": "",
         "showlegend": true,
         "type": "pie",
         "values": [
          458084,
          500972,
          21050,
          24580
         ]
        },
        {
         "domain": {
          "x": [
           0,
           0.31999999999999995
          ],
          "y": [
           0.7642857142857142,
           0.8471428571428571
          ]
         },
         "hovertemplate": "Comunidades y Ciudades Autónomas=Balears, Illes<br>Agrupación=%{label}<br>Total=%{value}<extra></extra>",
         "labels": [
          "Nacionalidad española y hombres",
          "Nacionalidad española y mujeres",
          "Nacionalidad extranjera y hombres",
          "Nacionalidad extranjera y mujeres"
         ],
         "legendgroup": "",
         "name": "",
         "showlegend": true,
         "type": "pie",
         "values": [
          474021,
          480621,
          111675,
          110342
         ]
        },
        {
         "domain": {
          "x": [
           0.33999999999999997,
           0.6599999999999999
          ],
          "y": [
           0.7642857142857142,
           0.8471428571428571
          ]
         },
         "hovertemplate": "Comunidades y Ciudades Autónomas=Canarias<br>Agrupación=%{label}<br>Total=%{value}<extra></extra>",
         "labels": [
          "Nacionalidad española y hombres",
          "Nacionalidad española y mujeres",
          "Nacionalidad extranjera y hombres",
          "Nacionalidad extranjera y mujeres"
         ],
         "legendgroup": "",
         "name": "",
         "showlegend": true,
         "type": "pie",
         "values": [
          932850,
          956362,
          142565,
          145924
         ]
        },
        {
         "domain": {
          "x": [
           0.6799999999999999,
           0.9999999999999999
          ],
          "y": [
           0.7642857142857142,
           0.8471428571428571
          ]
         },
         "hovertemplate": "Comunidades y Ciudades Autónomas=Cantabria<br>Agrupación=%{label}<br>Total=%{value}<extra></extra>",
         "labels": [
          "Nacionalidad española y hombres",
          "Nacionalidad española y mujeres",
          "Nacionalidad extranjera y hombres",
          "Nacionalidad extranjera y mujeres"
         ],
         "legendgroup": "",
         "name": "",
         "showlegend": true,
         "type": "pie",
         "values": [
          265907,
          282292,
          17811,
          19392
         ]
        },
        {
         "domain": {
          "x": [
           0,
           0.31999999999999995
          ],
          "y": [
           0.6114285714285714,
           0.6942857142857143
          ]
         },
         "hovertemplate": "Comunidades y Ciudades Autónomas=Castilla y León<br>Agrupación=%{label}<br>Total=%{value}<extra></extra>",
         "labels": [
          "Nacionalidad española y hombres",
          "Nacionalidad española y mujeres",
          "Nacionalidad extranjera y hombres",
          "Nacionalidad extranjera y mujeres"
         ],
         "legendgroup": "",
         "name": "",
         "showlegend": true,
         "type": "pie",
         "values": [
          1095881,
          1130104,
          72002,
          74653
         ]
        },
        {
         "domain": {
          "x": [
           0.33999999999999997,
           0.6599999999999999
          ],
          "y": [
           0.6114285714285714,
           0.6942857142857143
          ]
         },
         "hovertemplate": "Comunidades y Ciudades Autónomas=Castilla - La Mancha<br>Agrupación=%{label}<br>Total=%{value}<extra></extra>",
         "labels": [
          "Nacionalidad española y hombres",
          "Nacionalidad española y mujeres",
          "Nacionalidad extranjera y hombres",
          "Nacionalidad extranjera y mujeres"
         ],
         "legendgroup": "",
         "name": "",
         "showlegend": true,
         "type": "pie",
         "values": [
          929397,
          930456,
          98606,
          94869
         ]
        },
        {
         "domain": {
          "x": [
           0.6799999999999999,
           0.9999999999999999
          ],
          "y": [
           0.6114285714285714,
           0.6942857142857143
          ]
         },
         "hovertemplate": "Comunidades y Ciudades Autónomas=Cataluña<br>Agrupación=%{label}<br>Total=%{value}<extra></extra>",
         "labels": [
          "Nacionalidad española y hombres",
          "Nacionalidad española y mujeres",
          "Nacionalidad extranjera y hombres",
          "Nacionalidad extranjera y mujeres"
         ],
         "legendgroup": "",
         "name": "",
         "showlegend": true,
         "type": "pie",
         "values": [
          3176747,
          3344054,
          657039,
          614771
         ]
        },
        {
         "domain": {
          "x": [
           0,
           0.31999999999999995
          ],
          "y": [
           0.4585714285714286,
           0.5414285714285714
          ]
         },
         "hovertemplate": "Comunidades y Ciudades Autónomas=Comunitat Valenciana<br>Agrupación=%{label}<br>Total=%{value}<extra></extra>",
         "labels": [
          "Nacionalidad española y hombres",
          "Nacionalidad española y mujeres",
          "Nacionalidad extranjera y hombres",
          "Nacionalidad extranjera y mujeres"
         ],
         "legendgroup": "",
         "name": "",
         "showlegend": true,
         "type": "pie",
         "values": [
          2117021,
          2196477,
          392940,
          391529
         ]
        },
        {
         "domain": {
          "x": [
           0.33999999999999997,
           0.6599999999999999
          ],
          "y": [
           0.4585714285714286,
           0.5414285714285714
          ]
         },
         "hovertemplate": "Comunidades y Ciudades Autónomas=Extremadura<br>Agrupación=%{label}<br>Total=%{value}<extra></extra>",
         "labels": [
          "Nacionalidad española y hombres",
          "Nacionalidad española y mujeres",
          "Nacionalidad extranjera y hombres",
          "Nacionalidad extranjera y mujeres"
         ],
         "legendgroup": "",
         "name": "",
         "showlegend": true,
         "type": "pie",
         "values": [
          504519,
          515119,
          16944,
          18194
         ]
        },
        {
         "domain": {
          "x": [
           0.6799999999999999,
           0.9999999999999999
          ],
          "y": [
           0.4585714285714286,
           0.5414285714285714
          ]
         },
         "hovertemplate": "Comunidades y Ciudades Autónomas=Galicia<br>Agrupación=%{label}<br>Total=%{value}<extra></extra>",
         "labels": [
          "Nacionalidad española y hombres",
          "Nacionalidad española y mujeres",
          "Nacionalidad extranjera y hombres",
          "Nacionalidad extranjera y mujeres"
         ],
         "legendgroup": "",
         "name": "",
         "showlegend": true,
         "type": "pie",
         "values": [
          1237678,
          1334046,
          57030,
          61710
         ]
        },
        {
         "domain": {
          "x": [
           0,
           0.31999999999999995
          ],
          "y": [
           0.3057142857142857,
           0.38857142857142857
          ]
         },
         "hovertemplate": "Comunidades y Ciudades Autónomas=Madrid, Comunidad de<br>Agrupación=%{label}<br>Total=%{value}<extra></extra>",
         "labels": [
          "Nacionalidad española y hombres",
          "Nacionalidad española y mujeres",
          "Nacionalidad extranjera y hombres",
          "Nacionalidad extranjera y mujeres"
         ],
         "legendgroup": "",
         "name": "",
         "showlegend": true,
         "type": "pie",
         "values": [
          2780057,
          3020310,
          450097,
          499872
         ]
        },
        {
         "domain": {
          "x": [
           0.33999999999999997,
           0.6599999999999999
          ],
          "y": [
           0.3057142857142857,
           0.38857142857142857
          ]
         },
         "hovertemplate": "Comunidades y Ciudades Autónomas=Murcia, Región de<br>Agrupación=%{label}<br>Total=%{value}<extra></extra>",
         "labels": [
          "Nacionalidad española y hombres",
          "Nacionalidad española y mujeres",
          "Nacionalidad extranjera y hombres",
          "Nacionalidad extranjera y mujeres"
         ],
         "legendgroup": "",
         "name": "",
         "showlegend": true,
         "type": "pie",
         "values": [
          644830,
          660283,
          122578,
          104187
         ]
        },
        {
         "domain": {
          "x": [
           0.6799999999999999,
           0.9999999999999999
          ],
          "y": [
           0.3057142857142857,
           0.38857142857142857
          ]
         },
         "hovertemplate": "Comunidades y Ciudades Autónomas=Navarra, Comunidad Foral de<br>Agrupación=%{label}<br>Total=%{value}<extra></extra>",
         "labels": [
          "Nacionalidad española y hombres",
          "Nacionalidad española y mujeres",
          "Nacionalidad extranjera y hombres",
          "Nacionalidad extranjera y mujeres"
         ],
         "legendgroup": "",
         "name": "",
         "showlegend": true,
         "type": "pie",
         "values": [
          291531,
          299111,
          37089,
          36386
         ]
        },
        {
         "domain": {
          "x": [
           0,
           0.31999999999999995
          ],
          "y": [
           0.15285714285714286,
           0.2357142857142857
          ]
         },
         "hovertemplate": "Comunidades y Ciudades Autónomas=País Vasco<br>Agrupación=%{label}<br>Total=%{value}<extra></extra>",
         "labels": [
          "Nacionalidad española y hombres",
          "Nacionalidad española y mujeres",
          "Nacionalidad extranjera y hombres",
          "Nacionalidad extranjera y mujeres"
         ],
         "legendgroup": "",
         "name": "",
         "showlegend": true,
         "type": "pie",
         "values": [
          980673,
          1042884,
          92920,
          91697
         ]
        },
        {
         "domain": {
          "x": [
           0.33999999999999997,
           0.6599999999999999
          ],
          "y": [
           0.15285714285714286,
           0.2357142857142857
          ]
         },
         "hovertemplate": "Comunidades y Ciudades Autónomas=Rioja, La<br>Agrupación=%{label}<br>Total=%{value}<extra></extra>",
         "labels": [
          "Nacionalidad española y hombres",
          "Nacionalidad española y mujeres",
          "Nacionalidad extranjera y hombres",
          "Nacionalidad extranjera y mujeres"
         ],
         "legendgroup": "",
         "name": "",
         "showlegend": true,
         "type": "pie",
         "values": [
          137163,
          140974,
          20688,
          21067
         ]
        },
        {
         "domain": {
          "x": [
           0.6799999999999999,
           0.9999999999999999
          ],
          "y": [
           0.15285714285714286,
           0.2357142857142857
          ]
         },
         "hovertemplate": "Comunidades y Ciudades Autónomas=Ceuta<br>Agrupación=%{label}<br>Total=%{value}<extra></extra>",
         "labels": [
          "Nacionalidad española y hombres",
          "Nacionalidad española y mujeres",
          "Nacionalidad extranjera y hombres",
          "Nacionalidad extranjera y mujeres"
         ],
         "legendgroup": "",
         "name": "",
         "showlegend": true,
         "type": "pie",
         "values": [
          39607,
          38600,
          2320,
          2590
         ]
        },
        {
         "domain": {
          "x": [
           0,
           0.31999999999999995
          ],
          "y": [
           0,
           0.08285714285714285
          ]
         },
         "hovertemplate": "Comunidades y Ciudades Autónomas=Melilla<br>Agrupación=%{label}<br>Total=%{value}<extra></extra>",
         "labels": [
          "Nacionalidad española y hombres",
          "Nacionalidad española y mujeres",
          "Nacionalidad extranjera y hombres",
          "Nacionalidad extranjera y mujeres"
         ],
         "legendgroup": "",
         "name": "",
         "showlegend": true,
         "type": "pie",
         "values": [
          37453,
          36042,
          5537,
          6138
         ]
        }
       ],
       "layout": {
        "annotations": [
         {
          "font": {},
          "showarrow": false,
          "text": "Melilla",
          "x": 0.15999999999999998,
          "xanchor": "center",
          "xref": "paper",
          "y": 0.08285714285714285,
          "yanchor": "bottom",
          "yref": "paper"
         },
         {
          "font": {},
          "showarrow": false,
          "text": "País Vasco",
          "x": 0.15999999999999998,
          "xanchor": "center",
          "xref": "paper",
          "y": 0.2357142857142857,
          "yanchor": "bottom",
          "yref": "paper"
         },
         {
          "font": {},
          "showarrow": false,
          "text": "Rioja, La",
          "x": 0.49999999999999994,
          "xanchor": "center",
          "xref": "paper",
          "y": 0.2357142857142857,
          "yanchor": "bottom",
          "yref": "paper"
         },
         {
          "font": {},
          "showarrow": false,
          "text": "Ceuta",
          "x": 0.8399999999999999,
          "xanchor": "center",
          "xref": "paper",
          "y": 0.2357142857142857,
          "yanchor": "bottom",
          "yref": "paper"
         },
         {
          "font": {},
          "showarrow": false,
          "text": "Madrid, Comunidad de",
          "x": 0.15999999999999998,
          "xanchor": "center",
          "xref": "paper",
          "y": 0.38857142857142857,
          "yanchor": "bottom",
          "yref": "paper"
         },
         {
          "font": {},
          "showarrow": false,
          "text": "Murcia, Región de",
          "x": 0.49999999999999994,
          "xanchor": "center",
          "xref": "paper",
          "y": 0.38857142857142857,
          "yanchor": "bottom",
          "yref": "paper"
         },
         {
          "font": {},
          "showarrow": false,
          "text": "Navarra, Comunidad Foral de",
          "x": 0.8399999999999999,
          "xanchor": "center",
          "xref": "paper",
          "y": 0.38857142857142857,
          "yanchor": "bottom",
          "yref": "paper"
         },
         {
          "font": {},
          "showarrow": false,
          "text": "Comunitat Valenciana",
          "x": 0.15999999999999998,
          "xanchor": "center",
          "xref": "paper",
          "y": 0.5414285714285714,
          "yanchor": "bottom",
          "yref": "paper"
         },
         {
          "font": {},
          "showarrow": false,
          "text": "Extremadura",
          "x": 0.49999999999999994,
          "xanchor": "center",
          "xref": "paper",
          "y": 0.5414285714285714,
          "yanchor": "bottom",
          "yref": "paper"
         },
         {
          "font": {},
          "showarrow": false,
          "text": "Galicia",
          "x": 0.8399999999999999,
          "xanchor": "center",
          "xref": "paper",
          "y": 0.5414285714285714,
          "yanchor": "bottom",
          "yref": "paper"
         },
         {
          "font": {},
          "showarrow": false,
          "text": "Castilla y León",
          "x": 0.15999999999999998,
          "xanchor": "center",
          "xref": "paper",
          "y": 0.6942857142857143,
          "yanchor": "bottom",
          "yref": "paper"
         },
         {
          "font": {},
          "showarrow": false,
          "text": "Castilla - La Mancha",
          "x": 0.49999999999999994,
          "xanchor": "center",
          "xref": "paper",
          "y": 0.6942857142857143,
          "yanchor": "bottom",
          "yref": "paper"
         },
         {
          "font": {},
          "showarrow": false,
          "text": "Cataluña",
          "x": 0.8399999999999999,
          "xanchor": "center",
          "xref": "paper",
          "y": 0.6942857142857143,
          "yanchor": "bottom",
          "yref": "paper"
         },
         {
          "font": {},
          "showarrow": false,
          "text": "Balears, Illes",
          "x": 0.15999999999999998,
          "xanchor": "center",
          "xref": "paper",
          "y": 0.8471428571428571,
          "yanchor": "bottom",
          "yref": "paper"
         },
         {
          "font": {},
          "showarrow": false,
          "text": "Canarias",
          "x": 0.49999999999999994,
          "xanchor": "center",
          "xref": "paper",
          "y": 0.8471428571428571,
          "yanchor": "bottom",
          "yref": "paper"
         },
         {
          "font": {},
          "showarrow": false,
          "text": "Cantabria",
          "x": 0.8399999999999999,
          "xanchor": "center",
          "xref": "paper",
          "y": 0.8471428571428571,
          "yanchor": "bottom",
          "yref": "paper"
         },
         {
          "font": {},
          "showarrow": false,
          "text": "Andalucía",
          "x": 0.15999999999999998,
          "xanchor": "center",
          "xref": "paper",
          "y": 1,
          "yanchor": "bottom",
          "yref": "paper"
         },
         {
          "font": {},
          "showarrow": false,
          "text": "Aragón",
          "x": 0.49999999999999994,
          "xanchor": "center",
          "xref": "paper",
          "y": 1,
          "yanchor": "bottom",
          "yref": "paper"
         },
         {
          "font": {},
          "showarrow": false,
          "text": "Asturias, Principado de",
          "x": 0.8399999999999999,
          "xanchor": "center",
          "xref": "paper",
          "y": 1,
          "yanchor": "bottom",
          "yref": "paper"
         }
        ],
        "legend": {
         "tracegroupgap": 0
        },
        "template": {
         "data": {
          "bar": [
           {
            "error_x": {
             "color": "#2a3f5f"
            },
            "error_y": {
             "color": "#2a3f5f"
            },
            "marker": {
             "line": {
              "color": "#E5ECF6",
              "width": 0.5
             },
             "pattern": {
              "fillmode": "overlay",
              "size": 10,
              "solidity": 0.2
             }
            },
            "type": "bar"
           }
          ],
          "barpolar": [
           {
            "marker": {
             "line": {
              "color": "#E5ECF6",
              "width": 0.5
             },
             "pattern": {
              "fillmode": "overlay",
              "size": 10,
              "solidity": 0.2
             }
            },
            "type": "barpolar"
           }
          ],
          "carpet": [
           {
            "aaxis": {
             "endlinecolor": "#2a3f5f",
             "gridcolor": "white",
             "linecolor": "white",
             "minorgridcolor": "white",
             "startlinecolor": "#2a3f5f"
            },
            "baxis": {
             "endlinecolor": "#2a3f5f",
             "gridcolor": "white",
             "linecolor": "white",
             "minorgridcolor": "white",
             "startlinecolor": "#2a3f5f"
            },
            "type": "carpet"
           }
          ],
          "choropleth": [
           {
            "colorbar": {
             "outlinewidth": 0,
             "ticks": ""
            },
            "type": "choropleth"
           }
          ],
          "contour": [
           {
            "colorbar": {
             "outlinewidth": 0,
             "ticks": ""
            },
            "colorscale": [
             [
              0,
              "#0d0887"
             ],
             [
              0.1111111111111111,
              "#46039f"
             ],
             [
              0.2222222222222222,
              "#7201a8"
             ],
             [
              0.3333333333333333,
              "#9c179e"
             ],
             [
              0.4444444444444444,
              "#bd3786"
             ],
             [
              0.5555555555555556,
              "#d8576b"
             ],
             [
              0.6666666666666666,
              "#ed7953"
             ],
             [
              0.7777777777777778,
              "#fb9f3a"
             ],
             [
              0.8888888888888888,
              "#fdca26"
             ],
             [
              1,
              "#f0f921"
             ]
            ],
            "type": "contour"
           }
          ],
          "contourcarpet": [
           {
            "colorbar": {
             "outlinewidth": 0,
             "ticks": ""
            },
            "type": "contourcarpet"
           }
          ],
          "heatmap": [
           {
            "colorbar": {
             "outlinewidth": 0,
             "ticks": ""
            },
            "colorscale": [
             [
              0,
              "#0d0887"
             ],
             [
              0.1111111111111111,
              "#46039f"
             ],
             [
              0.2222222222222222,
              "#7201a8"
             ],
             [
              0.3333333333333333,
              "#9c179e"
             ],
             [
              0.4444444444444444,
              "#bd3786"
             ],
             [
              0.5555555555555556,
              "#d8576b"
             ],
             [
              0.6666666666666666,
              "#ed7953"
             ],
             [
              0.7777777777777778,
              "#fb9f3a"
             ],
             [
              0.8888888888888888,
              "#fdca26"
             ],
             [
              1,
              "#f0f921"
             ]
            ],
            "type": "heatmap"
           }
          ],
          "heatmapgl": [
           {
            "colorbar": {
             "outlinewidth": 0,
             "ticks": ""
            },
            "colorscale": [
             [
              0,
              "#0d0887"
             ],
             [
              0.1111111111111111,
              "#46039f"
             ],
             [
              0.2222222222222222,
              "#7201a8"
             ],
             [
              0.3333333333333333,
              "#9c179e"
             ],
             [
              0.4444444444444444,
              "#bd3786"
             ],
             [
              0.5555555555555556,
              "#d8576b"
             ],
             [
              0.6666666666666666,
              "#ed7953"
             ],
             [
              0.7777777777777778,
              "#fb9f3a"
             ],
             [
              0.8888888888888888,
              "#fdca26"
             ],
             [
              1,
              "#f0f921"
             ]
            ],
            "type": "heatmapgl"
           }
          ],
          "histogram": [
           {
            "marker": {
             "pattern": {
              "fillmode": "overlay",
              "size": 10,
              "solidity": 0.2
             }
            },
            "type": "histogram"
           }
          ],
          "histogram2d": [
           {
            "colorbar": {
             "outlinewidth": 0,
             "ticks": ""
            },
            "colorscale": [
             [
              0,
              "#0d0887"
             ],
             [
              0.1111111111111111,
              "#46039f"
             ],
             [
              0.2222222222222222,
              "#7201a8"
             ],
             [
              0.3333333333333333,
              "#9c179e"
             ],
             [
              0.4444444444444444,
              "#bd3786"
             ],
             [
              0.5555555555555556,
              "#d8576b"
             ],
             [
              0.6666666666666666,
              "#ed7953"
             ],
             [
              0.7777777777777778,
              "#fb9f3a"
             ],
             [
              0.8888888888888888,
              "#fdca26"
             ],
             [
              1,
              "#f0f921"
             ]
            ],
            "type": "histogram2d"
           }
          ],
          "histogram2dcontour": [
           {
            "colorbar": {
             "outlinewidth": 0,
             "ticks": ""
            },
            "colorscale": [
             [
              0,
              "#0d0887"
             ],
             [
              0.1111111111111111,
              "#46039f"
             ],
             [
              0.2222222222222222,
              "#7201a8"
             ],
             [
              0.3333333333333333,
              "#9c179e"
             ],
             [
              0.4444444444444444,
              "#bd3786"
             ],
             [
              0.5555555555555556,
              "#d8576b"
             ],
             [
              0.6666666666666666,
              "#ed7953"
             ],
             [
              0.7777777777777778,
              "#fb9f3a"
             ],
             [
              0.8888888888888888,
              "#fdca26"
             ],
             [
              1,
              "#f0f921"
             ]
            ],
            "type": "histogram2dcontour"
           }
          ],
          "mesh3d": [
           {
            "colorbar": {
             "outlinewidth": 0,
             "ticks": ""
            },
            "type": "mesh3d"
           }
          ],
          "parcoords": [
           {
            "line": {
             "colorbar": {
              "outlinewidth": 0,
              "ticks": ""
             }
            },
            "type": "parcoords"
           }
          ],
          "pie": [
           {
            "automargin": true,
            "type": "pie"
           }
          ],
          "scatter": [
           {
            "fillpattern": {
             "fillmode": "overlay",
             "size": 10,
             "solidity": 0.2
            },
            "type": "scatter"
           }
          ],
          "scatter3d": [
           {
            "line": {
             "colorbar": {
              "outlinewidth": 0,
              "ticks": ""
             }
            },
            "marker": {
             "colorbar": {
              "outlinewidth": 0,
              "ticks": ""
             }
            },
            "type": "scatter3d"
           }
          ],
          "scattercarpet": [
           {
            "marker": {
             "colorbar": {
              "outlinewidth": 0,
              "ticks": ""
             }
            },
            "type": "scattercarpet"
           }
          ],
          "scattergeo": [
           {
            "marker": {
             "colorbar": {
              "outlinewidth": 0,
              "ticks": ""
             }
            },
            "type": "scattergeo"
           }
          ],
          "scattergl": [
           {
            "marker": {
             "colorbar": {
              "outlinewidth": 0,
              "ticks": ""
             }
            },
            "type": "scattergl"
           }
          ],
          "scattermapbox": [
           {
            "marker": {
             "colorbar": {
              "outlinewidth": 0,
              "ticks": ""
             }
            },
            "type": "scattermapbox"
           }
          ],
          "scatterpolar": [
           {
            "marker": {
             "colorbar": {
              "outlinewidth": 0,
              "ticks": ""
             }
            },
            "type": "scatterpolar"
           }
          ],
          "scatterpolargl": [
           {
            "marker": {
             "colorbar": {
              "outlinewidth": 0,
              "ticks": ""
             }
            },
            "type": "scatterpolargl"
           }
          ],
          "scatterternary": [
           {
            "marker": {
             "colorbar": {
              "outlinewidth": 0,
              "ticks": ""
             }
            },
            "type": "scatterternary"
           }
          ],
          "surface": [
           {
            "colorbar": {
             "outlinewidth": 0,
             "ticks": ""
            },
            "colorscale": [
             [
              0,
              "#0d0887"
             ],
             [
              0.1111111111111111,
              "#46039f"
             ],
             [
              0.2222222222222222,
              "#7201a8"
             ],
             [
              0.3333333333333333,
              "#9c179e"
             ],
             [
              0.4444444444444444,
              "#bd3786"
             ],
             [
              0.5555555555555556,
              "#d8576b"
             ],
             [
              0.6666666666666666,
              "#ed7953"
             ],
             [
              0.7777777777777778,
              "#fb9f3a"
             ],
             [
              0.8888888888888888,
              "#fdca26"
             ],
             [
              1,
              "#f0f921"
             ]
            ],
            "type": "surface"
           }
          ],
          "table": [
           {
            "cells": {
             "fill": {
              "color": "#EBF0F8"
             },
             "line": {
              "color": "white"
             }
            },
            "header": {
             "fill": {
              "color": "#C8D4E3"
             },
             "line": {
              "color": "white"
             }
            },
            "type": "table"
           }
          ]
         },
         "layout": {
          "annotationdefaults": {
           "arrowcolor": "#2a3f5f",
           "arrowhead": 0,
           "arrowwidth": 1
          },
          "autotypenumbers": "strict",
          "coloraxis": {
           "colorbar": {
            "outlinewidth": 0,
            "ticks": ""
           }
          },
          "colorscale": {
           "diverging": [
            [
             0,
             "#8e0152"
            ],
            [
             0.1,
             "#c51b7d"
            ],
            [
             0.2,
             "#de77ae"
            ],
            [
             0.3,
             "#f1b6da"
            ],
            [
             0.4,
             "#fde0ef"
            ],
            [
             0.5,
             "#f7f7f7"
            ],
            [
             0.6,
             "#e6f5d0"
            ],
            [
             0.7,
             "#b8e186"
            ],
            [
             0.8,
             "#7fbc41"
            ],
            [
             0.9,
             "#4d9221"
            ],
            [
             1,
             "#276419"
            ]
           ],
           "sequential": [
            [
             0,
             "#0d0887"
            ],
            [
             0.1111111111111111,
             "#46039f"
            ],
            [
             0.2222222222222222,
             "#7201a8"
            ],
            [
             0.3333333333333333,
             "#9c179e"
            ],
            [
             0.4444444444444444,
             "#bd3786"
            ],
            [
             0.5555555555555556,
             "#d8576b"
            ],
            [
             0.6666666666666666,
             "#ed7953"
            ],
            [
             0.7777777777777778,
             "#fb9f3a"
            ],
            [
             0.8888888888888888,
             "#fdca26"
            ],
            [
             1,
             "#f0f921"
            ]
           ],
           "sequentialminus": [
            [
             0,
             "#0d0887"
            ],
            [
             0.1111111111111111,
             "#46039f"
            ],
            [
             0.2222222222222222,
             "#7201a8"
            ],
            [
             0.3333333333333333,
             "#9c179e"
            ],
            [
             0.4444444444444444,
             "#bd3786"
            ],
            [
             0.5555555555555556,
             "#d8576b"
            ],
            [
             0.6666666666666666,
             "#ed7953"
            ],
            [
             0.7777777777777778,
             "#fb9f3a"
            ],
            [
             0.8888888888888888,
             "#fdca26"
            ],
            [
             1,
             "#f0f921"
            ]
           ]
          },
          "colorway": [
           "#636efa",
           "#EF553B",
           "#00cc96",
           "#ab63fa",
           "#FFA15A",
           "#19d3f3",
           "#FF6692",
           "#B6E880",
           "#FF97FF",
           "#FECB52"
          ],
          "font": {
           "color": "#2a3f5f"
          },
          "geo": {
           "bgcolor": "white",
           "lakecolor": "white",
           "landcolor": "#E5ECF6",
           "showlakes": true,
           "showland": true,
           "subunitcolor": "white"
          },
          "hoverlabel": {
           "align": "left"
          },
          "hovermode": "closest",
          "mapbox": {
           "style": "light"
          },
          "paper_bgcolor": "white",
          "plot_bgcolor": "#E5ECF6",
          "polar": {
           "angularaxis": {
            "gridcolor": "white",
            "linecolor": "white",
            "ticks": ""
           },
           "bgcolor": "#E5ECF6",
           "radialaxis": {
            "gridcolor": "white",
            "linecolor": "white",
            "ticks": ""
           }
          },
          "scene": {
           "xaxis": {
            "backgroundcolor": "#E5ECF6",
            "gridcolor": "white",
            "gridwidth": 2,
            "linecolor": "white",
            "showbackground": true,
            "ticks": "",
            "zerolinecolor": "white"
           },
           "yaxis": {
            "backgroundcolor": "#E5ECF6",
            "gridcolor": "white",
            "gridwidth": 2,
            "linecolor": "white",
            "showbackground": true,
            "ticks": "",
            "zerolinecolor": "white"
           },
           "zaxis": {
            "backgroundcolor": "#E5ECF6",
            "gridcolor": "white",
            "gridwidth": 2,
            "linecolor": "white",
            "showbackground": true,
            "ticks": "",
            "zerolinecolor": "white"
           }
          },
          "shapedefaults": {
           "line": {
            "color": "#2a3f5f"
           }
          },
          "ternary": {
           "aaxis": {
            "gridcolor": "white",
            "linecolor": "white",
            "ticks": ""
           },
           "baxis": {
            "gridcolor": "white",
            "linecolor": "white",
            "ticks": ""
           },
           "bgcolor": "#E5ECF6",
           "caxis": {
            "gridcolor": "white",
            "linecolor": "white",
            "ticks": ""
           }
          },
          "title": {
           "x": 0.05
          },
          "xaxis": {
           "automargin": true,
           "gridcolor": "white",
           "linecolor": "white",
           "ticks": "",
           "title": {
            "standoff": 15
           },
           "zerolinecolor": "white",
           "zerolinewidth": 2
          },
          "yaxis": {
           "automargin": true,
           "gridcolor": "white",
           "linecolor": "white",
           "ticks": "",
           "title": {
            "standoff": 15
           },
           "zerolinecolor": "white",
           "zerolinewidth": 2
          }
         }
        },
        "title": {
         "text": "Población por CCAA y agrupación en 2022"
        }
       }
      },
      "text/html": [
       "<div>                            <div id=\"2f9f8e97-6607-4071-83ac-06ea7528454d\" class=\"plotly-graph-div\" style=\"height:525px; width:100%;\"></div>            <script type=\"text/javascript\">                require([\"plotly\"], function(Plotly) {                    window.PLOTLYENV=window.PLOTLYENV || {};                                    if (document.getElementById(\"2f9f8e97-6607-4071-83ac-06ea7528454d\")) {                    Plotly.newPlot(                        \"2f9f8e97-6607-4071-83ac-06ea7528454d\",                        [{\"domain\":{\"x\":[0.0,0.31999999999999995],\"y\":[0.9171428571428571,1.0]},\"hovertemplate\":\"Comunidades y Ciudades Aut\\u00f3nomas=Andaluc\\u00eda<br>Agrupaci\\u00f3n=%{label}<br>Total=%{value}<extra></extra>\",\"labels\":[\"Nacionalidad espa\\u00f1ola y hombres\",\"Nacionalidad espa\\u00f1ola y mujeres\",\"Nacionalidad extranjera y hombres\",\"Nacionalidad extranjera y mujeres\"],\"legendgroup\":\"\",\"name\":\"\",\"showlegend\":true,\"values\":[3812505.0,3946304.0,375090.0,366288.0],\"type\":\"pie\"},{\"domain\":{\"x\":[0.33999999999999997,0.6599999999999999],\"y\":[0.9171428571428571,1.0]},\"hovertemplate\":\"Comunidades y Ciudades Aut\\u00f3nomas=Arag\\u00f3n<br>Agrupaci\\u00f3n=%{label}<br>Total=%{value}<extra></extra>\",\"labels\":[\"Nacionalidad espa\\u00f1ola y hombres\",\"Nacionalidad espa\\u00f1ola y mujeres\",\"Nacionalidad extranjera y hombres\",\"Nacionalidad extranjera y mujeres\"],\"legendgroup\":\"\",\"name\":\"\",\"showlegend\":true,\"values\":[571243.0,590310.0,84233.0,80529.0],\"type\":\"pie\"},{\"domain\":{\"x\":[0.6799999999999999,0.9999999999999999],\"y\":[0.9171428571428571,1.0]},\"hovertemplate\":\"Comunidades y Ciudades Aut\\u00f3nomas=Asturias, Principado de<br>Agrupaci\\u00f3n=%{label}<br>Total=%{value}<extra></extra>\",\"labels\":[\"Nacionalidad espa\\u00f1ola y hombres\",\"Nacionalidad espa\\u00f1ola y mujeres\",\"Nacionalidad extranjera y hombres\",\"Nacionalidad extranjera y mujeres\"],\"legendgroup\":\"\",\"name\":\"\",\"showlegend\":true,\"values\":[458084.0,500972.0,21050.0,24580.0],\"type\":\"pie\"},{\"domain\":{\"x\":[0.0,0.31999999999999995],\"y\":[0.7642857142857142,0.8471428571428571]},\"hovertemplate\":\"Comunidades y Ciudades Aut\\u00f3nomas=Balears, Illes<br>Agrupaci\\u00f3n=%{label}<br>Total=%{value}<extra></extra>\",\"labels\":[\"Nacionalidad espa\\u00f1ola y hombres\",\"Nacionalidad espa\\u00f1ola y mujeres\",\"Nacionalidad extranjera y hombres\",\"Nacionalidad extranjera y mujeres\"],\"legendgroup\":\"\",\"name\":\"\",\"showlegend\":true,\"values\":[474021.0,480621.0,111675.0,110342.0],\"type\":\"pie\"},{\"domain\":{\"x\":[0.33999999999999997,0.6599999999999999],\"y\":[0.7642857142857142,0.8471428571428571]},\"hovertemplate\":\"Comunidades y Ciudades Aut\\u00f3nomas=Canarias<br>Agrupaci\\u00f3n=%{label}<br>Total=%{value}<extra></extra>\",\"labels\":[\"Nacionalidad espa\\u00f1ola y hombres\",\"Nacionalidad espa\\u00f1ola y mujeres\",\"Nacionalidad extranjera y hombres\",\"Nacionalidad extranjera y mujeres\"],\"legendgroup\":\"\",\"name\":\"\",\"showlegend\":true,\"values\":[932850.0,956362.0,142565.0,145924.0],\"type\":\"pie\"},{\"domain\":{\"x\":[0.6799999999999999,0.9999999999999999],\"y\":[0.7642857142857142,0.8471428571428571]},\"hovertemplate\":\"Comunidades y Ciudades Aut\\u00f3nomas=Cantabria<br>Agrupaci\\u00f3n=%{label}<br>Total=%{value}<extra></extra>\",\"labels\":[\"Nacionalidad espa\\u00f1ola y hombres\",\"Nacionalidad espa\\u00f1ola y mujeres\",\"Nacionalidad extranjera y hombres\",\"Nacionalidad extranjera y mujeres\"],\"legendgroup\":\"\",\"name\":\"\",\"showlegend\":true,\"values\":[265907.0,282292.0,17811.0,19392.0],\"type\":\"pie\"},{\"domain\":{\"x\":[0.0,0.31999999999999995],\"y\":[0.6114285714285714,0.6942857142857143]},\"hovertemplate\":\"Comunidades y Ciudades Aut\\u00f3nomas=Castilla y Le\\u00f3n<br>Agrupaci\\u00f3n=%{label}<br>Total=%{value}<extra></extra>\",\"labels\":[\"Nacionalidad espa\\u00f1ola y hombres\",\"Nacionalidad espa\\u00f1ola y mujeres\",\"Nacionalidad extranjera y hombres\",\"Nacionalidad extranjera y mujeres\"],\"legendgroup\":\"\",\"name\":\"\",\"showlegend\":true,\"values\":[1095881.0,1130104.0,72002.0,74653.0],\"type\":\"pie\"},{\"domain\":{\"x\":[0.33999999999999997,0.6599999999999999],\"y\":[0.6114285714285714,0.6942857142857143]},\"hovertemplate\":\"Comunidades y Ciudades Aut\\u00f3nomas=Castilla - La Mancha<br>Agrupaci\\u00f3n=%{label}<br>Total=%{value}<extra></extra>\",\"labels\":[\"Nacionalidad espa\\u00f1ola y hombres\",\"Nacionalidad espa\\u00f1ola y mujeres\",\"Nacionalidad extranjera y hombres\",\"Nacionalidad extranjera y mujeres\"],\"legendgroup\":\"\",\"name\":\"\",\"showlegend\":true,\"values\":[929397.0,930456.0,98606.0,94869.0],\"type\":\"pie\"},{\"domain\":{\"x\":[0.6799999999999999,0.9999999999999999],\"y\":[0.6114285714285714,0.6942857142857143]},\"hovertemplate\":\"Comunidades y Ciudades Aut\\u00f3nomas=Catalu\\u00f1a<br>Agrupaci\\u00f3n=%{label}<br>Total=%{value}<extra></extra>\",\"labels\":[\"Nacionalidad espa\\u00f1ola y hombres\",\"Nacionalidad espa\\u00f1ola y mujeres\",\"Nacionalidad extranjera y hombres\",\"Nacionalidad extranjera y mujeres\"],\"legendgroup\":\"\",\"name\":\"\",\"showlegend\":true,\"values\":[3176747.0,3344054.0,657039.0,614771.0],\"type\":\"pie\"},{\"domain\":{\"x\":[0.0,0.31999999999999995],\"y\":[0.4585714285714286,0.5414285714285714]},\"hovertemplate\":\"Comunidades y Ciudades Aut\\u00f3nomas=Comunitat Valenciana<br>Agrupaci\\u00f3n=%{label}<br>Total=%{value}<extra></extra>\",\"labels\":[\"Nacionalidad espa\\u00f1ola y hombres\",\"Nacionalidad espa\\u00f1ola y mujeres\",\"Nacionalidad extranjera y hombres\",\"Nacionalidad extranjera y mujeres\"],\"legendgroup\":\"\",\"name\":\"\",\"showlegend\":true,\"values\":[2117021.0,2196477.0,392940.0,391529.0],\"type\":\"pie\"},{\"domain\":{\"x\":[0.33999999999999997,0.6599999999999999],\"y\":[0.4585714285714286,0.5414285714285714]},\"hovertemplate\":\"Comunidades y Ciudades Aut\\u00f3nomas=Extremadura<br>Agrupaci\\u00f3n=%{label}<br>Total=%{value}<extra></extra>\",\"labels\":[\"Nacionalidad espa\\u00f1ola y hombres\",\"Nacionalidad espa\\u00f1ola y mujeres\",\"Nacionalidad extranjera y hombres\",\"Nacionalidad extranjera y mujeres\"],\"legendgroup\":\"\",\"name\":\"\",\"showlegend\":true,\"values\":[504519.0,515119.0,16944.0,18194.0],\"type\":\"pie\"},{\"domain\":{\"x\":[0.6799999999999999,0.9999999999999999],\"y\":[0.4585714285714286,0.5414285714285714]},\"hovertemplate\":\"Comunidades y Ciudades Aut\\u00f3nomas=Galicia<br>Agrupaci\\u00f3n=%{label}<br>Total=%{value}<extra></extra>\",\"labels\":[\"Nacionalidad espa\\u00f1ola y hombres\",\"Nacionalidad espa\\u00f1ola y mujeres\",\"Nacionalidad extranjera y hombres\",\"Nacionalidad extranjera y mujeres\"],\"legendgroup\":\"\",\"name\":\"\",\"showlegend\":true,\"values\":[1237678.0,1334046.0,57030.0,61710.0],\"type\":\"pie\"},{\"domain\":{\"x\":[0.0,0.31999999999999995],\"y\":[0.3057142857142857,0.38857142857142857]},\"hovertemplate\":\"Comunidades y Ciudades Aut\\u00f3nomas=Madrid, Comunidad de<br>Agrupaci\\u00f3n=%{label}<br>Total=%{value}<extra></extra>\",\"labels\":[\"Nacionalidad espa\\u00f1ola y hombres\",\"Nacionalidad espa\\u00f1ola y mujeres\",\"Nacionalidad extranjera y hombres\",\"Nacionalidad extranjera y mujeres\"],\"legendgroup\":\"\",\"name\":\"\",\"showlegend\":true,\"values\":[2780057.0,3020310.0,450097.0,499872.0],\"type\":\"pie\"},{\"domain\":{\"x\":[0.33999999999999997,0.6599999999999999],\"y\":[0.3057142857142857,0.38857142857142857]},\"hovertemplate\":\"Comunidades y Ciudades Aut\\u00f3nomas=Murcia, Regi\\u00f3n de<br>Agrupaci\\u00f3n=%{label}<br>Total=%{value}<extra></extra>\",\"labels\":[\"Nacionalidad espa\\u00f1ola y hombres\",\"Nacionalidad espa\\u00f1ola y mujeres\",\"Nacionalidad extranjera y hombres\",\"Nacionalidad extranjera y mujeres\"],\"legendgroup\":\"\",\"name\":\"\",\"showlegend\":true,\"values\":[644830.0,660283.0,122578.0,104187.0],\"type\":\"pie\"},{\"domain\":{\"x\":[0.6799999999999999,0.9999999999999999],\"y\":[0.3057142857142857,0.38857142857142857]},\"hovertemplate\":\"Comunidades y Ciudades Aut\\u00f3nomas=Navarra, Comunidad Foral de<br>Agrupaci\\u00f3n=%{label}<br>Total=%{value}<extra></extra>\",\"labels\":[\"Nacionalidad espa\\u00f1ola y hombres\",\"Nacionalidad espa\\u00f1ola y mujeres\",\"Nacionalidad extranjera y hombres\",\"Nacionalidad extranjera y mujeres\"],\"legendgroup\":\"\",\"name\":\"\",\"showlegend\":true,\"values\":[291531.0,299111.0,37089.0,36386.0],\"type\":\"pie\"},{\"domain\":{\"x\":[0.0,0.31999999999999995],\"y\":[0.15285714285714286,0.2357142857142857]},\"hovertemplate\":\"Comunidades y Ciudades Aut\\u00f3nomas=Pa\\u00eds Vasco<br>Agrupaci\\u00f3n=%{label}<br>Total=%{value}<extra></extra>\",\"labels\":[\"Nacionalidad espa\\u00f1ola y hombres\",\"Nacionalidad espa\\u00f1ola y mujeres\",\"Nacionalidad extranjera y hombres\",\"Nacionalidad extranjera y mujeres\"],\"legendgroup\":\"\",\"name\":\"\",\"showlegend\":true,\"values\":[980673.0,1042884.0,92920.0,91697.0],\"type\":\"pie\"},{\"domain\":{\"x\":[0.33999999999999997,0.6599999999999999],\"y\":[0.15285714285714286,0.2357142857142857]},\"hovertemplate\":\"Comunidades y Ciudades Aut\\u00f3nomas=Rioja, La<br>Agrupaci\\u00f3n=%{label}<br>Total=%{value}<extra></extra>\",\"labels\":[\"Nacionalidad espa\\u00f1ola y hombres\",\"Nacionalidad espa\\u00f1ola y mujeres\",\"Nacionalidad extranjera y hombres\",\"Nacionalidad extranjera y mujeres\"],\"legendgroup\":\"\",\"name\":\"\",\"showlegend\":true,\"values\":[137163.0,140974.0,20688.0,21067.0],\"type\":\"pie\"},{\"domain\":{\"x\":[0.6799999999999999,0.9999999999999999],\"y\":[0.15285714285714286,0.2357142857142857]},\"hovertemplate\":\"Comunidades y Ciudades Aut\\u00f3nomas=Ceuta<br>Agrupaci\\u00f3n=%{label}<br>Total=%{value}<extra></extra>\",\"labels\":[\"Nacionalidad espa\\u00f1ola y hombres\",\"Nacionalidad espa\\u00f1ola y mujeres\",\"Nacionalidad extranjera y hombres\",\"Nacionalidad extranjera y mujeres\"],\"legendgroup\":\"\",\"name\":\"\",\"showlegend\":true,\"values\":[39607.0,38600.0,2320.0,2590.0],\"type\":\"pie\"},{\"domain\":{\"x\":[0.0,0.31999999999999995],\"y\":[0.0,0.08285714285714285]},\"hovertemplate\":\"Comunidades y Ciudades Aut\\u00f3nomas=Melilla<br>Agrupaci\\u00f3n=%{label}<br>Total=%{value}<extra></extra>\",\"labels\":[\"Nacionalidad espa\\u00f1ola y hombres\",\"Nacionalidad espa\\u00f1ola y mujeres\",\"Nacionalidad extranjera y hombres\",\"Nacionalidad extranjera y mujeres\"],\"legendgroup\":\"\",\"name\":\"\",\"showlegend\":true,\"values\":[37453.0,36042.0,5537.0,6138.0],\"type\":\"pie\"}],                        {\"template\":{\"data\":{\"histogram2dcontour\":[{\"type\":\"histogram2dcontour\",\"colorbar\":{\"outlinewidth\":0,\"ticks\":\"\"},\"colorscale\":[[0.0,\"#0d0887\"],[0.1111111111111111,\"#46039f\"],[0.2222222222222222,\"#7201a8\"],[0.3333333333333333,\"#9c179e\"],[0.4444444444444444,\"#bd3786\"],[0.5555555555555556,\"#d8576b\"],[0.6666666666666666,\"#ed7953\"],[0.7777777777777778,\"#fb9f3a\"],[0.8888888888888888,\"#fdca26\"],[1.0,\"#f0f921\"]]}],\"choropleth\":[{\"type\":\"choropleth\",\"colorbar\":{\"outlinewidth\":0,\"ticks\":\"\"}}],\"histogram2d\":[{\"type\":\"histogram2d\",\"colorbar\":{\"outlinewidth\":0,\"ticks\":\"\"},\"colorscale\":[[0.0,\"#0d0887\"],[0.1111111111111111,\"#46039f\"],[0.2222222222222222,\"#7201a8\"],[0.3333333333333333,\"#9c179e\"],[0.4444444444444444,\"#bd3786\"],[0.5555555555555556,\"#d8576b\"],[0.6666666666666666,\"#ed7953\"],[0.7777777777777778,\"#fb9f3a\"],[0.8888888888888888,\"#fdca26\"],[1.0,\"#f0f921\"]]}],\"heatmap\":[{\"type\":\"heatmap\",\"colorbar\":{\"outlinewidth\":0,\"ticks\":\"\"},\"colorscale\":[[0.0,\"#0d0887\"],[0.1111111111111111,\"#46039f\"],[0.2222222222222222,\"#7201a8\"],[0.3333333333333333,\"#9c179e\"],[0.4444444444444444,\"#bd3786\"],[0.5555555555555556,\"#d8576b\"],[0.6666666666666666,\"#ed7953\"],[0.7777777777777778,\"#fb9f3a\"],[0.8888888888888888,\"#fdca26\"],[1.0,\"#f0f921\"]]}],\"heatmapgl\":[{\"type\":\"heatmapgl\",\"colorbar\":{\"outlinewidth\":0,\"ticks\":\"\"},\"colorscale\":[[0.0,\"#0d0887\"],[0.1111111111111111,\"#46039f\"],[0.2222222222222222,\"#7201a8\"],[0.3333333333333333,\"#9c179e\"],[0.4444444444444444,\"#bd3786\"],[0.5555555555555556,\"#d8576b\"],[0.6666666666666666,\"#ed7953\"],[0.7777777777777778,\"#fb9f3a\"],[0.8888888888888888,\"#fdca26\"],[1.0,\"#f0f921\"]]}],\"contourcarpet\":[{\"type\":\"contourcarpet\",\"colorbar\":{\"outlinewidth\":0,\"ticks\":\"\"}}],\"contour\":[{\"type\":\"contour\",\"colorbar\":{\"outlinewidth\":0,\"ticks\":\"\"},\"colorscale\":[[0.0,\"#0d0887\"],[0.1111111111111111,\"#46039f\"],[0.2222222222222222,\"#7201a8\"],[0.3333333333333333,\"#9c179e\"],[0.4444444444444444,\"#bd3786\"],[0.5555555555555556,\"#d8576b\"],[0.6666666666666666,\"#ed7953\"],[0.7777777777777778,\"#fb9f3a\"],[0.8888888888888888,\"#fdca26\"],[1.0,\"#f0f921\"]]}],\"surface\":[{\"type\":\"surface\",\"colorbar\":{\"outlinewidth\":0,\"ticks\":\"\"},\"colorscale\":[[0.0,\"#0d0887\"],[0.1111111111111111,\"#46039f\"],[0.2222222222222222,\"#7201a8\"],[0.3333333333333333,\"#9c179e\"],[0.4444444444444444,\"#bd3786\"],[0.5555555555555556,\"#d8576b\"],[0.6666666666666666,\"#ed7953\"],[0.7777777777777778,\"#fb9f3a\"],[0.8888888888888888,\"#fdca26\"],[1.0,\"#f0f921\"]]}],\"mesh3d\":[{\"type\":\"mesh3d\",\"colorbar\":{\"outlinewidth\":0,\"ticks\":\"\"}}],\"scatter\":[{\"fillpattern\":{\"fillmode\":\"overlay\",\"size\":10,\"solidity\":0.2},\"type\":\"scatter\"}],\"parcoords\":[{\"type\":\"parcoords\",\"line\":{\"colorbar\":{\"outlinewidth\":0,\"ticks\":\"\"}}}],\"scatterpolargl\":[{\"type\":\"scatterpolargl\",\"marker\":{\"colorbar\":{\"outlinewidth\":0,\"ticks\":\"\"}}}],\"bar\":[{\"error_x\":{\"color\":\"#2a3f5f\"},\"error_y\":{\"color\":\"#2a3f5f\"},\"marker\":{\"line\":{\"color\":\"#E5ECF6\",\"width\":0.5},\"pattern\":{\"fillmode\":\"overlay\",\"size\":10,\"solidity\":0.2}},\"type\":\"bar\"}],\"scattergeo\":[{\"type\":\"scattergeo\",\"marker\":{\"colorbar\":{\"outlinewidth\":0,\"ticks\":\"\"}}}],\"scatterpolar\":[{\"type\":\"scatterpolar\",\"marker\":{\"colorbar\":{\"outlinewidth\":0,\"ticks\":\"\"}}}],\"histogram\":[{\"marker\":{\"pattern\":{\"fillmode\":\"overlay\",\"size\":10,\"solidity\":0.2}},\"type\":\"histogram\"}],\"scattergl\":[{\"type\":\"scattergl\",\"marker\":{\"colorbar\":{\"outlinewidth\":0,\"ticks\":\"\"}}}],\"scatter3d\":[{\"type\":\"scatter3d\",\"line\":{\"colorbar\":{\"outlinewidth\":0,\"ticks\":\"\"}},\"marker\":{\"colorbar\":{\"outlinewidth\":0,\"ticks\":\"\"}}}],\"scattermapbox\":[{\"type\":\"scattermapbox\",\"marker\":{\"colorbar\":{\"outlinewidth\":0,\"ticks\":\"\"}}}],\"scatterternary\":[{\"type\":\"scatterternary\",\"marker\":{\"colorbar\":{\"outlinewidth\":0,\"ticks\":\"\"}}}],\"scattercarpet\":[{\"type\":\"scattercarpet\",\"marker\":{\"colorbar\":{\"outlinewidth\":0,\"ticks\":\"\"}}}],\"carpet\":[{\"aaxis\":{\"endlinecolor\":\"#2a3f5f\",\"gridcolor\":\"white\",\"linecolor\":\"white\",\"minorgridcolor\":\"white\",\"startlinecolor\":\"#2a3f5f\"},\"baxis\":{\"endlinecolor\":\"#2a3f5f\",\"gridcolor\":\"white\",\"linecolor\":\"white\",\"minorgridcolor\":\"white\",\"startlinecolor\":\"#2a3f5f\"},\"type\":\"carpet\"}],\"table\":[{\"cells\":{\"fill\":{\"color\":\"#EBF0F8\"},\"line\":{\"color\":\"white\"}},\"header\":{\"fill\":{\"color\":\"#C8D4E3\"},\"line\":{\"color\":\"white\"}},\"type\":\"table\"}],\"barpolar\":[{\"marker\":{\"line\":{\"color\":\"#E5ECF6\",\"width\":0.5},\"pattern\":{\"fillmode\":\"overlay\",\"size\":10,\"solidity\":0.2}},\"type\":\"barpolar\"}],\"pie\":[{\"automargin\":true,\"type\":\"pie\"}]},\"layout\":{\"autotypenumbers\":\"strict\",\"colorway\":[\"#636efa\",\"#EF553B\",\"#00cc96\",\"#ab63fa\",\"#FFA15A\",\"#19d3f3\",\"#FF6692\",\"#B6E880\",\"#FF97FF\",\"#FECB52\"],\"font\":{\"color\":\"#2a3f5f\"},\"hovermode\":\"closest\",\"hoverlabel\":{\"align\":\"left\"},\"paper_bgcolor\":\"white\",\"plot_bgcolor\":\"#E5ECF6\",\"polar\":{\"bgcolor\":\"#E5ECF6\",\"angularaxis\":{\"gridcolor\":\"white\",\"linecolor\":\"white\",\"ticks\":\"\"},\"radialaxis\":{\"gridcolor\":\"white\",\"linecolor\":\"white\",\"ticks\":\"\"}},\"ternary\":{\"bgcolor\":\"#E5ECF6\",\"aaxis\":{\"gridcolor\":\"white\",\"linecolor\":\"white\",\"ticks\":\"\"},\"baxis\":{\"gridcolor\":\"white\",\"linecolor\":\"white\",\"ticks\":\"\"},\"caxis\":{\"gridcolor\":\"white\",\"linecolor\":\"white\",\"ticks\":\"\"}},\"coloraxis\":{\"colorbar\":{\"outlinewidth\":0,\"ticks\":\"\"}},\"colorscale\":{\"sequential\":[[0.0,\"#0d0887\"],[0.1111111111111111,\"#46039f\"],[0.2222222222222222,\"#7201a8\"],[0.3333333333333333,\"#9c179e\"],[0.4444444444444444,\"#bd3786\"],[0.5555555555555556,\"#d8576b\"],[0.6666666666666666,\"#ed7953\"],[0.7777777777777778,\"#fb9f3a\"],[0.8888888888888888,\"#fdca26\"],[1.0,\"#f0f921\"]],\"sequentialminus\":[[0.0,\"#0d0887\"],[0.1111111111111111,\"#46039f\"],[0.2222222222222222,\"#7201a8\"],[0.3333333333333333,\"#9c179e\"],[0.4444444444444444,\"#bd3786\"],[0.5555555555555556,\"#d8576b\"],[0.6666666666666666,\"#ed7953\"],[0.7777777777777778,\"#fb9f3a\"],[0.8888888888888888,\"#fdca26\"],[1.0,\"#f0f921\"]],\"diverging\":[[0,\"#8e0152\"],[0.1,\"#c51b7d\"],[0.2,\"#de77ae\"],[0.3,\"#f1b6da\"],[0.4,\"#fde0ef\"],[0.5,\"#f7f7f7\"],[0.6,\"#e6f5d0\"],[0.7,\"#b8e186\"],[0.8,\"#7fbc41\"],[0.9,\"#4d9221\"],[1,\"#276419\"]]},\"xaxis\":{\"gridcolor\":\"white\",\"linecolor\":\"white\",\"ticks\":\"\",\"title\":{\"standoff\":15},\"zerolinecolor\":\"white\",\"automargin\":true,\"zerolinewidth\":2},\"yaxis\":{\"gridcolor\":\"white\",\"linecolor\":\"white\",\"ticks\":\"\",\"title\":{\"standoff\":15},\"zerolinecolor\":\"white\",\"automargin\":true,\"zerolinewidth\":2},\"scene\":{\"xaxis\":{\"backgroundcolor\":\"#E5ECF6\",\"gridcolor\":\"white\",\"linecolor\":\"white\",\"showbackground\":true,\"ticks\":\"\",\"zerolinecolor\":\"white\",\"gridwidth\":2},\"yaxis\":{\"backgroundcolor\":\"#E5ECF6\",\"gridcolor\":\"white\",\"linecolor\":\"white\",\"showbackground\":true,\"ticks\":\"\",\"zerolinecolor\":\"white\",\"gridwidth\":2},\"zaxis\":{\"backgroundcolor\":\"#E5ECF6\",\"gridcolor\":\"white\",\"linecolor\":\"white\",\"showbackground\":true,\"ticks\":\"\",\"zerolinecolor\":\"white\",\"gridwidth\":2}},\"shapedefaults\":{\"line\":{\"color\":\"#2a3f5f\"}},\"annotationdefaults\":{\"arrowcolor\":\"#2a3f5f\",\"arrowhead\":0,\"arrowwidth\":1},\"geo\":{\"bgcolor\":\"white\",\"landcolor\":\"#E5ECF6\",\"subunitcolor\":\"white\",\"showland\":true,\"showlakes\":true,\"lakecolor\":\"white\"},\"title\":{\"x\":0.05},\"mapbox\":{\"style\":\"light\"}}},\"annotations\":[{\"font\":{},\"showarrow\":false,\"text\":\"Melilla\",\"x\":0.15999999999999998,\"xanchor\":\"center\",\"xref\":\"paper\",\"y\":0.08285714285714285,\"yanchor\":\"bottom\",\"yref\":\"paper\"},{\"font\":{},\"showarrow\":false,\"text\":\"Pa\\u00eds Vasco\",\"x\":0.15999999999999998,\"xanchor\":\"center\",\"xref\":\"paper\",\"y\":0.2357142857142857,\"yanchor\":\"bottom\",\"yref\":\"paper\"},{\"font\":{},\"showarrow\":false,\"text\":\"Rioja, La\",\"x\":0.49999999999999994,\"xanchor\":\"center\",\"xref\":\"paper\",\"y\":0.2357142857142857,\"yanchor\":\"bottom\",\"yref\":\"paper\"},{\"font\":{},\"showarrow\":false,\"text\":\"Ceuta\",\"x\":0.8399999999999999,\"xanchor\":\"center\",\"xref\":\"paper\",\"y\":0.2357142857142857,\"yanchor\":\"bottom\",\"yref\":\"paper\"},{\"font\":{},\"showarrow\":false,\"text\":\"Madrid, Comunidad de\",\"x\":0.15999999999999998,\"xanchor\":\"center\",\"xref\":\"paper\",\"y\":0.38857142857142857,\"yanchor\":\"bottom\",\"yref\":\"paper\"},{\"font\":{},\"showarrow\":false,\"text\":\"Murcia, Regi\\u00f3n de\",\"x\":0.49999999999999994,\"xanchor\":\"center\",\"xref\":\"paper\",\"y\":0.38857142857142857,\"yanchor\":\"bottom\",\"yref\":\"paper\"},{\"font\":{},\"showarrow\":false,\"text\":\"Navarra, Comunidad Foral de\",\"x\":0.8399999999999999,\"xanchor\":\"center\",\"xref\":\"paper\",\"y\":0.38857142857142857,\"yanchor\":\"bottom\",\"yref\":\"paper\"},{\"font\":{},\"showarrow\":false,\"text\":\"Comunitat Valenciana\",\"x\":0.15999999999999998,\"xanchor\":\"center\",\"xref\":\"paper\",\"y\":0.5414285714285714,\"yanchor\":\"bottom\",\"yref\":\"paper\"},{\"font\":{},\"showarrow\":false,\"text\":\"Extremadura\",\"x\":0.49999999999999994,\"xanchor\":\"center\",\"xref\":\"paper\",\"y\":0.5414285714285714,\"yanchor\":\"bottom\",\"yref\":\"paper\"},{\"font\":{},\"showarrow\":false,\"text\":\"Galicia\",\"x\":0.8399999999999999,\"xanchor\":\"center\",\"xref\":\"paper\",\"y\":0.5414285714285714,\"yanchor\":\"bottom\",\"yref\":\"paper\"},{\"font\":{},\"showarrow\":false,\"text\":\"Castilla y Le\\u00f3n\",\"x\":0.15999999999999998,\"xanchor\":\"center\",\"xref\":\"paper\",\"y\":0.6942857142857143,\"yanchor\":\"bottom\",\"yref\":\"paper\"},{\"font\":{},\"showarrow\":false,\"text\":\"Castilla - La Mancha\",\"x\":0.49999999999999994,\"xanchor\":\"center\",\"xref\":\"paper\",\"y\":0.6942857142857143,\"yanchor\":\"bottom\",\"yref\":\"paper\"},{\"font\":{},\"showarrow\":false,\"text\":\"Catalu\\u00f1a\",\"x\":0.8399999999999999,\"xanchor\":\"center\",\"xref\":\"paper\",\"y\":0.6942857142857143,\"yanchor\":\"bottom\",\"yref\":\"paper\"},{\"font\":{},\"showarrow\":false,\"text\":\"Balears, Illes\",\"x\":0.15999999999999998,\"xanchor\":\"center\",\"xref\":\"paper\",\"y\":0.8471428571428571,\"yanchor\":\"bottom\",\"yref\":\"paper\"},{\"font\":{},\"showarrow\":false,\"text\":\"Canarias\",\"x\":0.49999999999999994,\"xanchor\":\"center\",\"xref\":\"paper\",\"y\":0.8471428571428571,\"yanchor\":\"bottom\",\"yref\":\"paper\"},{\"font\":{},\"showarrow\":false,\"text\":\"Cantabria\",\"x\":0.8399999999999999,\"xanchor\":\"center\",\"xref\":\"paper\",\"y\":0.8471428571428571,\"yanchor\":\"bottom\",\"yref\":\"paper\"},{\"font\":{},\"showarrow\":false,\"text\":\"Andaluc\\u00eda\",\"x\":0.15999999999999998,\"xanchor\":\"center\",\"xref\":\"paper\",\"y\":1.0,\"yanchor\":\"bottom\",\"yref\":\"paper\"},{\"font\":{},\"showarrow\":false,\"text\":\"Arag\\u00f3n\",\"x\":0.49999999999999994,\"xanchor\":\"center\",\"xref\":\"paper\",\"y\":1.0,\"yanchor\":\"bottom\",\"yref\":\"paper\"},{\"font\":{},\"showarrow\":false,\"text\":\"Asturias, Principado de\",\"x\":0.8399999999999999,\"xanchor\":\"center\",\"xref\":\"paper\",\"y\":1.0,\"yanchor\":\"bottom\",\"yref\":\"paper\"}],\"legend\":{\"tracegroupgap\":0},\"title\":{\"text\":\"Poblaci\\u00f3n por CCAA y agrupaci\\u00f3n en 2022\"}},                        {\"responsive\": true}                    ).then(function(){\n",
       "                            \n",
       "var gd = document.getElementById('2f9f8e97-6607-4071-83ac-06ea7528454d');\n",
       "var x = new MutationObserver(function (mutations, observer) {{\n",
       "        var display = window.getComputedStyle(gd).display;\n",
       "        if (!display || display === 'none') {{\n",
       "            console.log([gd, 'removed!']);\n",
       "            Plotly.purge(gd);\n",
       "            observer.disconnect();\n",
       "        }}\n",
       "}});\n",
       "\n",
       "// Listen for the removal of the full notebook cells\n",
       "var notebookContainer = gd.closest('#notebook-container');\n",
       "if (notebookContainer) {{\n",
       "    x.observe(notebookContainer, {childList: true});\n",
       "}}\n",
       "\n",
       "// Listen for the clearing of the current output cell\n",
       "var outputEl = gd.closest('.output');\n",
       "if (outputEl) {{\n",
       "    x.observe(outputEl, {childList: true});\n",
       "}}\n",
       "\n",
       "                        })                };                });            </script>        </div>"
      ]
     },
     "metadata": {},
     "output_type": "display_data"
    }
   ],
   "source": [
    "spanish_population_per_ccaa_small_multiple_pies(n_cols = 3)"
   ]
  },
  {
   "cell_type": "markdown",
   "id": "94893065",
   "metadata": {},
   "source": [
    "# Distribución de edades por tipo de población"
   ]
  },
  {
   "cell_type": "markdown",
   "id": "451427d2",
   "metadata": {},
   "source": [
    "Finalmente, representamos la distribución de edades de las distintas agrupaciones definidas anteriormente empleando este tipo de diagramas para analizar las diferencias entre grupos de población."
   ]
  },
  {
   "cell_type": "code",
   "execution_count": 64,
   "id": "0caa3025",
   "metadata": {},
   "outputs": [],
   "source": [
    "def population_age_grouped(year=2022):\n",
    "    \n",
    "    # Load data\n",
    "    data = create_spanish_demographics()\n",
    "    \n",
    "    # Define new category column\n",
    "    data['Agrupación'] = ['Nacionalidad ' + data['Españoles/Extranjeros'][n].lower() + ' y ' + data['Sexo'][n].lower() for n in range(len(data))]\n",
    "    \n",
    "    # Filter data\n",
    "    # By CCAA\n",
    "    data = data[data['Comunidades y Ciudades Autónomas'].isna()]\n",
    "    # By Province\n",
    "    data = data[data['Provincias'].isna()]\n",
    "    # By nationality\n",
    "    data = data[data['Españoles/Extranjeros'] != 'Total']\n",
    "    # By sex\n",
    "    data = data[data['Sexo'] != 'Total']\n",
    "    # By age\n",
    "    data = data[data['Edad (año a año)'] != 'Todas las edades']\n",
    "    data = data[data['Edad (año a año)'] != '100 y más años']\n",
    "    # By year\n",
    "    data = data[data['Periodo'] == year]\n",
    "    \n",
    "    return data"
   ]
  },
  {
   "cell_type": "code",
   "execution_count": 65,
   "id": "94c360b1",
   "metadata": {},
   "outputs": [
    {
     "data": {
      "text/html": [
       "<div>\n",
       "<style scoped>\n",
       "    .dataframe tbody tr th:only-of-type {\n",
       "        vertical-align: middle;\n",
       "    }\n",
       "\n",
       "    .dataframe tbody tr th {\n",
       "        vertical-align: top;\n",
       "    }\n",
       "\n",
       "    .dataframe thead th {\n",
       "        text-align: right;\n",
       "    }\n",
       "</style>\n",
       "<table border=\"1\" class=\"dataframe\">\n",
       "  <thead>\n",
       "    <tr style=\"text-align: right;\">\n",
       "      <th></th>\n",
       "      <th>Total Nacional</th>\n",
       "      <th>Comunidades y Ciudades Autónomas</th>\n",
       "      <th>Provincias</th>\n",
       "      <th>Españoles/Extranjeros</th>\n",
       "      <th>Edad (año a año)</th>\n",
       "      <th>Sexo</th>\n",
       "      <th>Periodo</th>\n",
       "      <th>Total</th>\n",
       "      <th>Agrupación</th>\n",
       "    </tr>\n",
       "  </thead>\n",
       "  <tbody>\n",
       "    <tr>\n",
       "      <th>6200</th>\n",
       "      <td>Total Nacional</td>\n",
       "      <td>NaN</td>\n",
       "      <td>NaN</td>\n",
       "      <td>Española</td>\n",
       "      <td>0 años</td>\n",
       "      <td>Hombres</td>\n",
       "      <td>2022</td>\n",
       "      <td>141147.0</td>\n",
       "      <td>Nacionalidad española y hombres</td>\n",
       "    </tr>\n",
       "    <tr>\n",
       "      <th>6220</th>\n",
       "      <td>Total Nacional</td>\n",
       "      <td>NaN</td>\n",
       "      <td>NaN</td>\n",
       "      <td>Española</td>\n",
       "      <td>0 años</td>\n",
       "      <td>Mujeres</td>\n",
       "      <td>2022</td>\n",
       "      <td>132798.0</td>\n",
       "      <td>Nacionalidad española y mujeres</td>\n",
       "    </tr>\n",
       "    <tr>\n",
       "      <th>6260</th>\n",
       "      <td>Total Nacional</td>\n",
       "      <td>NaN</td>\n",
       "      <td>NaN</td>\n",
       "      <td>Española</td>\n",
       "      <td>1 año</td>\n",
       "      <td>Hombres</td>\n",
       "      <td>2022</td>\n",
       "      <td>147033.0</td>\n",
       "      <td>Nacionalidad española y hombres</td>\n",
       "    </tr>\n",
       "    <tr>\n",
       "      <th>6280</th>\n",
       "      <td>Total Nacional</td>\n",
       "      <td>NaN</td>\n",
       "      <td>NaN</td>\n",
       "      <td>Española</td>\n",
       "      <td>1 año</td>\n",
       "      <td>Mujeres</td>\n",
       "      <td>2022</td>\n",
       "      <td>140476.0</td>\n",
       "      <td>Nacionalidad española y mujeres</td>\n",
       "    </tr>\n",
       "    <tr>\n",
       "      <th>6320</th>\n",
       "      <td>Total Nacional</td>\n",
       "      <td>NaN</td>\n",
       "      <td>NaN</td>\n",
       "      <td>Española</td>\n",
       "      <td>2 años</td>\n",
       "      <td>Hombres</td>\n",
       "      <td>2022</td>\n",
       "      <td>158797.0</td>\n",
       "      <td>Nacionalidad española y hombres</td>\n",
       "    </tr>\n",
       "  </tbody>\n",
       "</table>\n",
       "</div>"
      ],
      "text/plain": [
       "      Total Nacional Comunidades y Ciudades Autónomas Provincias  \\\n",
       "6200  Total Nacional                              NaN        NaN   \n",
       "6220  Total Nacional                              NaN        NaN   \n",
       "6260  Total Nacional                              NaN        NaN   \n",
       "6280  Total Nacional                              NaN        NaN   \n",
       "6320  Total Nacional                              NaN        NaN   \n",
       "\n",
       "     Españoles/Extranjeros Edad (año a año)     Sexo  Periodo     Total  \\\n",
       "6200              Española           0 años  Hombres     2022  141147.0   \n",
       "6220              Española           0 años  Mujeres     2022  132798.0   \n",
       "6260              Española            1 año  Hombres     2022  147033.0   \n",
       "6280              Española            1 año  Mujeres     2022  140476.0   \n",
       "6320              Española           2 años  Hombres     2022  158797.0   \n",
       "\n",
       "                           Agrupación  \n",
       "6200  Nacionalidad española y hombres  \n",
       "6220  Nacionalidad española y mujeres  \n",
       "6260  Nacionalidad española y hombres  \n",
       "6280  Nacionalidad española y mujeres  \n",
       "6320  Nacionalidad española y hombres  "
      ]
     },
     "execution_count": 65,
     "metadata": {},
     "output_type": "execute_result"
    }
   ],
   "source": [
    "population_age_grouped().head()"
   ]
  },
  {
   "cell_type": "code",
   "execution_count": 66,
   "id": "90234a47",
   "metadata": {},
   "outputs": [],
   "source": [
    "import plotly\n",
    "import plotly.express as px\n",
    "\n",
    "def spanish_population_age_dist_agrupation(year=2022):\n",
    "    \n",
    "    # Load data\n",
    "    data = population_age_grouped(year)\n",
    "    \n",
    "    # Create bar plot\n",
    "    fig = px.histogram(data, x='Edad (año a año)', y='Total', histnorm='probability density',\n",
    "                 facet_col = 'Agrupación',\n",
    "                 facet_col_wrap = 2,\n",
    "                 title = 'Distribución de edades por agrupación en ' + str(year))\n",
    "    \n",
    "    fig.for_each_annotation(lambda a: a.update(text=a.text.split(\"=\")[-1]))\n",
    "    \n",
    "    # Save figure\n",
    "    plotly.offline.plot(fig, filename='Distribución de edades por agrupación en ' + str(year) + '.html')\n",
    "    \n",
    "    return fig"
   ]
  },
  {
   "cell_type": "code",
   "execution_count": 67,
   "id": "99deaad4",
   "metadata": {},
   "outputs": [
    {
     "data": {
      "application/vnd.plotly.v1+json": {
       "config": {
        "plotlyServerURL": "https://plot.ly"
       },
       "data": [
        {
         "alignmentgroup": "True",
         "bingroup": "x",
         "histfunc": "sum",
         "histnorm": "probability density",
         "hovertemplate": "Agrupación=Nacionalidad española y hombres<br>Edad (año a año)=%{x}<br>probability density weighted by Total=%{y}<extra></extra>",
         "legendgroup": "",
         "marker": {
          "color": "#636efa",
          "pattern": {
           "shape": ""
          }
         },
         "name": "",
         "offsetgroup": "",
         "orientation": "v",
         "showlegend": false,
         "type": "histogram",
         "x": [
          "0 años",
          "1 año",
          "2 años",
          "3 años",
          "4 años",
          "5 años",
          "6 años",
          "7 años",
          "8 años",
          "9 años",
          "10 años",
          "11 años",
          "12 años",
          "13 años",
          "14 años",
          "15 años",
          "16 años",
          "17 años",
          "18 años",
          "19 años",
          "20 años",
          "21 años",
          "22 años",
          "23 años",
          "24 años",
          "25 años",
          "26 años",
          "27 años",
          "28 años",
          "29 años",
          "30 años",
          "31 años",
          "32 años",
          "33 años",
          "34 años",
          "35 años",
          "36 años",
          "37 años",
          "38 años",
          "39 años",
          "40 años",
          "41 años",
          "42 años",
          "43 años",
          "44 años",
          "45 años",
          "46 años",
          "47 años",
          "48 años",
          "49 años",
          "50 años",
          "51 años",
          "52 años",
          "53 años",
          "54 años",
          "55 años",
          "56 años",
          "57 años",
          "58 años",
          "59 años",
          "60 años",
          "61 años",
          "62 años",
          "63 años",
          "64 años",
          "65 años",
          "66 años",
          "67 años",
          "68 años",
          "69 años",
          "70 años",
          "71 años",
          "72 años",
          "73 años",
          "74 años",
          "75 años",
          "76 años",
          "77 años",
          "78 años",
          "79 años",
          "80 años",
          "81 años",
          "82 años",
          "83 años",
          "84 años",
          "85 años",
          "86 años",
          "87 años",
          "88 años",
          "89 años",
          "90 años",
          "91 años",
          "92 años",
          "93 años",
          "94 años",
          "95 años",
          "96 años",
          "97 años",
          "98 años",
          "99 años"
         ],
         "xaxis": "x3",
         "y": [
          141147,
          147033,
          158797,
          168399,
          182110,
          192064,
          198237,
          203102,
          201803,
          215846,
          222811,
          228000,
          233567,
          245753,
          237812,
          237255,
          230695,
          229722,
          225523,
          218198,
          215869,
          217175,
          209745,
          203280,
          204242,
          200750,
          200767,
          202436,
          209839,
          214840,
          214074,
          215097,
          218400,
          222022,
          224790,
          231039,
          240303,
          250955,
          261266,
          277755,
          293421,
          308838,
          321392,
          339860,
          347680,
          356021,
          355952,
          354045,
          347568,
          346024,
          341746,
          335461,
          332214,
          328742,
          331924,
          325705,
          321945,
          325725,
          309270,
          296925,
          290077,
          289167,
          280839,
          272444,
          264136,
          243560,
          234889,
          220894,
          220786,
          217981,
          200951,
          192797,
          197076,
          202597,
          180738,
          168453,
          172657,
          159029,
          152074,
          126034,
          111575,
          130289,
          78747,
          85146,
          89493,
          89354,
          79708,
          70789,
          63186,
          54466,
          43701,
          35317,
          26835,
          20760,
          14496,
          10729,
          7268,
          5145,
          3458,
          2216
         ],
         "yaxis": "y3"
        },
        {
         "alignmentgroup": "True",
         "bingroup": "x",
         "histfunc": "sum",
         "histnorm": "probability density",
         "hovertemplate": "Agrupación=Nacionalidad española y mujeres<br>Edad (año a año)=%{x}<br>probability density weighted by Total=%{y}<extra></extra>",
         "legendgroup": "",
         "marker": {
          "color": "#636efa",
          "pattern": {
           "shape": ""
          }
         },
         "name": "",
         "offsetgroup": "",
         "orientation": "v",
         "showlegend": false,
         "type": "histogram",
         "x": [
          "0 años",
          "1 año",
          "2 años",
          "3 años",
          "4 años",
          "5 años",
          "6 años",
          "7 años",
          "8 años",
          "9 años",
          "10 años",
          "11 años",
          "12 años",
          "13 años",
          "14 años",
          "15 años",
          "16 años",
          "17 años",
          "18 años",
          "19 años",
          "20 años",
          "21 años",
          "22 años",
          "23 años",
          "24 años",
          "25 años",
          "26 años",
          "27 años",
          "28 años",
          "29 años",
          "30 años",
          "31 años",
          "32 años",
          "33 años",
          "34 años",
          "35 años",
          "36 años",
          "37 años",
          "38 años",
          "39 años",
          "40 años",
          "41 años",
          "42 años",
          "43 años",
          "44 años",
          "45 años",
          "46 años",
          "47 años",
          "48 años",
          "49 años",
          "50 años",
          "51 años",
          "52 años",
          "53 años",
          "54 años",
          "55 años",
          "56 años",
          "57 años",
          "58 años",
          "59 años",
          "60 años",
          "61 años",
          "62 años",
          "63 años",
          "64 años",
          "65 años",
          "66 años",
          "67 años",
          "68 años",
          "69 años",
          "70 años",
          "71 años",
          "72 años",
          "73 años",
          "74 años",
          "75 años",
          "76 años",
          "77 años",
          "78 años",
          "79 años",
          "80 años",
          "81 años",
          "82 años",
          "83 años",
          "84 años",
          "85 años",
          "86 años",
          "87 años",
          "88 años",
          "89 años",
          "90 años",
          "91 años",
          "92 años",
          "93 años",
          "94 años",
          "95 años",
          "96 años",
          "97 años",
          "98 años",
          "99 años"
         ],
         "xaxis": "x4",
         "y": [
          132798,
          140476,
          150166,
          159681,
          171462,
          181644,
          187627,
          191086,
          191146,
          203444,
          210131,
          215588,
          219484,
          231517,
          224814,
          224632,
          220017,
          217654,
          215670,
          207452,
          206012,
          204431,
          199406,
          191068,
          194193,
          191497,
          190658,
          192692,
          199627,
          205729,
          203998,
          206232,
          210277,
          214685,
          218652,
          226566,
          236294,
          247604,
          258697,
          275663,
          290049,
          306903,
          319246,
          336187,
          342191,
          352553,
          350710,
          350748,
          343894,
          343634,
          339695,
          335759,
          334390,
          332566,
          337871,
          332221,
          331613,
          336708,
          319833,
          310282,
          304444,
          305363,
          297208,
          290647,
          284171,
          264327,
          256492,
          244815,
          244432,
          241809,
          227364,
          220514,
          230161,
          239889,
          216931,
          206800,
          215634,
          201894,
          196969,
          165918,
          150402,
          182212,
          117486,
          129569,
          140731,
          147701,
          134916,
          125074,
          116976,
          105309,
          88087,
          77351,
          62121,
          51054,
          38736,
          30465,
          22502,
          16489,
          11546,
          8161
         ],
         "yaxis": "y4"
        },
        {
         "alignmentgroup": "True",
         "bingroup": "x",
         "histfunc": "sum",
         "histnorm": "probability density",
         "hovertemplate": "Agrupación=Nacionalidad extranjera y hombres<br>Edad (año a año)=%{x}<br>probability density weighted by Total=%{y}<extra></extra>",
         "legendgroup": "",
         "marker": {
          "color": "#636efa",
          "pattern": {
           "shape": ""
          }
         },
         "name": "",
         "offsetgroup": "",
         "orientation": "v",
         "showlegend": false,
         "type": "histogram",
         "x": [
          "0 años",
          "1 año",
          "2 años",
          "3 años",
          "4 años",
          "5 años",
          "6 años",
          "7 años",
          "8 años",
          "9 años",
          "10 años",
          "11 años",
          "12 años",
          "13 años",
          "14 años",
          "15 años",
          "16 años",
          "17 años",
          "18 años",
          "19 años",
          "20 años",
          "21 años",
          "22 años",
          "23 años",
          "24 años",
          "25 años",
          "26 años",
          "27 años",
          "28 años",
          "29 años",
          "30 años",
          "31 años",
          "32 años",
          "33 años",
          "34 años",
          "35 años",
          "36 años",
          "37 años",
          "38 años",
          "39 años",
          "40 años",
          "41 años",
          "42 años",
          "43 años",
          "44 años",
          "45 años",
          "46 años",
          "47 años",
          "48 años",
          "49 años",
          "50 años",
          "51 años",
          "52 años",
          "53 años",
          "54 años",
          "55 años",
          "56 años",
          "57 años",
          "58 años",
          "59 años",
          "60 años",
          "61 años",
          "62 años",
          "63 años",
          "64 años",
          "65 años",
          "66 años",
          "67 años",
          "68 años",
          "69 años",
          "70 años",
          "71 años",
          "72 años",
          "73 años",
          "74 años",
          "75 años",
          "76 años",
          "77 años",
          "78 años",
          "79 años",
          "80 años",
          "81 años",
          "82 años",
          "83 años",
          "84 años",
          "85 años",
          "86 años",
          "87 años",
          "88 años",
          "89 años",
          "90 años",
          "91 años",
          "92 años",
          "93 años",
          "94 años",
          "95 años",
          "96 años",
          "97 años",
          "98 años",
          "99 años"
         ],
         "xaxis": "x",
         "y": [
          24179,
          27317,
          26229,
          26967,
          27508,
          28476,
          28326,
          28511,
          26916,
          27094,
          26404,
          26547,
          26186,
          25417,
          23515,
          23088,
          23564,
          25605,
          28644,
          31657,
          34029,
          36743,
          37999,
          40344,
          43438,
          45733,
          48904,
          51554,
          53111,
          55186,
          55725,
          57664,
          57894,
          58903,
          59451,
          58926,
          59432,
          60368,
          60832,
          62964,
          62831,
          65092,
          62602,
          61756,
          60324,
          57496,
          54974,
          52436,
          48348,
          46743,
          43373,
          43266,
          39742,
          38272,
          34943,
          31315,
          29490,
          28496,
          26258,
          24740,
          22139,
          21860,
          19896,
          18862,
          17462,
          16646,
          15456,
          14846,
          13694,
          13150,
          12126,
          11611,
          10616,
          10331,
          9960,
          8921,
          7377,
          7374,
          6489,
          5873,
          4947,
          4474,
          3939,
          3397,
          2743,
          2223,
          1839,
          1449,
          1125,
          901,
          734,
          567,
          386,
          309,
          217,
          144,
          99,
          56,
          51,
          30
         ],
         "yaxis": "y"
        },
        {
         "alignmentgroup": "True",
         "bingroup": "x",
         "histfunc": "sum",
         "histnorm": "probability density",
         "hovertemplate": "Agrupación=Nacionalidad extranjera y mujeres<br>Edad (año a año)=%{x}<br>probability density weighted by Total=%{y}<extra></extra>",
         "legendgroup": "",
         "marker": {
          "color": "#636efa",
          "pattern": {
           "shape": ""
          }
         },
         "name": "",
         "offsetgroup": "",
         "orientation": "v",
         "showlegend": false,
         "type": "histogram",
         "x": [
          "0 años",
          "1 año",
          "2 años",
          "3 años",
          "4 años",
          "5 años",
          "6 años",
          "7 años",
          "8 años",
          "9 años",
          "10 años",
          "11 años",
          "12 años",
          "13 años",
          "14 años",
          "15 años",
          "16 años",
          "17 años",
          "18 años",
          "19 años",
          "20 años",
          "21 años",
          "22 años",
          "23 años",
          "24 años",
          "25 años",
          "26 años",
          "27 años",
          "28 años",
          "29 años",
          "30 años",
          "31 años",
          "32 años",
          "33 años",
          "34 años",
          "35 años",
          "36 años",
          "37 años",
          "38 años",
          "39 años",
          "40 años",
          "41 años",
          "42 años",
          "43 años",
          "44 años",
          "45 años",
          "46 años",
          "47 años",
          "48 años",
          "49 años",
          "50 años",
          "51 años",
          "52 años",
          "53 años",
          "54 años",
          "55 años",
          "56 años",
          "57 años",
          "58 años",
          "59 años",
          "60 años",
          "61 años",
          "62 años",
          "63 años",
          "64 años",
          "65 años",
          "66 años",
          "67 años",
          "68 años",
          "69 años",
          "70 años",
          "71 años",
          "72 años",
          "73 años",
          "74 años",
          "75 años",
          "76 años",
          "77 años",
          "78 años",
          "79 años",
          "80 años",
          "81 años",
          "82 años",
          "83 años",
          "84 años",
          "85 años",
          "86 años",
          "87 años",
          "88 años",
          "89 años",
          "90 años",
          "91 años",
          "92 años",
          "93 años",
          "94 años",
          "95 años",
          "96 años",
          "97 años",
          "98 años",
          "99 años"
         ],
         "xaxis": "x2",
         "y": [
          22529,
          25838,
          24912,
          25948,
          26272,
          27059,
          27006,
          26716,
          25445,
          25363,
          24637,
          24940,
          24456,
          23977,
          21817,
          21488,
          21069,
          21562,
          23172,
          24932,
          27975,
          32159,
          35871,
          38974,
          43080,
          45999,
          50064,
          53232,
          55276,
          57745,
          58747,
          61935,
          63561,
          64974,
          64854,
          65393,
          64968,
          65105,
          63852,
          64346,
          62999,
          62403,
          59892,
          57759,
          54970,
          52294,
          49712,
          47574,
          43737,
          42719,
          40587,
          39616,
          37736,
          37067,
          34709,
          30641,
          29583,
          29116,
          27400,
          25769,
          23769,
          23538,
          21874,
          20847,
          19790,
          18804,
          17849,
          16850,
          15626,
          15095,
          13626,
          13272,
          12320,
          11629,
          11118,
          10050,
          8133,
          8023,
          6925,
          6272,
          5402,
          5132,
          4320,
          3670,
          3112,
          2783,
          2187,
          1775,
          1509,
          1275,
          956,
          971,
          734,
          547,
          376,
          321,
          206,
          171,
          110,
          91
         ],
         "yaxis": "y2"
        }
       ],
       "layout": {
        "annotations": [
         {
          "font": {},
          "showarrow": false,
          "text": "Nacionalidad extranjera y hombres",
          "x": 0.245,
          "xanchor": "center",
          "xref": "paper",
          "y": 0.46499999999999997,
          "yanchor": "bottom",
          "yref": "paper"
         },
         {
          "font": {},
          "showarrow": false,
          "text": "Nacionalidad extranjera y mujeres",
          "x": 0.755,
          "xanchor": "center",
          "xref": "paper",
          "y": 0.46499999999999997,
          "yanchor": "bottom",
          "yref": "paper"
         },
         {
          "font": {},
          "showarrow": false,
          "text": "Nacionalidad española y hombres",
          "x": 0.245,
          "xanchor": "center",
          "xref": "paper",
          "y": 0.9999999999999999,
          "yanchor": "bottom",
          "yref": "paper"
         },
         {
          "font": {},
          "showarrow": false,
          "text": "Nacionalidad española y mujeres",
          "x": 0.755,
          "xanchor": "center",
          "xref": "paper",
          "y": 0.9999999999999999,
          "yanchor": "bottom",
          "yref": "paper"
         }
        ],
        "barmode": "relative",
        "legend": {
         "tracegroupgap": 0
        },
        "template": {
         "data": {
          "bar": [
           {
            "error_x": {
             "color": "#2a3f5f"
            },
            "error_y": {
             "color": "#2a3f5f"
            },
            "marker": {
             "line": {
              "color": "#E5ECF6",
              "width": 0.5
             },
             "pattern": {
              "fillmode": "overlay",
              "size": 10,
              "solidity": 0.2
             }
            },
            "type": "bar"
           }
          ],
          "barpolar": [
           {
            "marker": {
             "line": {
              "color": "#E5ECF6",
              "width": 0.5
             },
             "pattern": {
              "fillmode": "overlay",
              "size": 10,
              "solidity": 0.2
             }
            },
            "type": "barpolar"
           }
          ],
          "carpet": [
           {
            "aaxis": {
             "endlinecolor": "#2a3f5f",
             "gridcolor": "white",
             "linecolor": "white",
             "minorgridcolor": "white",
             "startlinecolor": "#2a3f5f"
            },
            "baxis": {
             "endlinecolor": "#2a3f5f",
             "gridcolor": "white",
             "linecolor": "white",
             "minorgridcolor": "white",
             "startlinecolor": "#2a3f5f"
            },
            "type": "carpet"
           }
          ],
          "choropleth": [
           {
            "colorbar": {
             "outlinewidth": 0,
             "ticks": ""
            },
            "type": "choropleth"
           }
          ],
          "contour": [
           {
            "colorbar": {
             "outlinewidth": 0,
             "ticks": ""
            },
            "colorscale": [
             [
              0,
              "#0d0887"
             ],
             [
              0.1111111111111111,
              "#46039f"
             ],
             [
              0.2222222222222222,
              "#7201a8"
             ],
             [
              0.3333333333333333,
              "#9c179e"
             ],
             [
              0.4444444444444444,
              "#bd3786"
             ],
             [
              0.5555555555555556,
              "#d8576b"
             ],
             [
              0.6666666666666666,
              "#ed7953"
             ],
             [
              0.7777777777777778,
              "#fb9f3a"
             ],
             [
              0.8888888888888888,
              "#fdca26"
             ],
             [
              1,
              "#f0f921"
             ]
            ],
            "type": "contour"
           }
          ],
          "contourcarpet": [
           {
            "colorbar": {
             "outlinewidth": 0,
             "ticks": ""
            },
            "type": "contourcarpet"
           }
          ],
          "heatmap": [
           {
            "colorbar": {
             "outlinewidth": 0,
             "ticks": ""
            },
            "colorscale": [
             [
              0,
              "#0d0887"
             ],
             [
              0.1111111111111111,
              "#46039f"
             ],
             [
              0.2222222222222222,
              "#7201a8"
             ],
             [
              0.3333333333333333,
              "#9c179e"
             ],
             [
              0.4444444444444444,
              "#bd3786"
             ],
             [
              0.5555555555555556,
              "#d8576b"
             ],
             [
              0.6666666666666666,
              "#ed7953"
             ],
             [
              0.7777777777777778,
              "#fb9f3a"
             ],
             [
              0.8888888888888888,
              "#fdca26"
             ],
             [
              1,
              "#f0f921"
             ]
            ],
            "type": "heatmap"
           }
          ],
          "heatmapgl": [
           {
            "colorbar": {
             "outlinewidth": 0,
             "ticks": ""
            },
            "colorscale": [
             [
              0,
              "#0d0887"
             ],
             [
              0.1111111111111111,
              "#46039f"
             ],
             [
              0.2222222222222222,
              "#7201a8"
             ],
             [
              0.3333333333333333,
              "#9c179e"
             ],
             [
              0.4444444444444444,
              "#bd3786"
             ],
             [
              0.5555555555555556,
              "#d8576b"
             ],
             [
              0.6666666666666666,
              "#ed7953"
             ],
             [
              0.7777777777777778,
              "#fb9f3a"
             ],
             [
              0.8888888888888888,
              "#fdca26"
             ],
             [
              1,
              "#f0f921"
             ]
            ],
            "type": "heatmapgl"
           }
          ],
          "histogram": [
           {
            "marker": {
             "pattern": {
              "fillmode": "overlay",
              "size": 10,
              "solidity": 0.2
             }
            },
            "type": "histogram"
           }
          ],
          "histogram2d": [
           {
            "colorbar": {
             "outlinewidth": 0,
             "ticks": ""
            },
            "colorscale": [
             [
              0,
              "#0d0887"
             ],
             [
              0.1111111111111111,
              "#46039f"
             ],
             [
              0.2222222222222222,
              "#7201a8"
             ],
             [
              0.3333333333333333,
              "#9c179e"
             ],
             [
              0.4444444444444444,
              "#bd3786"
             ],
             [
              0.5555555555555556,
              "#d8576b"
             ],
             [
              0.6666666666666666,
              "#ed7953"
             ],
             [
              0.7777777777777778,
              "#fb9f3a"
             ],
             [
              0.8888888888888888,
              "#fdca26"
             ],
             [
              1,
              "#f0f921"
             ]
            ],
            "type": "histogram2d"
           }
          ],
          "histogram2dcontour": [
           {
            "colorbar": {
             "outlinewidth": 0,
             "ticks": ""
            },
            "colorscale": [
             [
              0,
              "#0d0887"
             ],
             [
              0.1111111111111111,
              "#46039f"
             ],
             [
              0.2222222222222222,
              "#7201a8"
             ],
             [
              0.3333333333333333,
              "#9c179e"
             ],
             [
              0.4444444444444444,
              "#bd3786"
             ],
             [
              0.5555555555555556,
              "#d8576b"
             ],
             [
              0.6666666666666666,
              "#ed7953"
             ],
             [
              0.7777777777777778,
              "#fb9f3a"
             ],
             [
              0.8888888888888888,
              "#fdca26"
             ],
             [
              1,
              "#f0f921"
             ]
            ],
            "type": "histogram2dcontour"
           }
          ],
          "mesh3d": [
           {
            "colorbar": {
             "outlinewidth": 0,
             "ticks": ""
            },
            "type": "mesh3d"
           }
          ],
          "parcoords": [
           {
            "line": {
             "colorbar": {
              "outlinewidth": 0,
              "ticks": ""
             }
            },
            "type": "parcoords"
           }
          ],
          "pie": [
           {
            "automargin": true,
            "type": "pie"
           }
          ],
          "scatter": [
           {
            "fillpattern": {
             "fillmode": "overlay",
             "size": 10,
             "solidity": 0.2
            },
            "type": "scatter"
           }
          ],
          "scatter3d": [
           {
            "line": {
             "colorbar": {
              "outlinewidth": 0,
              "ticks": ""
             }
            },
            "marker": {
             "colorbar": {
              "outlinewidth": 0,
              "ticks": ""
             }
            },
            "type": "scatter3d"
           }
          ],
          "scattercarpet": [
           {
            "marker": {
             "colorbar": {
              "outlinewidth": 0,
              "ticks": ""
             }
            },
            "type": "scattercarpet"
           }
          ],
          "scattergeo": [
           {
            "marker": {
             "colorbar": {
              "outlinewidth": 0,
              "ticks": ""
             }
            },
            "type": "scattergeo"
           }
          ],
          "scattergl": [
           {
            "marker": {
             "colorbar": {
              "outlinewidth": 0,
              "ticks": ""
             }
            },
            "type": "scattergl"
           }
          ],
          "scattermapbox": [
           {
            "marker": {
             "colorbar": {
              "outlinewidth": 0,
              "ticks": ""
             }
            },
            "type": "scattermapbox"
           }
          ],
          "scatterpolar": [
           {
            "marker": {
             "colorbar": {
              "outlinewidth": 0,
              "ticks": ""
             }
            },
            "type": "scatterpolar"
           }
          ],
          "scatterpolargl": [
           {
            "marker": {
             "colorbar": {
              "outlinewidth": 0,
              "ticks": ""
             }
            },
            "type": "scatterpolargl"
           }
          ],
          "scatterternary": [
           {
            "marker": {
             "colorbar": {
              "outlinewidth": 0,
              "ticks": ""
             }
            },
            "type": "scatterternary"
           }
          ],
          "surface": [
           {
            "colorbar": {
             "outlinewidth": 0,
             "ticks": ""
            },
            "colorscale": [
             [
              0,
              "#0d0887"
             ],
             [
              0.1111111111111111,
              "#46039f"
             ],
             [
              0.2222222222222222,
              "#7201a8"
             ],
             [
              0.3333333333333333,
              "#9c179e"
             ],
             [
              0.4444444444444444,
              "#bd3786"
             ],
             [
              0.5555555555555556,
              "#d8576b"
             ],
             [
              0.6666666666666666,
              "#ed7953"
             ],
             [
              0.7777777777777778,
              "#fb9f3a"
             ],
             [
              0.8888888888888888,
              "#fdca26"
             ],
             [
              1,
              "#f0f921"
             ]
            ],
            "type": "surface"
           }
          ],
          "table": [
           {
            "cells": {
             "fill": {
              "color": "#EBF0F8"
             },
             "line": {
              "color": "white"
             }
            },
            "header": {
             "fill": {
              "color": "#C8D4E3"
             },
             "line": {
              "color": "white"
             }
            },
            "type": "table"
           }
          ]
         },
         "layout": {
          "annotationdefaults": {
           "arrowcolor": "#2a3f5f",
           "arrowhead": 0,
           "arrowwidth": 1
          },
          "autotypenumbers": "strict",
          "coloraxis": {
           "colorbar": {
            "outlinewidth": 0,
            "ticks": ""
           }
          },
          "colorscale": {
           "diverging": [
            [
             0,
             "#8e0152"
            ],
            [
             0.1,
             "#c51b7d"
            ],
            [
             0.2,
             "#de77ae"
            ],
            [
             0.3,
             "#f1b6da"
            ],
            [
             0.4,
             "#fde0ef"
            ],
            [
             0.5,
             "#f7f7f7"
            ],
            [
             0.6,
             "#e6f5d0"
            ],
            [
             0.7,
             "#b8e186"
            ],
            [
             0.8,
             "#7fbc41"
            ],
            [
             0.9,
             "#4d9221"
            ],
            [
             1,
             "#276419"
            ]
           ],
           "sequential": [
            [
             0,
             "#0d0887"
            ],
            [
             0.1111111111111111,
             "#46039f"
            ],
            [
             0.2222222222222222,
             "#7201a8"
            ],
            [
             0.3333333333333333,
             "#9c179e"
            ],
            [
             0.4444444444444444,
             "#bd3786"
            ],
            [
             0.5555555555555556,
             "#d8576b"
            ],
            [
             0.6666666666666666,
             "#ed7953"
            ],
            [
             0.7777777777777778,
             "#fb9f3a"
            ],
            [
             0.8888888888888888,
             "#fdca26"
            ],
            [
             1,
             "#f0f921"
            ]
           ],
           "sequentialminus": [
            [
             0,
             "#0d0887"
            ],
            [
             0.1111111111111111,
             "#46039f"
            ],
            [
             0.2222222222222222,
             "#7201a8"
            ],
            [
             0.3333333333333333,
             "#9c179e"
            ],
            [
             0.4444444444444444,
             "#bd3786"
            ],
            [
             0.5555555555555556,
             "#d8576b"
            ],
            [
             0.6666666666666666,
             "#ed7953"
            ],
            [
             0.7777777777777778,
             "#fb9f3a"
            ],
            [
             0.8888888888888888,
             "#fdca26"
            ],
            [
             1,
             "#f0f921"
            ]
           ]
          },
          "colorway": [
           "#636efa",
           "#EF553B",
           "#00cc96",
           "#ab63fa",
           "#FFA15A",
           "#19d3f3",
           "#FF6692",
           "#B6E880",
           "#FF97FF",
           "#FECB52"
          ],
          "font": {
           "color": "#2a3f5f"
          },
          "geo": {
           "bgcolor": "white",
           "lakecolor": "white",
           "landcolor": "#E5ECF6",
           "showlakes": true,
           "showland": true,
           "subunitcolor": "white"
          },
          "hoverlabel": {
           "align": "left"
          },
          "hovermode": "closest",
          "mapbox": {
           "style": "light"
          },
          "paper_bgcolor": "white",
          "plot_bgcolor": "#E5ECF6",
          "polar": {
           "angularaxis": {
            "gridcolor": "white",
            "linecolor": "white",
            "ticks": ""
           },
           "bgcolor": "#E5ECF6",
           "radialaxis": {
            "gridcolor": "white",
            "linecolor": "white",
            "ticks": ""
           }
          },
          "scene": {
           "xaxis": {
            "backgroundcolor": "#E5ECF6",
            "gridcolor": "white",
            "gridwidth": 2,
            "linecolor": "white",
            "showbackground": true,
            "ticks": "",
            "zerolinecolor": "white"
           },
           "yaxis": {
            "backgroundcolor": "#E5ECF6",
            "gridcolor": "white",
            "gridwidth": 2,
            "linecolor": "white",
            "showbackground": true,
            "ticks": "",
            "zerolinecolor": "white"
           },
           "zaxis": {
            "backgroundcolor": "#E5ECF6",
            "gridcolor": "white",
            "gridwidth": 2,
            "linecolor": "white",
            "showbackground": true,
            "ticks": "",
            "zerolinecolor": "white"
           }
          },
          "shapedefaults": {
           "line": {
            "color": "#2a3f5f"
           }
          },
          "ternary": {
           "aaxis": {
            "gridcolor": "white",
            "linecolor": "white",
            "ticks": ""
           },
           "baxis": {
            "gridcolor": "white",
            "linecolor": "white",
            "ticks": ""
           },
           "bgcolor": "#E5ECF6",
           "caxis": {
            "gridcolor": "white",
            "linecolor": "white",
            "ticks": ""
           }
          },
          "title": {
           "x": 0.05
          },
          "xaxis": {
           "automargin": true,
           "gridcolor": "white",
           "linecolor": "white",
           "ticks": "",
           "title": {
            "standoff": 15
           },
           "zerolinecolor": "white",
           "zerolinewidth": 2
          },
          "yaxis": {
           "automargin": true,
           "gridcolor": "white",
           "linecolor": "white",
           "ticks": "",
           "title": {
            "standoff": 15
           },
           "zerolinecolor": "white",
           "zerolinewidth": 2
          }
         }
        },
        "title": {
         "text": "Distribución de edades por agrupación en 2022"
        },
        "xaxis": {
         "anchor": "y",
         "domain": [
          0,
          0.49
         ],
         "title": {
          "text": "Edad (año a año)"
         }
        },
        "xaxis2": {
         "anchor": "y2",
         "domain": [
          0.51,
          1
         ],
         "matches": "x",
         "title": {
          "text": "Edad (año a año)"
         }
        },
        "xaxis3": {
         "anchor": "y3",
         "domain": [
          0,
          0.49
         ],
         "matches": "x",
         "showticklabels": false
        },
        "xaxis4": {
         "anchor": "y4",
         "domain": [
          0.51,
          1
         ],
         "matches": "x",
         "showticklabels": false
        },
        "yaxis": {
         "anchor": "x",
         "domain": [
          0,
          0.46499999999999997
         ],
         "title": {
          "text": "probability density weighted by Total"
         }
        },
        "yaxis2": {
         "anchor": "x2",
         "domain": [
          0,
          0.46499999999999997
         ],
         "matches": "y",
         "showticklabels": false
        },
        "yaxis3": {
         "anchor": "x3",
         "domain": [
          0.5349999999999999,
          0.9999999999999999
         ],
         "matches": "y",
         "title": {
          "text": "probability density weighted by Total"
         }
        },
        "yaxis4": {
         "anchor": "x4",
         "domain": [
          0.5349999999999999,
          0.9999999999999999
         ],
         "matches": "y",
         "showticklabels": false
        }
       }
      },
      "text/html": [
       "<div>                            <div id=\"5f06ab6c-6a71-4cf1-bbad-58d1e7100313\" class=\"plotly-graph-div\" style=\"height:525px; width:100%;\"></div>            <script type=\"text/javascript\">                require([\"plotly\"], function(Plotly) {                    window.PLOTLYENV=window.PLOTLYENV || {};                                    if (document.getElementById(\"5f06ab6c-6a71-4cf1-bbad-58d1e7100313\")) {                    Plotly.newPlot(                        \"5f06ab6c-6a71-4cf1-bbad-58d1e7100313\",                        [{\"alignmentgroup\":\"True\",\"bingroup\":\"x\",\"histfunc\":\"sum\",\"histnorm\":\"probability density\",\"hovertemplate\":\"Agrupaci\\u00f3n=Nacionalidad espa\\u00f1ola y hombres<br>Edad (a\\u00f1o a a\\u00f1o)=%{x}<br>probability density weighted by Total=%{y}<extra></extra>\",\"legendgroup\":\"\",\"marker\":{\"color\":\"#636efa\",\"pattern\":{\"shape\":\"\"}},\"name\":\"\",\"offsetgroup\":\"\",\"orientation\":\"v\",\"showlegend\":false,\"x\":[\"0 a\\u00f1os\",\"1 a\\u00f1o\",\"2 a\\u00f1os\",\"3 a\\u00f1os\",\"4 a\\u00f1os\",\"5 a\\u00f1os\",\"6 a\\u00f1os\",\"7 a\\u00f1os\",\"8 a\\u00f1os\",\"9 a\\u00f1os\",\"10 a\\u00f1os\",\"11 a\\u00f1os\",\"12 a\\u00f1os\",\"13 a\\u00f1os\",\"14 a\\u00f1os\",\"15 a\\u00f1os\",\"16 a\\u00f1os\",\"17 a\\u00f1os\",\"18 a\\u00f1os\",\"19 a\\u00f1os\",\"20 a\\u00f1os\",\"21 a\\u00f1os\",\"22 a\\u00f1os\",\"23 a\\u00f1os\",\"24 a\\u00f1os\",\"25 a\\u00f1os\",\"26 a\\u00f1os\",\"27 a\\u00f1os\",\"28 a\\u00f1os\",\"29 a\\u00f1os\",\"30 a\\u00f1os\",\"31 a\\u00f1os\",\"32 a\\u00f1os\",\"33 a\\u00f1os\",\"34 a\\u00f1os\",\"35 a\\u00f1os\",\"36 a\\u00f1os\",\"37 a\\u00f1os\",\"38 a\\u00f1os\",\"39 a\\u00f1os\",\"40 a\\u00f1os\",\"41 a\\u00f1os\",\"42 a\\u00f1os\",\"43 a\\u00f1os\",\"44 a\\u00f1os\",\"45 a\\u00f1os\",\"46 a\\u00f1os\",\"47 a\\u00f1os\",\"48 a\\u00f1os\",\"49 a\\u00f1os\",\"50 a\\u00f1os\",\"51 a\\u00f1os\",\"52 a\\u00f1os\",\"53 a\\u00f1os\",\"54 a\\u00f1os\",\"55 a\\u00f1os\",\"56 a\\u00f1os\",\"57 a\\u00f1os\",\"58 a\\u00f1os\",\"59 a\\u00f1os\",\"60 a\\u00f1os\",\"61 a\\u00f1os\",\"62 a\\u00f1os\",\"63 a\\u00f1os\",\"64 a\\u00f1os\",\"65 a\\u00f1os\",\"66 a\\u00f1os\",\"67 a\\u00f1os\",\"68 a\\u00f1os\",\"69 a\\u00f1os\",\"70 a\\u00f1os\",\"71 a\\u00f1os\",\"72 a\\u00f1os\",\"73 a\\u00f1os\",\"74 a\\u00f1os\",\"75 a\\u00f1os\",\"76 a\\u00f1os\",\"77 a\\u00f1os\",\"78 a\\u00f1os\",\"79 a\\u00f1os\",\"80 a\\u00f1os\",\"81 a\\u00f1os\",\"82 a\\u00f1os\",\"83 a\\u00f1os\",\"84 a\\u00f1os\",\"85 a\\u00f1os\",\"86 a\\u00f1os\",\"87 a\\u00f1os\",\"88 a\\u00f1os\",\"89 a\\u00f1os\",\"90 a\\u00f1os\",\"91 a\\u00f1os\",\"92 a\\u00f1os\",\"93 a\\u00f1os\",\"94 a\\u00f1os\",\"95 a\\u00f1os\",\"96 a\\u00f1os\",\"97 a\\u00f1os\",\"98 a\\u00f1os\",\"99 a\\u00f1os\"],\"xaxis\":\"x3\",\"y\":[141147.0,147033.0,158797.0,168399.0,182110.0,192064.0,198237.0,203102.0,201803.0,215846.0,222811.0,228000.0,233567.0,245753.0,237812.0,237255.0,230695.0,229722.0,225523.0,218198.0,215869.0,217175.0,209745.0,203280.0,204242.0,200750.0,200767.0,202436.0,209839.0,214840.0,214074.0,215097.0,218400.0,222022.0,224790.0,231039.0,240303.0,250955.0,261266.0,277755.0,293421.0,308838.0,321392.0,339860.0,347680.0,356021.0,355952.0,354045.0,347568.0,346024.0,341746.0,335461.0,332214.0,328742.0,331924.0,325705.0,321945.0,325725.0,309270.0,296925.0,290077.0,289167.0,280839.0,272444.0,264136.0,243560.0,234889.0,220894.0,220786.0,217981.0,200951.0,192797.0,197076.0,202597.0,180738.0,168453.0,172657.0,159029.0,152074.0,126034.0,111575.0,130289.0,78747.0,85146.0,89493.0,89354.0,79708.0,70789.0,63186.0,54466.0,43701.0,35317.0,26835.0,20760.0,14496.0,10729.0,7268.0,5145.0,3458.0,2216.0],\"yaxis\":\"y3\",\"type\":\"histogram\"},{\"alignmentgroup\":\"True\",\"bingroup\":\"x\",\"histfunc\":\"sum\",\"histnorm\":\"probability density\",\"hovertemplate\":\"Agrupaci\\u00f3n=Nacionalidad espa\\u00f1ola y mujeres<br>Edad (a\\u00f1o a a\\u00f1o)=%{x}<br>probability density weighted by Total=%{y}<extra></extra>\",\"legendgroup\":\"\",\"marker\":{\"color\":\"#636efa\",\"pattern\":{\"shape\":\"\"}},\"name\":\"\",\"offsetgroup\":\"\",\"orientation\":\"v\",\"showlegend\":false,\"x\":[\"0 a\\u00f1os\",\"1 a\\u00f1o\",\"2 a\\u00f1os\",\"3 a\\u00f1os\",\"4 a\\u00f1os\",\"5 a\\u00f1os\",\"6 a\\u00f1os\",\"7 a\\u00f1os\",\"8 a\\u00f1os\",\"9 a\\u00f1os\",\"10 a\\u00f1os\",\"11 a\\u00f1os\",\"12 a\\u00f1os\",\"13 a\\u00f1os\",\"14 a\\u00f1os\",\"15 a\\u00f1os\",\"16 a\\u00f1os\",\"17 a\\u00f1os\",\"18 a\\u00f1os\",\"19 a\\u00f1os\",\"20 a\\u00f1os\",\"21 a\\u00f1os\",\"22 a\\u00f1os\",\"23 a\\u00f1os\",\"24 a\\u00f1os\",\"25 a\\u00f1os\",\"26 a\\u00f1os\",\"27 a\\u00f1os\",\"28 a\\u00f1os\",\"29 a\\u00f1os\",\"30 a\\u00f1os\",\"31 a\\u00f1os\",\"32 a\\u00f1os\",\"33 a\\u00f1os\",\"34 a\\u00f1os\",\"35 a\\u00f1os\",\"36 a\\u00f1os\",\"37 a\\u00f1os\",\"38 a\\u00f1os\",\"39 a\\u00f1os\",\"40 a\\u00f1os\",\"41 a\\u00f1os\",\"42 a\\u00f1os\",\"43 a\\u00f1os\",\"44 a\\u00f1os\",\"45 a\\u00f1os\",\"46 a\\u00f1os\",\"47 a\\u00f1os\",\"48 a\\u00f1os\",\"49 a\\u00f1os\",\"50 a\\u00f1os\",\"51 a\\u00f1os\",\"52 a\\u00f1os\",\"53 a\\u00f1os\",\"54 a\\u00f1os\",\"55 a\\u00f1os\",\"56 a\\u00f1os\",\"57 a\\u00f1os\",\"58 a\\u00f1os\",\"59 a\\u00f1os\",\"60 a\\u00f1os\",\"61 a\\u00f1os\",\"62 a\\u00f1os\",\"63 a\\u00f1os\",\"64 a\\u00f1os\",\"65 a\\u00f1os\",\"66 a\\u00f1os\",\"67 a\\u00f1os\",\"68 a\\u00f1os\",\"69 a\\u00f1os\",\"70 a\\u00f1os\",\"71 a\\u00f1os\",\"72 a\\u00f1os\",\"73 a\\u00f1os\",\"74 a\\u00f1os\",\"75 a\\u00f1os\",\"76 a\\u00f1os\",\"77 a\\u00f1os\",\"78 a\\u00f1os\",\"79 a\\u00f1os\",\"80 a\\u00f1os\",\"81 a\\u00f1os\",\"82 a\\u00f1os\",\"83 a\\u00f1os\",\"84 a\\u00f1os\",\"85 a\\u00f1os\",\"86 a\\u00f1os\",\"87 a\\u00f1os\",\"88 a\\u00f1os\",\"89 a\\u00f1os\",\"90 a\\u00f1os\",\"91 a\\u00f1os\",\"92 a\\u00f1os\",\"93 a\\u00f1os\",\"94 a\\u00f1os\",\"95 a\\u00f1os\",\"96 a\\u00f1os\",\"97 a\\u00f1os\",\"98 a\\u00f1os\",\"99 a\\u00f1os\"],\"xaxis\":\"x4\",\"y\":[132798.0,140476.0,150166.0,159681.0,171462.0,181644.0,187627.0,191086.0,191146.0,203444.0,210131.0,215588.0,219484.0,231517.0,224814.0,224632.0,220017.0,217654.0,215670.0,207452.0,206012.0,204431.0,199406.0,191068.0,194193.0,191497.0,190658.0,192692.0,199627.0,205729.0,203998.0,206232.0,210277.0,214685.0,218652.0,226566.0,236294.0,247604.0,258697.0,275663.0,290049.0,306903.0,319246.0,336187.0,342191.0,352553.0,350710.0,350748.0,343894.0,343634.0,339695.0,335759.0,334390.0,332566.0,337871.0,332221.0,331613.0,336708.0,319833.0,310282.0,304444.0,305363.0,297208.0,290647.0,284171.0,264327.0,256492.0,244815.0,244432.0,241809.0,227364.0,220514.0,230161.0,239889.0,216931.0,206800.0,215634.0,201894.0,196969.0,165918.0,150402.0,182212.0,117486.0,129569.0,140731.0,147701.0,134916.0,125074.0,116976.0,105309.0,88087.0,77351.0,62121.0,51054.0,38736.0,30465.0,22502.0,16489.0,11546.0,8161.0],\"yaxis\":\"y4\",\"type\":\"histogram\"},{\"alignmentgroup\":\"True\",\"bingroup\":\"x\",\"histfunc\":\"sum\",\"histnorm\":\"probability density\",\"hovertemplate\":\"Agrupaci\\u00f3n=Nacionalidad extranjera y hombres<br>Edad (a\\u00f1o a a\\u00f1o)=%{x}<br>probability density weighted by Total=%{y}<extra></extra>\",\"legendgroup\":\"\",\"marker\":{\"color\":\"#636efa\",\"pattern\":{\"shape\":\"\"}},\"name\":\"\",\"offsetgroup\":\"\",\"orientation\":\"v\",\"showlegend\":false,\"x\":[\"0 a\\u00f1os\",\"1 a\\u00f1o\",\"2 a\\u00f1os\",\"3 a\\u00f1os\",\"4 a\\u00f1os\",\"5 a\\u00f1os\",\"6 a\\u00f1os\",\"7 a\\u00f1os\",\"8 a\\u00f1os\",\"9 a\\u00f1os\",\"10 a\\u00f1os\",\"11 a\\u00f1os\",\"12 a\\u00f1os\",\"13 a\\u00f1os\",\"14 a\\u00f1os\",\"15 a\\u00f1os\",\"16 a\\u00f1os\",\"17 a\\u00f1os\",\"18 a\\u00f1os\",\"19 a\\u00f1os\",\"20 a\\u00f1os\",\"21 a\\u00f1os\",\"22 a\\u00f1os\",\"23 a\\u00f1os\",\"24 a\\u00f1os\",\"25 a\\u00f1os\",\"26 a\\u00f1os\",\"27 a\\u00f1os\",\"28 a\\u00f1os\",\"29 a\\u00f1os\",\"30 a\\u00f1os\",\"31 a\\u00f1os\",\"32 a\\u00f1os\",\"33 a\\u00f1os\",\"34 a\\u00f1os\",\"35 a\\u00f1os\",\"36 a\\u00f1os\",\"37 a\\u00f1os\",\"38 a\\u00f1os\",\"39 a\\u00f1os\",\"40 a\\u00f1os\",\"41 a\\u00f1os\",\"42 a\\u00f1os\",\"43 a\\u00f1os\",\"44 a\\u00f1os\",\"45 a\\u00f1os\",\"46 a\\u00f1os\",\"47 a\\u00f1os\",\"48 a\\u00f1os\",\"49 a\\u00f1os\",\"50 a\\u00f1os\",\"51 a\\u00f1os\",\"52 a\\u00f1os\",\"53 a\\u00f1os\",\"54 a\\u00f1os\",\"55 a\\u00f1os\",\"56 a\\u00f1os\",\"57 a\\u00f1os\",\"58 a\\u00f1os\",\"59 a\\u00f1os\",\"60 a\\u00f1os\",\"61 a\\u00f1os\",\"62 a\\u00f1os\",\"63 a\\u00f1os\",\"64 a\\u00f1os\",\"65 a\\u00f1os\",\"66 a\\u00f1os\",\"67 a\\u00f1os\",\"68 a\\u00f1os\",\"69 a\\u00f1os\",\"70 a\\u00f1os\",\"71 a\\u00f1os\",\"72 a\\u00f1os\",\"73 a\\u00f1os\",\"74 a\\u00f1os\",\"75 a\\u00f1os\",\"76 a\\u00f1os\",\"77 a\\u00f1os\",\"78 a\\u00f1os\",\"79 a\\u00f1os\",\"80 a\\u00f1os\",\"81 a\\u00f1os\",\"82 a\\u00f1os\",\"83 a\\u00f1os\",\"84 a\\u00f1os\",\"85 a\\u00f1os\",\"86 a\\u00f1os\",\"87 a\\u00f1os\",\"88 a\\u00f1os\",\"89 a\\u00f1os\",\"90 a\\u00f1os\",\"91 a\\u00f1os\",\"92 a\\u00f1os\",\"93 a\\u00f1os\",\"94 a\\u00f1os\",\"95 a\\u00f1os\",\"96 a\\u00f1os\",\"97 a\\u00f1os\",\"98 a\\u00f1os\",\"99 a\\u00f1os\"],\"xaxis\":\"x\",\"y\":[24179.0,27317.0,26229.0,26967.0,27508.0,28476.0,28326.0,28511.0,26916.0,27094.0,26404.0,26547.0,26186.0,25417.0,23515.0,23088.0,23564.0,25605.0,28644.0,31657.0,34029.0,36743.0,37999.0,40344.0,43438.0,45733.0,48904.0,51554.0,53111.0,55186.0,55725.0,57664.0,57894.0,58903.0,59451.0,58926.0,59432.0,60368.0,60832.0,62964.0,62831.0,65092.0,62602.0,61756.0,60324.0,57496.0,54974.0,52436.0,48348.0,46743.0,43373.0,43266.0,39742.0,38272.0,34943.0,31315.0,29490.0,28496.0,26258.0,24740.0,22139.0,21860.0,19896.0,18862.0,17462.0,16646.0,15456.0,14846.0,13694.0,13150.0,12126.0,11611.0,10616.0,10331.0,9960.0,8921.0,7377.0,7374.0,6489.0,5873.0,4947.0,4474.0,3939.0,3397.0,2743.0,2223.0,1839.0,1449.0,1125.0,901.0,734.0,567.0,386.0,309.0,217.0,144.0,99.0,56.0,51.0,30.0],\"yaxis\":\"y\",\"type\":\"histogram\"},{\"alignmentgroup\":\"True\",\"bingroup\":\"x\",\"histfunc\":\"sum\",\"histnorm\":\"probability density\",\"hovertemplate\":\"Agrupaci\\u00f3n=Nacionalidad extranjera y mujeres<br>Edad (a\\u00f1o a a\\u00f1o)=%{x}<br>probability density weighted by Total=%{y}<extra></extra>\",\"legendgroup\":\"\",\"marker\":{\"color\":\"#636efa\",\"pattern\":{\"shape\":\"\"}},\"name\":\"\",\"offsetgroup\":\"\",\"orientation\":\"v\",\"showlegend\":false,\"x\":[\"0 a\\u00f1os\",\"1 a\\u00f1o\",\"2 a\\u00f1os\",\"3 a\\u00f1os\",\"4 a\\u00f1os\",\"5 a\\u00f1os\",\"6 a\\u00f1os\",\"7 a\\u00f1os\",\"8 a\\u00f1os\",\"9 a\\u00f1os\",\"10 a\\u00f1os\",\"11 a\\u00f1os\",\"12 a\\u00f1os\",\"13 a\\u00f1os\",\"14 a\\u00f1os\",\"15 a\\u00f1os\",\"16 a\\u00f1os\",\"17 a\\u00f1os\",\"18 a\\u00f1os\",\"19 a\\u00f1os\",\"20 a\\u00f1os\",\"21 a\\u00f1os\",\"22 a\\u00f1os\",\"23 a\\u00f1os\",\"24 a\\u00f1os\",\"25 a\\u00f1os\",\"26 a\\u00f1os\",\"27 a\\u00f1os\",\"28 a\\u00f1os\",\"29 a\\u00f1os\",\"30 a\\u00f1os\",\"31 a\\u00f1os\",\"32 a\\u00f1os\",\"33 a\\u00f1os\",\"34 a\\u00f1os\",\"35 a\\u00f1os\",\"36 a\\u00f1os\",\"37 a\\u00f1os\",\"38 a\\u00f1os\",\"39 a\\u00f1os\",\"40 a\\u00f1os\",\"41 a\\u00f1os\",\"42 a\\u00f1os\",\"43 a\\u00f1os\",\"44 a\\u00f1os\",\"45 a\\u00f1os\",\"46 a\\u00f1os\",\"47 a\\u00f1os\",\"48 a\\u00f1os\",\"49 a\\u00f1os\",\"50 a\\u00f1os\",\"51 a\\u00f1os\",\"52 a\\u00f1os\",\"53 a\\u00f1os\",\"54 a\\u00f1os\",\"55 a\\u00f1os\",\"56 a\\u00f1os\",\"57 a\\u00f1os\",\"58 a\\u00f1os\",\"59 a\\u00f1os\",\"60 a\\u00f1os\",\"61 a\\u00f1os\",\"62 a\\u00f1os\",\"63 a\\u00f1os\",\"64 a\\u00f1os\",\"65 a\\u00f1os\",\"66 a\\u00f1os\",\"67 a\\u00f1os\",\"68 a\\u00f1os\",\"69 a\\u00f1os\",\"70 a\\u00f1os\",\"71 a\\u00f1os\",\"72 a\\u00f1os\",\"73 a\\u00f1os\",\"74 a\\u00f1os\",\"75 a\\u00f1os\",\"76 a\\u00f1os\",\"77 a\\u00f1os\",\"78 a\\u00f1os\",\"79 a\\u00f1os\",\"80 a\\u00f1os\",\"81 a\\u00f1os\",\"82 a\\u00f1os\",\"83 a\\u00f1os\",\"84 a\\u00f1os\",\"85 a\\u00f1os\",\"86 a\\u00f1os\",\"87 a\\u00f1os\",\"88 a\\u00f1os\",\"89 a\\u00f1os\",\"90 a\\u00f1os\",\"91 a\\u00f1os\",\"92 a\\u00f1os\",\"93 a\\u00f1os\",\"94 a\\u00f1os\",\"95 a\\u00f1os\",\"96 a\\u00f1os\",\"97 a\\u00f1os\",\"98 a\\u00f1os\",\"99 a\\u00f1os\"],\"xaxis\":\"x2\",\"y\":[22529.0,25838.0,24912.0,25948.0,26272.0,27059.0,27006.0,26716.0,25445.0,25363.0,24637.0,24940.0,24456.0,23977.0,21817.0,21488.0,21069.0,21562.0,23172.0,24932.0,27975.0,32159.0,35871.0,38974.0,43080.0,45999.0,50064.0,53232.0,55276.0,57745.0,58747.0,61935.0,63561.0,64974.0,64854.0,65393.0,64968.0,65105.0,63852.0,64346.0,62999.0,62403.0,59892.0,57759.0,54970.0,52294.0,49712.0,47574.0,43737.0,42719.0,40587.0,39616.0,37736.0,37067.0,34709.0,30641.0,29583.0,29116.0,27400.0,25769.0,23769.0,23538.0,21874.0,20847.0,19790.0,18804.0,17849.0,16850.0,15626.0,15095.0,13626.0,13272.0,12320.0,11629.0,11118.0,10050.0,8133.0,8023.0,6925.0,6272.0,5402.0,5132.0,4320.0,3670.0,3112.0,2783.0,2187.0,1775.0,1509.0,1275.0,956.0,971.0,734.0,547.0,376.0,321.0,206.0,171.0,110.0,91.0],\"yaxis\":\"y2\",\"type\":\"histogram\"}],                        {\"template\":{\"data\":{\"histogram2dcontour\":[{\"type\":\"histogram2dcontour\",\"colorbar\":{\"outlinewidth\":0,\"ticks\":\"\"},\"colorscale\":[[0.0,\"#0d0887\"],[0.1111111111111111,\"#46039f\"],[0.2222222222222222,\"#7201a8\"],[0.3333333333333333,\"#9c179e\"],[0.4444444444444444,\"#bd3786\"],[0.5555555555555556,\"#d8576b\"],[0.6666666666666666,\"#ed7953\"],[0.7777777777777778,\"#fb9f3a\"],[0.8888888888888888,\"#fdca26\"],[1.0,\"#f0f921\"]]}],\"choropleth\":[{\"type\":\"choropleth\",\"colorbar\":{\"outlinewidth\":0,\"ticks\":\"\"}}],\"histogram2d\":[{\"type\":\"histogram2d\",\"colorbar\":{\"outlinewidth\":0,\"ticks\":\"\"},\"colorscale\":[[0.0,\"#0d0887\"],[0.1111111111111111,\"#46039f\"],[0.2222222222222222,\"#7201a8\"],[0.3333333333333333,\"#9c179e\"],[0.4444444444444444,\"#bd3786\"],[0.5555555555555556,\"#d8576b\"],[0.6666666666666666,\"#ed7953\"],[0.7777777777777778,\"#fb9f3a\"],[0.8888888888888888,\"#fdca26\"],[1.0,\"#f0f921\"]]}],\"heatmap\":[{\"type\":\"heatmap\",\"colorbar\":{\"outlinewidth\":0,\"ticks\":\"\"},\"colorscale\":[[0.0,\"#0d0887\"],[0.1111111111111111,\"#46039f\"],[0.2222222222222222,\"#7201a8\"],[0.3333333333333333,\"#9c179e\"],[0.4444444444444444,\"#bd3786\"],[0.5555555555555556,\"#d8576b\"],[0.6666666666666666,\"#ed7953\"],[0.7777777777777778,\"#fb9f3a\"],[0.8888888888888888,\"#fdca26\"],[1.0,\"#f0f921\"]]}],\"heatmapgl\":[{\"type\":\"heatmapgl\",\"colorbar\":{\"outlinewidth\":0,\"ticks\":\"\"},\"colorscale\":[[0.0,\"#0d0887\"],[0.1111111111111111,\"#46039f\"],[0.2222222222222222,\"#7201a8\"],[0.3333333333333333,\"#9c179e\"],[0.4444444444444444,\"#bd3786\"],[0.5555555555555556,\"#d8576b\"],[0.6666666666666666,\"#ed7953\"],[0.7777777777777778,\"#fb9f3a\"],[0.8888888888888888,\"#fdca26\"],[1.0,\"#f0f921\"]]}],\"contourcarpet\":[{\"type\":\"contourcarpet\",\"colorbar\":{\"outlinewidth\":0,\"ticks\":\"\"}}],\"contour\":[{\"type\":\"contour\",\"colorbar\":{\"outlinewidth\":0,\"ticks\":\"\"},\"colorscale\":[[0.0,\"#0d0887\"],[0.1111111111111111,\"#46039f\"],[0.2222222222222222,\"#7201a8\"],[0.3333333333333333,\"#9c179e\"],[0.4444444444444444,\"#bd3786\"],[0.5555555555555556,\"#d8576b\"],[0.6666666666666666,\"#ed7953\"],[0.7777777777777778,\"#fb9f3a\"],[0.8888888888888888,\"#fdca26\"],[1.0,\"#f0f921\"]]}],\"surface\":[{\"type\":\"surface\",\"colorbar\":{\"outlinewidth\":0,\"ticks\":\"\"},\"colorscale\":[[0.0,\"#0d0887\"],[0.1111111111111111,\"#46039f\"],[0.2222222222222222,\"#7201a8\"],[0.3333333333333333,\"#9c179e\"],[0.4444444444444444,\"#bd3786\"],[0.5555555555555556,\"#d8576b\"],[0.6666666666666666,\"#ed7953\"],[0.7777777777777778,\"#fb9f3a\"],[0.8888888888888888,\"#fdca26\"],[1.0,\"#f0f921\"]]}],\"mesh3d\":[{\"type\":\"mesh3d\",\"colorbar\":{\"outlinewidth\":0,\"ticks\":\"\"}}],\"scatter\":[{\"fillpattern\":{\"fillmode\":\"overlay\",\"size\":10,\"solidity\":0.2},\"type\":\"scatter\"}],\"parcoords\":[{\"type\":\"parcoords\",\"line\":{\"colorbar\":{\"outlinewidth\":0,\"ticks\":\"\"}}}],\"scatterpolargl\":[{\"type\":\"scatterpolargl\",\"marker\":{\"colorbar\":{\"outlinewidth\":0,\"ticks\":\"\"}}}],\"bar\":[{\"error_x\":{\"color\":\"#2a3f5f\"},\"error_y\":{\"color\":\"#2a3f5f\"},\"marker\":{\"line\":{\"color\":\"#E5ECF6\",\"width\":0.5},\"pattern\":{\"fillmode\":\"overlay\",\"size\":10,\"solidity\":0.2}},\"type\":\"bar\"}],\"scattergeo\":[{\"type\":\"scattergeo\",\"marker\":{\"colorbar\":{\"outlinewidth\":0,\"ticks\":\"\"}}}],\"scatterpolar\":[{\"type\":\"scatterpolar\",\"marker\":{\"colorbar\":{\"outlinewidth\":0,\"ticks\":\"\"}}}],\"histogram\":[{\"marker\":{\"pattern\":{\"fillmode\":\"overlay\",\"size\":10,\"solidity\":0.2}},\"type\":\"histogram\"}],\"scattergl\":[{\"type\":\"scattergl\",\"marker\":{\"colorbar\":{\"outlinewidth\":0,\"ticks\":\"\"}}}],\"scatter3d\":[{\"type\":\"scatter3d\",\"line\":{\"colorbar\":{\"outlinewidth\":0,\"ticks\":\"\"}},\"marker\":{\"colorbar\":{\"outlinewidth\":0,\"ticks\":\"\"}}}],\"scattermapbox\":[{\"type\":\"scattermapbox\",\"marker\":{\"colorbar\":{\"outlinewidth\":0,\"ticks\":\"\"}}}],\"scatterternary\":[{\"type\":\"scatterternary\",\"marker\":{\"colorbar\":{\"outlinewidth\":0,\"ticks\":\"\"}}}],\"scattercarpet\":[{\"type\":\"scattercarpet\",\"marker\":{\"colorbar\":{\"outlinewidth\":0,\"ticks\":\"\"}}}],\"carpet\":[{\"aaxis\":{\"endlinecolor\":\"#2a3f5f\",\"gridcolor\":\"white\",\"linecolor\":\"white\",\"minorgridcolor\":\"white\",\"startlinecolor\":\"#2a3f5f\"},\"baxis\":{\"endlinecolor\":\"#2a3f5f\",\"gridcolor\":\"white\",\"linecolor\":\"white\",\"minorgridcolor\":\"white\",\"startlinecolor\":\"#2a3f5f\"},\"type\":\"carpet\"}],\"table\":[{\"cells\":{\"fill\":{\"color\":\"#EBF0F8\"},\"line\":{\"color\":\"white\"}},\"header\":{\"fill\":{\"color\":\"#C8D4E3\"},\"line\":{\"color\":\"white\"}},\"type\":\"table\"}],\"barpolar\":[{\"marker\":{\"line\":{\"color\":\"#E5ECF6\",\"width\":0.5},\"pattern\":{\"fillmode\":\"overlay\",\"size\":10,\"solidity\":0.2}},\"type\":\"barpolar\"}],\"pie\":[{\"automargin\":true,\"type\":\"pie\"}]},\"layout\":{\"autotypenumbers\":\"strict\",\"colorway\":[\"#636efa\",\"#EF553B\",\"#00cc96\",\"#ab63fa\",\"#FFA15A\",\"#19d3f3\",\"#FF6692\",\"#B6E880\",\"#FF97FF\",\"#FECB52\"],\"font\":{\"color\":\"#2a3f5f\"},\"hovermode\":\"closest\",\"hoverlabel\":{\"align\":\"left\"},\"paper_bgcolor\":\"white\",\"plot_bgcolor\":\"#E5ECF6\",\"polar\":{\"bgcolor\":\"#E5ECF6\",\"angularaxis\":{\"gridcolor\":\"white\",\"linecolor\":\"white\",\"ticks\":\"\"},\"radialaxis\":{\"gridcolor\":\"white\",\"linecolor\":\"white\",\"ticks\":\"\"}},\"ternary\":{\"bgcolor\":\"#E5ECF6\",\"aaxis\":{\"gridcolor\":\"white\",\"linecolor\":\"white\",\"ticks\":\"\"},\"baxis\":{\"gridcolor\":\"white\",\"linecolor\":\"white\",\"ticks\":\"\"},\"caxis\":{\"gridcolor\":\"white\",\"linecolor\":\"white\",\"ticks\":\"\"}},\"coloraxis\":{\"colorbar\":{\"outlinewidth\":0,\"ticks\":\"\"}},\"colorscale\":{\"sequential\":[[0.0,\"#0d0887\"],[0.1111111111111111,\"#46039f\"],[0.2222222222222222,\"#7201a8\"],[0.3333333333333333,\"#9c179e\"],[0.4444444444444444,\"#bd3786\"],[0.5555555555555556,\"#d8576b\"],[0.6666666666666666,\"#ed7953\"],[0.7777777777777778,\"#fb9f3a\"],[0.8888888888888888,\"#fdca26\"],[1.0,\"#f0f921\"]],\"sequentialminus\":[[0.0,\"#0d0887\"],[0.1111111111111111,\"#46039f\"],[0.2222222222222222,\"#7201a8\"],[0.3333333333333333,\"#9c179e\"],[0.4444444444444444,\"#bd3786\"],[0.5555555555555556,\"#d8576b\"],[0.6666666666666666,\"#ed7953\"],[0.7777777777777778,\"#fb9f3a\"],[0.8888888888888888,\"#fdca26\"],[1.0,\"#f0f921\"]],\"diverging\":[[0,\"#8e0152\"],[0.1,\"#c51b7d\"],[0.2,\"#de77ae\"],[0.3,\"#f1b6da\"],[0.4,\"#fde0ef\"],[0.5,\"#f7f7f7\"],[0.6,\"#e6f5d0\"],[0.7,\"#b8e186\"],[0.8,\"#7fbc41\"],[0.9,\"#4d9221\"],[1,\"#276419\"]]},\"xaxis\":{\"gridcolor\":\"white\",\"linecolor\":\"white\",\"ticks\":\"\",\"title\":{\"standoff\":15},\"zerolinecolor\":\"white\",\"automargin\":true,\"zerolinewidth\":2},\"yaxis\":{\"gridcolor\":\"white\",\"linecolor\":\"white\",\"ticks\":\"\",\"title\":{\"standoff\":15},\"zerolinecolor\":\"white\",\"automargin\":true,\"zerolinewidth\":2},\"scene\":{\"xaxis\":{\"backgroundcolor\":\"#E5ECF6\",\"gridcolor\":\"white\",\"linecolor\":\"white\",\"showbackground\":true,\"ticks\":\"\",\"zerolinecolor\":\"white\",\"gridwidth\":2},\"yaxis\":{\"backgroundcolor\":\"#E5ECF6\",\"gridcolor\":\"white\",\"linecolor\":\"white\",\"showbackground\":true,\"ticks\":\"\",\"zerolinecolor\":\"white\",\"gridwidth\":2},\"zaxis\":{\"backgroundcolor\":\"#E5ECF6\",\"gridcolor\":\"white\",\"linecolor\":\"white\",\"showbackground\":true,\"ticks\":\"\",\"zerolinecolor\":\"white\",\"gridwidth\":2}},\"shapedefaults\":{\"line\":{\"color\":\"#2a3f5f\"}},\"annotationdefaults\":{\"arrowcolor\":\"#2a3f5f\",\"arrowhead\":0,\"arrowwidth\":1},\"geo\":{\"bgcolor\":\"white\",\"landcolor\":\"#E5ECF6\",\"subunitcolor\":\"white\",\"showland\":true,\"showlakes\":true,\"lakecolor\":\"white\"},\"title\":{\"x\":0.05},\"mapbox\":{\"style\":\"light\"}}},\"xaxis\":{\"anchor\":\"y\",\"domain\":[0.0,0.49],\"title\":{\"text\":\"Edad (a\\u00f1o a a\\u00f1o)\"}},\"yaxis\":{\"anchor\":\"x\",\"domain\":[0.0,0.46499999999999997],\"title\":{\"text\":\"probability density weighted by Total\"}},\"xaxis2\":{\"anchor\":\"y2\",\"domain\":[0.51,1.0],\"matches\":\"x\",\"title\":{\"text\":\"Edad (a\\u00f1o a a\\u00f1o)\"}},\"yaxis2\":{\"anchor\":\"x2\",\"domain\":[0.0,0.46499999999999997],\"matches\":\"y\",\"showticklabels\":false},\"xaxis3\":{\"anchor\":\"y3\",\"domain\":[0.0,0.49],\"matches\":\"x\",\"showticklabels\":false},\"yaxis3\":{\"anchor\":\"x3\",\"domain\":[0.5349999999999999,0.9999999999999999],\"matches\":\"y\",\"title\":{\"text\":\"probability density weighted by Total\"}},\"xaxis4\":{\"anchor\":\"y4\",\"domain\":[0.51,1.0],\"matches\":\"x\",\"showticklabels\":false},\"yaxis4\":{\"anchor\":\"x4\",\"domain\":[0.5349999999999999,0.9999999999999999],\"matches\":\"y\",\"showticklabels\":false},\"annotations\":[{\"font\":{},\"showarrow\":false,\"text\":\"Nacionalidad extranjera y hombres\",\"x\":0.245,\"xanchor\":\"center\",\"xref\":\"paper\",\"y\":0.46499999999999997,\"yanchor\":\"bottom\",\"yref\":\"paper\"},{\"font\":{},\"showarrow\":false,\"text\":\"Nacionalidad extranjera y mujeres\",\"x\":0.755,\"xanchor\":\"center\",\"xref\":\"paper\",\"y\":0.46499999999999997,\"yanchor\":\"bottom\",\"yref\":\"paper\"},{\"font\":{},\"showarrow\":false,\"text\":\"Nacionalidad espa\\u00f1ola y hombres\",\"x\":0.245,\"xanchor\":\"center\",\"xref\":\"paper\",\"y\":0.9999999999999999,\"yanchor\":\"bottom\",\"yref\":\"paper\"},{\"font\":{},\"showarrow\":false,\"text\":\"Nacionalidad espa\\u00f1ola y mujeres\",\"x\":0.755,\"xanchor\":\"center\",\"xref\":\"paper\",\"y\":0.9999999999999999,\"yanchor\":\"bottom\",\"yref\":\"paper\"}],\"legend\":{\"tracegroupgap\":0},\"title\":{\"text\":\"Distribuci\\u00f3n de edades por agrupaci\\u00f3n en 2022\"},\"barmode\":\"relative\"},                        {\"responsive\": true}                    ).then(function(){\n",
       "                            \n",
       "var gd = document.getElementById('5f06ab6c-6a71-4cf1-bbad-58d1e7100313');\n",
       "var x = new MutationObserver(function (mutations, observer) {{\n",
       "        var display = window.getComputedStyle(gd).display;\n",
       "        if (!display || display === 'none') {{\n",
       "            console.log([gd, 'removed!']);\n",
       "            Plotly.purge(gd);\n",
       "            observer.disconnect();\n",
       "        }}\n",
       "}});\n",
       "\n",
       "// Listen for the removal of the full notebook cells\n",
       "var notebookContainer = gd.closest('#notebook-container');\n",
       "if (notebookContainer) {{\n",
       "    x.observe(notebookContainer, {childList: true});\n",
       "}}\n",
       "\n",
       "// Listen for the clearing of the current output cell\n",
       "var outputEl = gd.closest('.output');\n",
       "if (outputEl) {{\n",
       "    x.observe(outputEl, {childList: true});\n",
       "}}\n",
       "\n",
       "                        })                };                });            </script>        </div>"
      ]
     },
     "metadata": {},
     "output_type": "display_data"
    }
   ],
   "source": [
    "spanish_population_age_dist_agrupation()"
   ]
  },
  {
   "cell_type": "markdown",
   "id": "8f66580f",
   "metadata": {},
   "source": [
    "Observamos que la población inmigrante es, en general, más jóven que la Española."
   ]
  },
  {
   "cell_type": "code",
   "execution_count": null,
   "id": "f7d64375",
   "metadata": {},
   "outputs": [],
   "source": []
  }
 ],
 "metadata": {
  "kernelspec": {
   "display_name": "Python 3 (ipykernel)",
   "language": "python",
   "name": "python3"
  },
  "language_info": {
   "codemirror_mode": {
    "name": "ipython",
    "version": 3
   },
   "file_extension": ".py",
   "mimetype": "text/x-python",
   "name": "python",
   "nbconvert_exporter": "python",
   "pygments_lexer": "ipython3",
   "version": "3.9.13"
  }
 },
 "nbformat": 4,
 "nbformat_minor": 5
}
